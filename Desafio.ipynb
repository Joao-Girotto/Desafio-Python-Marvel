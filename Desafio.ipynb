{
  "nbformat": 4,
  "nbformat_minor": 0,
  "metadata": {
    "colab": {
      "provenance": [],
      "authorship_tag": "ABX9TyOZoF8CD+Hz8gU8ZL2CEwyJ",
      "include_colab_link": true
    },
    "kernelspec": {
      "name": "python3",
      "display_name": "Python 3"
    },
    "language_info": {
      "name": "python"
    }
  },
  "cells": [
    {
      "cell_type": "markdown",
      "metadata": {
        "id": "view-in-github",
        "colab_type": "text"
      },
      "source": [
        "<a href=\"https://colab.research.google.com/github/Joao-Girotto/Desafio-Python-Marvel/blob/joao/Desafio.ipynb\" target=\"_parent\"><img src=\"https://colab.research.google.com/assets/colab-badge.svg\" alt=\"Open In Colab\"/></a>"
      ]
    },
    {
      "cell_type": "markdown",
      "source": [
        "## Instalações"
      ],
      "metadata": {
        "id": "zfZ-n2QCX375"
      }
    },
    {
      "cell_type": "code",
      "source": [
        "!pip install dotenv"
      ],
      "metadata": {
        "id": "KT13hN1jX764",
        "outputId": "ee10a0bf-5e8d-483a-959f-2a5bb37764b7",
        "colab": {
          "base_uri": "https://localhost:8080/"
        }
      },
      "execution_count": 1,
      "outputs": [
        {
          "output_type": "stream",
          "name": "stdout",
          "text": [
            "Collecting dotenv\n",
            "  Downloading dotenv-0.9.9-py2.py3-none-any.whl.metadata (279 bytes)\n",
            "Collecting python-dotenv (from dotenv)\n",
            "  Downloading python_dotenv-1.1.0-py3-none-any.whl.metadata (24 kB)\n",
            "Downloading dotenv-0.9.9-py2.py3-none-any.whl (1.9 kB)\n",
            "Downloading python_dotenv-1.1.0-py3-none-any.whl (20 kB)\n",
            "Installing collected packages: python-dotenv, dotenv\n",
            "Successfully installed dotenv-0.9.9 python-dotenv-1.1.0\n"
          ]
        }
      ]
    },
    {
      "cell_type": "markdown",
      "source": [
        "## Importações"
      ],
      "metadata": {
        "id": "TivNY55WXDW7"
      }
    },
    {
      "cell_type": "code",
      "source": [
        "import requests\n",
        "import hashlib\n",
        "import os\n",
        "import time\n",
        "import pandas as pd\n",
        "import sqlite3\n",
        "import json\n",
        "from dotenv import load_dotenv\n",
        "from google.colab import userdata\n",
        "import plotly.express as px\n",
        "import matplotlib.pyplot as plt\n",
        "import matplotlib.cm as cm\n",
        "import numpy as np\n",
        "import regex as re"
      ],
      "metadata": {
        "id": "uJi_FpQ0XJje"
      },
      "execution_count": 19,
      "outputs": []
    },
    {
      "cell_type": "markdown",
      "source": [
        "## Pegando as chaves"
      ],
      "metadata": {
        "id": "C9Z3SJZZXUqL"
      }
    },
    {
      "cell_type": "code",
      "source": [
        "# load_dotenv()\n",
        "# PUBLIC_KEY = os.getenv(\"Public_Key\")\n",
        "# PRIVATE_KEY = os.getenv(\"Private_Key\")\n",
        "\n",
        "PRIVATE_KEY = userdata.get(\"Private_Key\")\n",
        "PUBLIC_KEY = userdata.get(\"Public_Key\")\n"
      ],
      "metadata": {
        "id": "IF71H-aLXYnG"
      },
      "execution_count": 34,
      "outputs": []
    },
    {
      "cell_type": "markdown",
      "source": [
        "## Endpoints e Parâmetros"
      ],
      "metadata": {
        "id": "uB07W7QkZ0N3"
      }
    },
    {
      "cell_type": "code",
      "source": [
        "ts = str(time.time())\n",
        "to_hash = ts + PRIVATE_KEY + PUBLIC_KEY\n",
        "hash_md5 = hashlib.md5(to_hash.encode()).hexdigest()\n",
        "\n",
        "endCharacters = \"https://gateway.marvel.com/v1/public/characters\"\n",
        "endComics = \"https://gateway.marvel.com/v1/public/comics\"\n",
        "endSeries = \"https://gateway.marvel.com/v1/public/series\"\n",
        "endCreators = \"https://gateway.marvel.com/v1/public/creators\"\n",
        "endEvents = \"https://gateway.marvel.com/v1/public/events\"\n",
        "endStories = \"https://gateway.marvel.com/v1/public/stories\"\n",
        "\n",
        "\n",
        "params = {\n",
        "    \"apikey\": PUBLIC_KEY,\n",
        "    \"ts\": ts,\n",
        "    \"hash\": hash_md5,\n",
        "    \"limit\": 10\n",
        "}\n"
      ],
      "metadata": {
        "id": "31vG2b7TC4wm"
      },
      "execution_count": 35,
      "outputs": []
    },
    {
      "cell_type": "markdown",
      "source": [
        "## Pegando o total de requisições"
      ],
      "metadata": {
        "id": "ChhuvLeKRIMU"
      }
    },
    {
      "cell_type": "code",
      "source": [
        "totalCharacters = requests.get(endCharacters, params=params)\n",
        "totalCharacters = totalCharacters.json()\n",
        "total = totalCharacters['data']['total']\n",
        "\n",
        "totalEvents = requests.get(endEvents, params=params)\n",
        "totalEvents = totalEvents.json()\n",
        "totalE = totalEvents['data']['total']\n",
        "\n",
        "totalCreators = requests.get(endCreators, params=params)\n",
        "totalCreators = totalCreators.json()\n",
        "totalC = totalCreators['data']['total']\n",
        "\n",
        "totalSeries = requests.get(endSeries, params=params)\n",
        "totalSeries = totalSeries.json()\n",
        "totalSe = totalSeries['data']['total']\n",
        "\n",
        "totalComics = requests.get(endComics, params=params)\n",
        "totalComics = totalComics.json()\n",
        "totalCo = totalComics['data']['total']\n",
        "\n",
        "totalStories = requests.get(endStories, params=params)\n",
        "totalStories = totalStories.json()\n",
        "totalSt = totalStories['data']['total']\n",
        "\n",
        "totalSe"
      ],
      "metadata": {
        "id": "59AfUDONRQDy",
        "outputId": "3fdb40b3-0bb7-49ac-ee09-30267de5cb6f",
        "colab": {
          "base_uri": "https://localhost:8080/"
        }
      },
      "execution_count": 39,
      "outputs": [
        {
          "output_type": "execute_result",
          "data": {
            "text/plain": [
              "15707"
            ]
          },
          "metadata": {},
          "execution_count": 39
        }
      ]
    },
    {
      "cell_type": "markdown",
      "source": [
        "## Função para realizar requisições"
      ],
      "metadata": {
        "id": "HomMsH_aZ37k"
      }
    },
    {
      "cell_type": "code",
      "source": [
        "\n",
        "def requisition(endpoint, total, step, limit, params_base=None):\n",
        "    data_array = []\n",
        "    offset = 0\n",
        "\n",
        "    if params_base is None:\n",
        "        params_base = {}\n",
        "\n",
        "    while offset <= total:\n",
        "        params = params_base.copy()\n",
        "        params['offset'] = offset\n",
        "        params['limit'] = limit\n",
        "\n",
        "        response = requests.get(endpoint, params=params)\n",
        "\n",
        "        if response.status_code != 200:\n",
        "            print(f\"Erro no offset {offset}: status code {response.status_code}\")\n",
        "            offset += step\n",
        "            continue\n",
        "\n",
        "        try:\n",
        "            data = response.json()\n",
        "        except ValueError:\n",
        "            print(f\"Erro ao converter JSON no offset {offset}\")\n",
        "            offset += step\n",
        "            continue\n",
        "\n",
        "        if not data or 'data' not in data or 'results' not in data['data']:\n",
        "            print(f\"Resposta inesperada ou vazia no offset {offset}\")\n",
        "            offset += step\n",
        "            continue\n",
        "\n",
        "        data_array.extend(data['data']['results'])\n",
        "        print(f\"Offset: {offset} | Status: {response.status_code}\")\n",
        "        offset += step\n",
        "\n",
        "    df = pd.DataFrame(data_array)\n",
        "    return df"
      ],
      "metadata": {
        "id": "AosHEI0sZ6TM",
        "collapsed": true
      },
      "execution_count": 31,
      "outputs": []
    },
    {
      "cell_type": "markdown",
      "source": [
        "## Conversão para CSV"
      ],
      "metadata": {
        "id": "eT3aCTBIu3e5"
      }
    },
    {
      "cell_type": "code",
      "source": [
        "def create_csv(df, nome_arquivo):  # Já estava praticamente correta\n",
        "\n",
        "    try:\n",
        "        df.to_csv(nome_arquivo, index=False, encoding='utf-8')\n",
        "    except Exception as e:\n",
        "        print(f'Error when creating the file {nome_arquivo}: {e}')"
      ],
      "metadata": {
        "id": "F79xHSyyu6WU"
      },
      "execution_count": 38,
      "outputs": []
    },
    {
      "cell_type": "markdown",
      "source": [
        "## Chamando as requisições"
      ],
      "metadata": {
        "id": "sKhCLjWBwQ_A"
      }
    },
    {
      "cell_type": "code",
      "source": [
        "df_characters = requisition(endCharacters, total, step=100, limit=100, params_base=params)\n",
        "create_csv(df_characters, 'Characters.csv')\n",
        "\n",
        "# Events\n",
        "df_events = requisition(endEvents, totalE, step=10, limit=10, params_base=params)\n",
        "create_csv(df_events, 'Events.csv')\n",
        "\n",
        "# Creators\n",
        "df_creators = requisition(endCreators, totalC, step=100, limit=100,  params_base=params)\n",
        "create_csv(df_creators, 'Creators.csv')"
      ],
      "metadata": {
        "id": "OoB1sW8AwT4g"
      },
      "execution_count": null,
      "outputs": []
    },
    {
      "cell_type": "markdown",
      "source": [
        "## Realizando Converções"
      ],
      "metadata": {
        "id": "XYN3BSod7ad1"
      }
    },
    {
      "cell_type": "code",
      "source": [
        "df_characters = df_characters[['name', 'id', 'description', 'comics', 'thumbnail']]\n",
        "df_events = df_events[['title', 'id', 'description', 'characters', 'creators', 'comics', 'start', 'end', 'modified']]\n",
        "df_creators = df_creators[['id', 'firstName', 'middleName', 'lastName', 'fullName', 'suffix', 'thumbnail','comics', 'events', 'stories', 'series']]\n",
        "df_characters['comics_available'] = df_characters['comics'].apply(lambda x: x.get('available'))\n",
        "df_characters['comics_returned'] = df_characters['comics'].apply(lambda x: x.get('returned'))\n",
        "df_characters['thumbnail_path'] = df_characters['thumbnail'].apply(lambda x: x.get('path'))\n",
        "df_characters['comics'] = df_characters['comics'].apply(lambda x: json.dumps(x))\n",
        "df_characters['thumbnail'] = df_characters['thumbnail'].apply(lambda x: json.dumps(x))\n",
        "df_events['comics_available'] = df_events['comics'].apply(lambda x: x.get('available'))\n",
        "df_events['comics_returned'] = df_events['comics'].apply(lambda x: x.get('returned'))\n",
        "df_events['comics'] = df_events['comics'].apply(lambda x: json.dumps(x))\n",
        "df_events['creators_available'] = df_events['creators'].apply(lambda x: x.get('available'))\n",
        "df_events['creators'] = df_events['creators'].apply(lambda x: json.dumps(x))\n",
        "df_events['characters_available'] = df_events['characters'].apply(lambda x: x.get('available'))\n",
        "df_events['characters'] = df_events['characters'].apply(lambda x: json.dumps(x))\n",
        "df_creators['comics_available'] = df_creators['comics'].apply(lambda x: x.get('available'))\n",
        "df_creators['events_available'] = df_creators['events'].apply(lambda x: x.get('available'))\n",
        "df_creators['stories_available'] = df_creators['stories'].apply(lambda x: x.get('available'))\n",
        "df_creators['series_available'] = df_creators['series'].apply(lambda x: x.get('available'))\n",
        "df_creators['thumbnail_path'] = df_creators['thumbnail'].apply(lambda x: x.get('path'))\n",
        "df_creators['comics'] = df_creators['comics'].apply(lambda x: json.dumps(x))\n",
        "df_creators['events'] = df_creators['events'].apply(lambda x: json.dumps(x))\n",
        "df_creators['series'] = df_creators['series'].apply(lambda x: json.dumps(x))\n",
        "df_creators['stories'] = df_creators['stories'].apply(lambda x: json.dumps(x))\n",
        "df_creators['thumbnail'] = df_creators['thumbnail'].apply(lambda x: json.dumps(x))"
      ],
      "metadata": {
        "id": "e1-f8Gpq7fzs"
      },
      "execution_count": null,
      "outputs": []
    },
    {
      "cell_type": "markdown",
      "source": [
        "## Salvando no Banco de Dados"
      ],
      "metadata": {
        "id": "1vDxgSmIaRAK"
      }
    },
    {
      "cell_type": "code",
      "source": [
        "con = sqlite3.connect('Marvel.db')\n",
        "df_characters.to_sql(\"characters\", con, if_exists=\"replace\", index=False)\n",
        "df_events.to_sql(\"events\", con, if_exists=\"replace\", index=False)\n",
        "df_creators.to_sql(\"creators\", con, if_exists=\"replace\", index=False)\n",
        "con.close()"
      ],
      "metadata": {
        "id": "PvW6DorNgeK5",
        "collapsed": true
      },
      "execution_count": null,
      "outputs": []
    },
    {
      "cell_type": "markdown",
      "source": [
        "## Salvando Com funções em Banco de Dados"
      ],
      "metadata": {
        "id": "hVuz04e1srmV"
      }
    },
    {
      "cell_type": "code",
      "source": [
        "def query_db(query, params=None, db='Marvel.db'):\n",
        "  try:\n",
        "    with sqlite3.connect(db) as con:\n",
        "      return pd.read_sql_query(query, con, params)\n",
        "\n",
        "  except Exception as e:\n",
        "    print(f'Erro com a database: {e}')\n",
        "    return pd.DataFrame()\n",
        "\n",
        "def series_add_db(df):  # Agora recebe um DataFrame\n",
        "\n",
        "    def calculateDuration(row):\n",
        "        return 999 if row['endYear'] == 2099 else row['endYear'] - row['startYear']\n",
        "\n",
        "    def function_dict(x):\n",
        "        creators = [item['name'] for item in x['items']] if isinstance(x, dict) and 'items' in x else []\n",
        "        return ', '.join(creators)\n",
        "\n",
        "    def amount(x):\n",
        "        return x.get('available', 0)\n",
        "\n",
        "    with sqlite3.connect('Marvel.db') as con:\n",
        "        df['duration'] = df.apply(calculateDuration, axis=1)\n",
        "        df['creator_name'] = df['creators'].apply(function_dict)\n",
        "        df['character_qty'] = df['characters'].apply(amount)\n",
        "        df['creator_qty'] = df['creators'].apply(amount)\n",
        "        df['story_qty'] = df['stories'].apply(amount)\n",
        "        df['event_qty'] = df['events'].apply(amount)\n",
        "        df['comic_qty'] = df['comics'].apply(amount)\n",
        "\n",
        "        df = df[['id', 'title', 'description', 'startYear', 'endYear',\n",
        "                 'rating', 'type', 'duration', 'creator_name', 'creator_qty',\n",
        "                 'character_qty', 'story_qty', 'event_qty', 'comic_qty']]\n",
        "\n",
        "        df.to_sql(\"series\", con, if_exists=\"append\", index=False)\n",
        "\n",
        "def comics_add_db(df):  # Agora recebe um DataFrame\n",
        "\n",
        "    def funcao_series(x):\n",
        "        return x.get('name', '') if isinstance(x, dict) else ''\n",
        "\n",
        "    def funcao_price(x):\n",
        "        if isinstance(x, list) and len(x) > 0 and isinstance(x[0], dict):\n",
        "            return x[0].get('price', '')\n",
        "        return ''\n",
        "\n",
        "    with sqlite3.connect('Marvel.db') as con:\n",
        "        df['price'] = df['prices'].apply(funcao_price)\n",
        "        df['series_name'] = df['series'].apply(funcao_series)\n",
        "\n",
        "        df = df[['id', 'digitalId', 'title', 'issueNumber', 'description',\n",
        "                 'format', 'pageCount', 'series_name', 'price']]\n",
        "\n",
        "        df.to_sql(\"comics\", con, if_exists=\"append\", index=False)\n",
        "\n",
        "\n",
        "\n",
        "def stories_add_db(df):  # Agora recebe um DataFrame\n",
        "    with sqlite3.connect('Marvel.db') as con:\n",
        "        df = df[['id', 'title', 'description', 'type']]\n",
        "        df.to_sql(\"stories\", con, if_exists=\"append\", index=False)"
      ],
      "metadata": {
        "id": "e3weoWfHswd_"
      },
      "execution_count": 3,
      "outputs": []
    },
    {
      "cell_type": "markdown",
      "source": [
        "## Adicionando mais Endpoints ao Banco"
      ],
      "metadata": {
        "id": "ZdLDyYrCvegJ"
      }
    },
    {
      "cell_type": "code",
      "source": [
        "df_series = requisition(endSeries, totalSe, step=100, limit=100, params_base=params)\n",
        "create_csv(df_series, nome_arquivo='Series.csv')\n",
        "series_add_db(df_series)\n",
        "\n",
        "df_comics = requisition(endComics, total, step=100, limit=100, params_base=params)\n",
        "create_csv(df_comics, nome_arquivo='Comics.csv')\n",
        "series_add_db(df_comics)\n",
        "\n",
        "df_stories = requisition(endStories, total, step=100, limit=100, params_base=params)\n",
        "create_csv(df_stories, nome_arquivo='Stories.csv')\n",
        "series_add_db(df_stories)\n"
      ],
      "metadata": {
        "id": "y-zL8vK6vjAv",
        "outputId": "c910a2a3-b2ce-4cdd-8dd0-05b7daab70a7",
        "colab": {
          "base_uri": "https://localhost:8080/"
        }
      },
      "execution_count": 40,
      "outputs": [
        {
          "output_type": "stream",
          "name": "stdout",
          "text": [
            "Offset: 0 | Status: 200\n",
            "Offset: 100 | Status: 200\n",
            "Offset: 200 | Status: 200\n",
            "Offset: 300 | Status: 200\n",
            "Offset: 400 | Status: 200\n",
            "Offset: 500 | Status: 200\n",
            "Offset: 600 | Status: 200\n",
            "Offset: 700 | Status: 200\n",
            "Offset: 800 | Status: 200\n",
            "Offset: 900 | Status: 200\n",
            "Offset: 1000 | Status: 200\n",
            "Offset: 1100 | Status: 200\n",
            "Offset: 1200 | Status: 200\n",
            "Offset: 1300 | Status: 200\n",
            "Offset: 1400 | Status: 200\n",
            "Offset: 1500 | Status: 200\n",
            "Offset: 1600 | Status: 200\n",
            "Offset: 1700 | Status: 200\n",
            "Offset: 1800 | Status: 200\n",
            "Offset: 1900 | Status: 200\n",
            "Offset: 2000 | Status: 200\n",
            "Offset: 2100 | Status: 200\n",
            "Offset: 2200 | Status: 200\n",
            "Offset: 2300 | Status: 200\n",
            "Offset: 2400 | Status: 200\n",
            "Offset: 2500 | Status: 200\n",
            "Offset: 2600 | Status: 200\n",
            "Offset: 2700 | Status: 200\n",
            "Offset: 2800 | Status: 200\n",
            "Offset: 2900 | Status: 200\n",
            "Offset: 3000 | Status: 200\n",
            "Offset: 3100 | Status: 200\n",
            "Offset: 3200 | Status: 200\n",
            "Offset: 3300 | Status: 200\n",
            "Offset: 3400 | Status: 200\n",
            "Offset: 3500 | Status: 200\n",
            "Offset: 3600 | Status: 200\n",
            "Offset: 3700 | Status: 200\n",
            "Offset: 3800 | Status: 200\n",
            "Offset: 3900 | Status: 200\n",
            "Offset: 4000 | Status: 200\n",
            "Offset: 4100 | Status: 200\n",
            "Offset: 4200 | Status: 200\n",
            "Offset: 4300 | Status: 200\n",
            "Offset: 4400 | Status: 200\n",
            "Offset: 4500 | Status: 200\n",
            "Offset: 4600 | Status: 200\n",
            "Offset: 4700 | Status: 200\n",
            "Offset: 4800 | Status: 200\n",
            "Offset: 4900 | Status: 200\n",
            "Offset: 5000 | Status: 200\n",
            "Offset: 5100 | Status: 200\n",
            "Offset: 5200 | Status: 200\n",
            "Offset: 5300 | Status: 200\n",
            "Offset: 5400 | Status: 200\n",
            "Offset: 5500 | Status: 200\n",
            "Offset: 5600 | Status: 200\n",
            "Offset: 5700 | Status: 200\n",
            "Offset: 5800 | Status: 200\n",
            "Offset: 5900 | Status: 200\n",
            "Offset: 6000 | Status: 200\n",
            "Offset: 6100 | Status: 200\n",
            "Offset: 6200 | Status: 200\n",
            "Offset: 6300 | Status: 200\n",
            "Offset: 6400 | Status: 200\n",
            "Offset: 6500 | Status: 200\n",
            "Offset: 6600 | Status: 200\n",
            "Offset: 6700 | Status: 200\n",
            "Offset: 6800 | Status: 200\n",
            "Offset: 6900 | Status: 200\n",
            "Offset: 7000 | Status: 200\n",
            "Offset: 7100 | Status: 200\n",
            "Offset: 7200 | Status: 200\n",
            "Offset: 7300 | Status: 200\n",
            "Offset: 7400 | Status: 200\n",
            "Offset: 7500 | Status: 200\n",
            "Offset: 7600 | Status: 200\n",
            "Offset: 7700 | Status: 200\n",
            "Offset: 7800 | Status: 200\n",
            "Offset: 7900 | Status: 200\n",
            "Offset: 8000 | Status: 200\n",
            "Offset: 8100 | Status: 200\n",
            "Offset: 8200 | Status: 200\n",
            "Offset: 8300 | Status: 200\n",
            "Offset: 8400 | Status: 200\n",
            "Offset: 8500 | Status: 200\n",
            "Offset: 8600 | Status: 200\n",
            "Offset: 8700 | Status: 200\n",
            "Offset: 8800 | Status: 200\n",
            "Offset: 8900 | Status: 200\n",
            "Offset: 9000 | Status: 200\n",
            "Offset: 9100 | Status: 200\n",
            "Offset: 9200 | Status: 200\n",
            "Offset: 9300 | Status: 200\n",
            "Offset: 9400 | Status: 200\n",
            "Offset: 9500 | Status: 200\n",
            "Offset: 9600 | Status: 200\n",
            "Offset: 9700 | Status: 200\n",
            "Offset: 9800 | Status: 200\n",
            "Offset: 9900 | Status: 200\n",
            "Offset: 10000 | Status: 200\n",
            "Offset: 10100 | Status: 200\n",
            "Offset: 10200 | Status: 200\n",
            "Offset: 10300 | Status: 200\n",
            "Offset: 10400 | Status: 200\n",
            "Offset: 10500 | Status: 200\n",
            "Offset: 10600 | Status: 200\n",
            "Offset: 10700 | Status: 200\n",
            "Offset: 10800 | Status: 200\n",
            "Offset: 10900 | Status: 200\n",
            "Offset: 11000 | Status: 200\n",
            "Offset: 11100 | Status: 200\n",
            "Offset: 11200 | Status: 200\n",
            "Offset: 11300 | Status: 200\n",
            "Offset: 11400 | Status: 200\n",
            "Offset: 11500 | Status: 200\n",
            "Offset: 11600 | Status: 200\n",
            "Offset: 11700 | Status: 200\n",
            "Offset: 11800 | Status: 200\n",
            "Offset: 11900 | Status: 200\n",
            "Offset: 12000 | Status: 200\n",
            "Offset: 12100 | Status: 200\n",
            "Offset: 12200 | Status: 200\n",
            "Offset: 12300 | Status: 200\n",
            "Offset: 12400 | Status: 200\n",
            "Offset: 12500 | Status: 200\n",
            "Offset: 12600 | Status: 200\n",
            "Offset: 12700 | Status: 200\n",
            "Offset: 12800 | Status: 200\n",
            "Offset: 12900 | Status: 200\n",
            "Offset: 13000 | Status: 200\n",
            "Offset: 13100 | Status: 200\n",
            "Offset: 13200 | Status: 200\n",
            "Offset: 13300 | Status: 200\n",
            "Offset: 13400 | Status: 200\n",
            "Offset: 13500 | Status: 200\n",
            "Offset: 13600 | Status: 200\n",
            "Offset: 13700 | Status: 200\n",
            "Offset: 13800 | Status: 200\n",
            "Offset: 13900 | Status: 200\n",
            "Offset: 14000 | Status: 200\n",
            "Offset: 14100 | Status: 200\n",
            "Offset: 14200 | Status: 200\n",
            "Offset: 14300 | Status: 200\n",
            "Offset: 14400 | Status: 200\n",
            "Offset: 14500 | Status: 200\n",
            "Offset: 14600 | Status: 200\n",
            "Offset: 14700 | Status: 200\n",
            "Offset: 14800 | Status: 200\n",
            "Offset: 14900 | Status: 200\n",
            "Offset: 15000 | Status: 200\n",
            "Offset: 15100 | Status: 200\n",
            "Offset: 15200 | Status: 200\n",
            "Offset: 15300 | Status: 200\n",
            "Offset: 15400 | Status: 200\n",
            "Offset: 15500 | Status: 200\n",
            "Offset: 15600 | Status: 200\n",
            "Offset: 15700 | Status: 200\n"
          ]
        }
      ]
    },
    {
      "cell_type": "markdown",
      "source": [
        "## Consultando o Banco de Dados"
      ],
      "metadata": {
        "id": "uAPlhTz0hOIR"
      }
    },
    {
      "cell_type": "code",
      "source": [
        "con2 = sqlite3.connect('Marvel.db')\n",
        "\n",
        "df2 = pd.read_sql_query(\"SELECT id, name, description, comics, comics_available, comics_returned FROM characters\", con2)\n",
        "\n",
        "query1 = \"\"\"\n",
        "SELECT SUBSTR(name, 1, 1) AS letra_inicial, COUNT(*) AS total_por_letra\n",
        "FROM characters\n",
        "GROUP BY letra_inicial\n",
        "ORDER BY letra_inicial;\n",
        "\"\"\"\n",
        "query2 = \"\"\"\n",
        "SELECT id, name, comics_available\n",
        "FROM characters\n",
        "ORDER BY comics_available DESC\n",
        "LIMIT 10;\n",
        "\"\"\"\n",
        "\n",
        "query3 = \"\"\"\n",
        "SELECT id, name, description, comics_available\n",
        "FROM characters\n",
        "WHERE description IS NOT NULL AND description != '';\n",
        "\"\"\"\n",
        "\n",
        "query3_1 = \"\"\"\n",
        "SELECT\n",
        "  COUNT (*) FILTER (WHERE description IS NOT NULL AND description != '') AS com_descricao,\n",
        "  COUNT (*) FILTER (WHERE description IS NULL OR description = '') AS sem_descricao\n",
        "FROM characters;\n",
        "\"\"\"\n",
        "\n",
        "query4 = \"\"\"\n",
        "SELECT title, comics_available\n",
        "FROM events\n",
        "ORDER BY comics_available DESC\n",
        "LIMIT 10;\n",
        "\"\"\"\n",
        "\n",
        "query5 = \"\"\"\n",
        "SELECT title,\n",
        "       strftime('%d/%m/%Y', start) AS start_formatted,\n",
        "       strftime('%d/%m/%Y', end) AS end_formatted,\n",
        "       CAST((julianday(end) - julianday(start)) / 365.25 AS INTEGER) AS duration_in_years,\n",
        "       comics_available\n",
        "FROM events\n",
        "WHERE julianday(start) <= julianday('2025-05-16') AND julianday(end) <= julianday('2025-05-16')\n",
        "ORDER BY julianday(end) - julianday(start) DESC;\n",
        "\"\"\"\n",
        "\n",
        "query6 = \"\"\"\n",
        "SELECT title,\n",
        "       strftime('%d/%m/%Y', SUBSTR(modified, 1, 10)) AS modified,\n",
        "       strftime('%d/%m/%Y', start) AS start,\n",
        "       strftime('%d/%m/%Y', end) AS end\n",
        "FROM events\n",
        "ORDER BY SUBSTR(modified, 1, 4) DESC;\n",
        "\"\"\"\n",
        "\n",
        "query7 = \"\"\"\n",
        "SELECT title, characters_available, comics_available\n",
        "FROM events\n",
        "ORDER BY characters_available DESC\n",
        "LIMIT 10;\n",
        "\"\"\"\n",
        "\n",
        "query8 = \"\"\"\n",
        "SELECT title, characters_available, creators_available, comics_available\n",
        "FROM events\n",
        "WHERE characters_available > 0 AND creators_available > 0 AND comics_available > 0;\n",
        "\"\"\"\n",
        "\n",
        "\n",
        "query9 = \"\"\"\n",
        "SELECT  firstName, middleName, lastName, fullName, comics_available, events_available\n",
        "FROM creators\n",
        "ORDER BY comics_available DESC\n",
        "LIMIT 15;\n",
        "\"\"\"\n",
        "\n",
        "query10 = \"\"\"\n",
        "SELECT\n",
        "  COUNT(*) FILTER (WHERE thumbnail_path NOT LIKE '%image_not_available') AS Criadores_Com_Imagem_Associada,\n",
        "  COUNT(*) FILTER (WHERE thumbnail_path LIKE '%image_not_available') AS Criadores_Sem_Imagem_Associada\n",
        "FROM creators;\n",
        "\"\"\"\n",
        "\n",
        "query11 = \"\"\"\n",
        "SELECT\n",
        "  COUNT(*) FILTER (WHERE thumbnail_path NOT LIKE '%image_not_available') AS Personagens_Com_Imagem_Associada,\n",
        "  COUNT(*) FILTER (WHERE thumbnail_path LIKE '%image_not_available') AS Personagens_Sem_Imagem_Associada\n",
        "FROM characters;\n",
        "\"\"\"\n",
        "\n",
        "count_letters = pd.read_sql_query(query1, con2)\n",
        "most_comics_charatcers = pd.read_sql_query(query2, con2)\n",
        "description_characters = pd.read_sql_query(query3, con2)\n",
        "most_events_comics = pd.read_sql_query(query4, con2)\n",
        "most_duration_events = pd.read_sql_query(query5, con2)\n",
        "events_modified = pd.read_sql_query(query6, con2)\n",
        "events_most_characters = pd.read_sql_query(query7, con2)\n",
        "count_description = pd.read_sql_query(query3_1, con2)\n",
        "comics_per_events = pd.read_sql_query(query9, con2)\n",
        "creators_images = pd.read_sql_query(query10, con2)\n",
        "characters_images = pd.read_sql_query(query11, con2)\n",
        "\n",
        "con2.close()"
      ],
      "metadata": {
        "id": "g6FrJnv1hTrf"
      },
      "execution_count": null,
      "outputs": []
    },
    {
      "cell_type": "markdown",
      "source": [
        "# Funções Auxiliares"
      ],
      "metadata": {
        "id": "739CsLVS5WGx"
      }
    },
    {
      "cell_type": "code",
      "source": [
        "def plot_pie_charts(df, colors=None, figsize=(10, 6)):\n",
        "    # Plotar os gráficos de pizza\n",
        "    df_transposed = df.transpose()\n",
        "\n",
        "    axes = df_transposed.plot.pie(\n",
        "        subplots=True,\n",
        "        autopct='%1.1f%%',\n",
        "        figsize=figsize,\n",
        "        legend=False,\n",
        "        startangle=90,\n",
        "        colors=colors\n",
        "    )\n",
        "\n",
        "    # Títulos e ajustes\n",
        "    for ax, col in zip(axes, df_transposed.columns):\n",
        "        ax.set_ylabel('')  # Remove rótulo do eixo Y\n",
        "        ax.set_title(col, fontsize=12, fontweight='bold')\n",
        "\n",
        "    plt.tight_layout()\n",
        "    plt.show()\n",
        "\n",
        "def verify_first_letters(nome_completo):\n",
        "  partes_nome = nome_completo.split()\n",
        "  if len(partes_nome) >= 2:\n",
        "    nome = partes_nome[0]\n",
        "    sobrenome = partes_nome[-1] # Pega a última parte como sobrenome\n",
        "    if nome and sobrenome: # Verifica se nome e sobrenome não são vazios\n",
        "      return nome[0].lower() == sobrenome[0].lower()\n",
        "  return False # Retorna False se não for possível verificar (nome curto ou vazio)\n",
        "\n",
        "def plot_side_by_side_pies(series1, series2, titles=None, colors=None, figsize=(12, 6)):\n",
        "    fig, axes = plt.subplots(1, 2, figsize=figsize)\n",
        "\n",
        "    series1.plot.pie(\n",
        "        ax=axes[0],\n",
        "        autopct='%1.1f%%',\n",
        "        startangle=90,\n",
        "        colors=colors,\n",
        "        legend=False\n",
        "    )\n",
        "\n",
        "    series2.plot.pie(\n",
        "        ax=axes[1],\n",
        "        autopct='%1.1f%%',\n",
        "        startangle=90,\n",
        "        colors=colors,\n",
        "        legend=False\n",
        "    )\n",
        "\n",
        "    if titles:\n",
        "        axes[0].set_title(titles[0], fontsize=12, fontweight='bold')\n",
        "        axes[1].set_title(titles[1], fontsize=12, fontweight='bold')\n",
        "\n",
        "    axes[0].set_ylabel('')\n",
        "    axes[1].set_ylabel('')\n",
        "\n",
        "    plt.tight_layout()\n",
        "    plt.show()\n",
        "\n",
        "\n",
        "def plot(dataframe ,title, x_label, y_label, grid='y', kind='bar', color='purple', rotation=90, show=True, **kwargs):\n",
        "  ax = dataframe.plot(kind=kind, color=color, title=title, **kwargs)\n",
        "  ax.set_xlabel(x_label)\n",
        "  ax.set_ylabel(y_label)\n",
        "  plt.xticks(rotation=rotation)\n",
        "  plt.tight_layout()\n",
        "  plt.grid(axis=grid)\n",
        "\n",
        "  if show:\n",
        "    plt.show()\n",
        "\n",
        "  return ax"
      ],
      "metadata": {
        "id": "8wiC2xoB5ZLv"
      },
      "execution_count": 8,
      "outputs": []
    },
    {
      "cell_type": "markdown",
      "source": [
        "# Funções Series"
      ],
      "metadata": {
        "id": "f1gQlUjxwVGy"
      }
    },
    {
      "cell_type": "markdown",
      "source": [
        "## Função para analisar a quatidade de séries por ano"
      ],
      "metadata": {
        "id": "FSqRhmg8waSC"
      }
    },
    {
      "cell_type": "code",
      "source": [
        "def series_by_year(dataframe, show_plot=False):\n",
        "  series_year = dataframe[(dataframe['startYear'] > 0) & (dataframe['startYear'] < 2029)]['startYear'].value_counts().sort_index()\n",
        "\n",
        "  if show_plot:\n",
        "    plot(dataframe=series_year, title='Séries por Década', x_label='Década',\n",
        "         y_label='Quantidade de Séries', figsize=(20, 6))\n",
        "\n",
        "  return series_year"
      ],
      "metadata": {
        "id": "AdiDIsuSwYNv"
      },
      "execution_count": 9,
      "outputs": []
    },
    {
      "cell_type": "markdown",
      "source": [
        "## Função para analisar a média de duração das séries"
      ],
      "metadata": {
        "id": "Ow4UsYUAwlkA"
      }
    },
    {
      "cell_type": "code",
      "source": [
        "def series_average_duration(dataframe, show_plot=False):\n",
        "  anos_series = dataframe[(dataframe['duration'] >= 0) &(dataframe['duration'] < 999)]['duration'].value_counts().sort_index().head(10) ## 999 definido para séries em produção\n",
        "\n",
        "  if show_plot:\n",
        "    plot(dataframe=anos_series, title='Series: Média da duração das series', x_label='Duração (anos)',\n",
        "         y_label='Quantidade de séries')\n",
        "\n",
        "  media = dataframe[(dataframe['duration'] >= 0) &(dataframe['duration'] < 999)]['duration'].mean() ## 999 definido para séries em produção\n",
        "  return anos_series, media"
      ],
      "metadata": {
        "id": "PmnyqurJwiZ2"
      },
      "execution_count": 10,
      "outputs": []
    },
    {
      "cell_type": "markdown",
      "source": [
        "## Função para analisar a distribuição das classificações"
      ],
      "metadata": {
        "id": "OLs3SKOlwtL9"
      }
    },
    {
      "cell_type": "code",
      "source": [
        "def series_distribution_rating(dataframe, show_plot=False):\n",
        "  media = dataframe[dataframe['rating'] != '']['rating'].value_counts()\n",
        "\n",
        "  if show_plot:\n",
        "    plot(dataframe=media, x_label='Classificação etária', y_label='Quantidade de séries',\n",
        "         title='Distribuição classificatória de faixa etária')\n",
        "\n",
        "  return media"
      ],
      "metadata": {
        "id": "I6NHlXTpwrqe"
      },
      "execution_count": 11,
      "outputs": []
    },
    {
      "cell_type": "markdown",
      "source": [
        "## Função para analisar a distribuição dos tipos"
      ],
      "metadata": {
        "id": "CMXk4w2Jwz7b"
      }
    },
    {
      "cell_type": "code",
      "source": [
        "def series_distribuition_type(dataframe, show_plot=False):\n",
        "  series_type = dataframe[dataframe['type'] != '']['type'].value_counts()\n",
        "\n",
        "  if show_plot:\n",
        "    plot(dataframe=series_type, x_label='Tipo', title='Distribuição dos tipos de séries',\n",
        "         y_label='Quantidade de séries')\n",
        "\n",
        "  return series_type"
      ],
      "metadata": {
        "id": "RSi40NZmw0nt"
      },
      "execution_count": 12,
      "outputs": []
    },
    {
      "cell_type": "markdown",
      "source": [
        "## Função para analisar a quantidade de personagens por ano"
      ],
      "metadata": {
        "id": "iEqgzmhaw30i"
      }
    },
    {
      "cell_type": "code",
      "source": [
        "def series_quantity_characters_year(dataframe, show_plot=False):\n",
        "  tempo = dataframe[(dataframe['character_qty'] > 0) & (dataframe['startYear'] > 1900) & (dataframe['startYear'] < 2029)].groupby('startYear')['character_qty'].sum()\n",
        "  falta_anos = pd.Series(0, index=range(1939, 2025))\n",
        "  arrumado =  falta_anos.add(tempo, fill_value=0)\n",
        "\n",
        "  if show_plot:\n",
        "    plot(dataframe=arrumado, title='Quantidade de personagens por ano', x_label='Ano', y_label='Quantidade de personagens', figsize=(20, 6))\n",
        "\n",
        "  return arrumado"
      ],
      "metadata": {
        "id": "ba41_m2Rw6Rl"
      },
      "execution_count": 13,
      "outputs": []
    },
    {
      "cell_type": "markdown",
      "source": [
        "# Funções Comics"
      ],
      "metadata": {
        "id": "HFs_aiWzw9XT"
      }
    },
    {
      "cell_type": "markdown",
      "source": [
        "## Função para contar a quatidade de cada formato"
      ],
      "metadata": {
        "id": "RexGeLcpxKG6"
      }
    },
    {
      "cell_type": "code",
      "source": [
        "def comics_count_format(dataFrame, show_plot=False): ## O DataFrame deve ser o DataFrame pós-adição no banco de dados, com os headers HTTP já removidos\n",
        "  format = dataFrame[dataFrame['format'] != '']['format'].value_counts()\n",
        "\n",
        "  if show_plot:\n",
        "\n",
        "    fig = px.bar(\n",
        "        format,\n",
        "        x=format.index,\n",
        "        y=format.values,\n",
        "        labels={'x': 'Formato', 'y': 'Quantidade de comics'},\n",
        "        title='Quantidade de cada tipo',\n",
        "        color_discrete_sequence=['purple']\n",
        "    )\n",
        "\n",
        "    fig.update_layout(\n",
        "        xaxis_title='Formato',\n",
        "        yaxis_title='Quantidade de comics',\n",
        "        xaxis_tickangle=-45\n",
        "    )\n",
        "\n",
        "    fig.show()\n",
        "\n",
        "  return format"
      ],
      "metadata": {
        "id": "Wmkr1HbLxH_U"
      },
      "execution_count": 14,
      "outputs": []
    },
    {
      "cell_type": "markdown",
      "source": [
        "## Função para contar a média de preço das comics sobre o tempo"
      ],
      "metadata": {
        "id": "Wg3OTtWgxN3D"
      }
    },
    {
      "cell_type": "code",
      "source": [
        "def comics_average_price_over_time(dataframe, show_plot=False): ## O DataFrame deve ser o DataFrame pós-adição no banco de dados, com os headers HTTP já removidos\n",
        "  def extract_number(text):\n",
        "    match = re.findall(r'\\d+', text)\n",
        "    return int(match[0]) if match else None\n",
        "\n",
        "  dataframe['year'] = dataframe['title'].apply(extract_number)\n",
        "  price_over_time = dataframe[['year', 'price']]\n",
        "  price_over_time = price_over_time[(price_over_time['year'] > 1900) & (price_over_time['year'] < 2050)]\n",
        "  price_filter = price_over_time.query('price > 0 and price < 20').copy()\n",
        "  price_filter = price_filter.dropna()\n",
        "  price_filter_average = price_filter.groupby('year').mean()\n",
        "\n",
        "  if show_plot:\n",
        "    plt.figure(figsize=(20, 6))\n",
        "    plt.plot(price_filter_average.index, price_filter_average['price'], color='purple', label='Preço Médio')\n",
        "    plt.scatter(price_filter['year'], price_filter['price'], color='grey', label='Preços individuais', alpha=0.4, s=10)\n",
        "\n",
        "  return price_filter_average"
      ],
      "metadata": {
        "id": "U19hZSjJxPjM"
      },
      "execution_count": 15,
      "outputs": []
    },
    {
      "cell_type": "markdown",
      "source": [
        "## Função para contar a média de páginas das comics sobre o tempo"
      ],
      "metadata": {
        "id": "C52Jc08bxRhx"
      }
    },
    {
      "cell_type": "code",
      "source": [
        "def comics_average_pages_over_time(dataframe, show_plot=False): ## O DataFrame deve ser o DataFrame pós-adição no banco de dados, com os headers HTTP já removidos\n",
        "  def extract_number(text):\n",
        "    match = re.findall(r'\\d+', text)\n",
        "    return int(match[0]) if match else None\n",
        "\n",
        "  dataframe['year'] = dataframe['title'].apply(extract_number)\n",
        "  pages_over_time = dataframe[['year', 'pageCount']]\n",
        "  pages_over_time = pages_over_time[(pages_over_time['year'] > 1900) & (pages_over_time['year'] < 2050)]\n",
        "  pages_filter = pages_over_time.query('pageCount > 0 and pageCount < 200')\n",
        "  pages_filter = pages_filter.dropna()\n",
        "  pags_filter_average = pages_filter.groupby('year').mean()\n",
        "\n",
        "  if show_plot:\n",
        "    plot(dataframe=pags_filter_average, title='Média de páginas', x_label='Ano', y_label='Média de páginas', kind='line')\n",
        "\n",
        "  return pags_filter_average"
      ],
      "metadata": {
        "id": "29Y49R7_xTqO"
      },
      "execution_count": 16,
      "outputs": []
    },
    {
      "cell_type": "markdown",
      "source": [
        "# Funções Stories"
      ],
      "metadata": {
        "id": "jM_jLilWxWb8"
      }
    },
    {
      "cell_type": "markdown",
      "source": [
        "## Função para calcular a quantidade de cada tipo de stories"
      ],
      "metadata": {
        "id": "o-yddvsMxbws"
      }
    },
    {
      "cell_type": "code",
      "source": [
        "def stories_quantity_type(dataframe, show_plot=False): ## O DataFrame deve ser o DataFrame pós-adição no banco de dados, com os headers HTTP já removidos\n",
        "  types = dataframe[dataframe['type'] != '']['type'].value_counts()\n",
        "\n",
        "  if show_plot:\n",
        "\n",
        "    fig = px.bar(\n",
        "        types,\n",
        "        x=types.index,\n",
        "        y=types.values,\n",
        "        labels={'x': 'Tipo', 'y': 'Quantidade'},\n",
        "        title='Quantidade de cada tipo',\n",
        "        color_discrete_sequence=['purple']\n",
        "    )\n",
        "\n",
        "    fig.update_layout(\n",
        "        xaxis_title='Tipos',\n",
        "        yaxis_title='Quantidade',\n",
        "        xaxis_tickangle=-45\n",
        "    )\n",
        "\n",
        "    fig.show()\n",
        "\n",
        "  return types"
      ],
      "metadata": {
        "id": "NUq1e1N9xYl1"
      },
      "execution_count": 17,
      "outputs": []
    },
    {
      "cell_type": "markdown",
      "source": [
        "## Selecionando do Banco de Dados"
      ],
      "metadata": {
        "id": "ERfPKiOoxwST"
      }
    },
    {
      "cell_type": "code",
      "source": [
        "dataSeries = query_db('SELECT * FROM series')\n",
        "dataComics = query_db('SELECT * FROM comics')\n",
        "dataStories = query_db('SELECT * FROM stories')"
      ],
      "metadata": {
        "id": "JatKpK2fxyyO"
      },
      "execution_count": 6,
      "outputs": []
    },
    {
      "cell_type": "markdown",
      "source": [
        "# Characters"
      ],
      "metadata": {
        "id": "ACNR8XrpvIqs"
      }
    },
    {
      "cell_type": "markdown",
      "source": [
        "## INSIGHT 1 Characters - Criando função para selecionar entidades que tenham nome aliterativo"
      ],
      "metadata": {
        "id": "gTT52rvk2lMu"
      }
    },
    {
      "cell_type": "code",
      "source": [
        "# Aplica a função à coluna 'name' e cria uma nova coluna booleana\n",
        "df_characters['nome_sobrenome'] = df2['name'].apply(verify_first_letters)\n",
        "\n",
        "# Para ver os personagens que atendem à condição\n",
        "df_same_letter = df_characters[df_characters['nome_sobrenome']]\n",
        "df_same_letter[['name', 'nome_sobrenome']]"
      ],
      "metadata": {
        "id": "AV5BPYZmm_lC"
      },
      "execution_count": null,
      "outputs": []
    },
    {
      "cell_type": "markdown",
      "source": [
        "## INSIGHT 2 Characters - Número de entidades por letra"
      ],
      "metadata": {
        "id": "LDuXR3vVxJ7n"
      }
    },
    {
      "cell_type": "code",
      "source": [
        "count_letters"
      ],
      "metadata": {
        "id": "iwW3ug7byRKB"
      },
      "execution_count": null,
      "outputs": []
    },
    {
      "cell_type": "markdown",
      "source": [
        "## INSIGHT 2 Characters - Gráfico"
      ],
      "metadata": {
        "id": "YhxSTXt2ySdI"
      }
    },
    {
      "cell_type": "code",
      "source": [
        "count_letters.plot.bar(x='letra_inicial', y='total_por_letra', legend=False)"
      ],
      "metadata": {
        "id": "2_J3ndMAxMW7"
      },
      "execution_count": null,
      "outputs": []
    },
    {
      "cell_type": "markdown",
      "source": [
        "## INSIGHT 3 Characters - Demonstração dos 10 personagens que tem mais quadrinhos"
      ],
      "metadata": {
        "id": "MknJYtOc_Wuq"
      }
    },
    {
      "cell_type": "code",
      "source": [
        "most_comics_charatcers.plot.bar(x='name', y='comics_available')"
      ],
      "metadata": {
        "id": "ZEymkeyC_dLV"
      },
      "execution_count": null,
      "outputs": []
    },
    {
      "cell_type": "markdown",
      "source": [
        "## INSIGHT 4 Characters - Tabela e Gráfico comparativo de Personagens que tem descrição"
      ],
      "metadata": {
        "id": "ENVHBZAtqj9w"
      }
    },
    {
      "cell_type": "code",
      "source": [
        "description_characters"
      ],
      "metadata": {
        "id": "347Jr-7_qqwK"
      },
      "execution_count": null,
      "outputs": []
    },
    {
      "cell_type": "code",
      "source": [
        "plot_pie_charts(count_description)"
      ],
      "metadata": {
        "id": "ChyY9a8oMx-m"
      },
      "execution_count": null,
      "outputs": []
    },
    {
      "cell_type": "markdown",
      "source": [
        "## INSIGHT 5 Characters - Gráfico de personagens que tem imagens e uma comparação a quantidade de Persongagens que tem descrição"
      ],
      "metadata": {
        "id": "tpNmuAuj5uP0"
      }
    },
    {
      "cell_type": "code",
      "source": [
        "plot_pie_charts(characters_images)"
      ],
      "metadata": {
        "id": "gAWTQx4y51_g"
      },
      "execution_count": null,
      "outputs": []
    },
    {
      "cell_type": "code",
      "source": [
        "plot_side_by_side_pies(\n",
        "    count_description.iloc[0],\n",
        "    characters_images.iloc[0],\n",
        "    titles=[\"Distribuição de Descrição\", \"Distribuição de Imagem\"],\n",
        "    colors=['#66c2a5', '#fc8d62']\n",
        ")"
      ],
      "metadata": {
        "id": "zfSCHZooJRKe"
      },
      "execution_count": null,
      "outputs": []
    },
    {
      "cell_type": "markdown",
      "source": [
        "# Events"
      ],
      "metadata": {
        "id": "OiLJYiW8vOHf"
      }
    },
    {
      "cell_type": "markdown",
      "source": [
        "## INSIGHT 1 Events - Os 10 eventos com mais histórias em quadrinhos"
      ],
      "metadata": {
        "id": "EPo9gM3R1LPC"
      }
    },
    {
      "cell_type": "code",
      "source": [
        "most_events_comics.plot.bar(x='title', y='comics_available')"
      ],
      "metadata": {
        "id": "--Om7hIbviP8"
      },
      "execution_count": null,
      "outputs": []
    },
    {
      "cell_type": "markdown",
      "source": [
        "## INSIGHT 2 Events - Os eventos com maior duração"
      ],
      "metadata": {
        "id": "SBWcODwA1r00"
      }
    },
    {
      "cell_type": "code",
      "source": [
        "most_duration_events"
      ],
      "metadata": {
        "id": "1YbLF2YR1vvF"
      },
      "execution_count": null,
      "outputs": []
    },
    {
      "cell_type": "code",
      "source": [
        "#df9\n",
        "df_timeline = events_modified.copy()\n",
        "\n",
        "# Converter datas de string para datetime\n",
        "df_timeline['start'] = pd.to_datetime(df_timeline['start'], format='%d/%m/%Y', errors='coerce')\n",
        "df_timeline['end'] = pd.to_datetime(df_timeline['end'], format='%d/%m/%Y', errors='coerce')\n",
        "\n",
        "# Remover eventos com datas inválidas\n",
        "df_timeline = df_timeline.dropna(subset=['start', 'end'])\n",
        "\n",
        "# Ordenar por data de início\n",
        "df_timeline = df_timeline.sort_values(by='start')\n",
        "plt.figure(figsize=(12, len(df_timeline) * 0.14))  # ajusta altura dinamicamente\n",
        "plt.margins(y=0)\n",
        "\n",
        "# Índice para os nomes dos eventos\n",
        "y_positions = range(len(df_timeline))\n",
        "\n",
        "# Plotar as barras horizontais\n",
        "plt.barh(\n",
        "    y=y_positions,\n",
        "    width=(df_timeline['end'] - df_timeline['start']).dt.days,\n",
        "    left=df_timeline['start'],\n",
        "    color='skyblue'\n",
        ")\n",
        "\n",
        "# Nome dos eventos no eixo Y\n",
        "plt.yticks(ticks=y_positions, labels=df_timeline['title'])\n",
        "\n",
        "# Formatando o eixo X para mostrar ano\n",
        "plt.gca().xaxis_date()\n",
        "plt.xlabel('Ano')\n",
        "plt.title('Linha do Tempo dos Eventos Marvel')\n",
        "plt.grid(True, axis='x')\n",
        "plt.tight_layout()\n",
        "plt.show()"
      ],
      "metadata": {
        "id": "yPJJo8v4w1KQ"
      },
      "execution_count": null,
      "outputs": []
    },
    {
      "cell_type": "markdown",
      "source": [
        "## INSIGHT 3 Events - Eventos modificados mais recentemente"
      ],
      "metadata": {
        "id": "UH6Do1vvd_L7"
      }
    },
    {
      "cell_type": "code",
      "source": [
        "events_modified"
      ],
      "metadata": {
        "id": "bSNf_P1weJg7"
      },
      "execution_count": null,
      "outputs": []
    },
    {
      "cell_type": "markdown",
      "source": [
        "## INSIGHT 4 Events - Distribuição de Personagens por Duração do Evento dos 10 Eventos mais longos"
      ],
      "metadata": {
        "id": "ErFdG4NPcW8h"
      }
    },
    {
      "cell_type": "code",
      "source": [
        "plt.figure(figsize=(10, 6))  # ajusta altura dinamicamente\n",
        "scatter = plt.scatter(\n",
        "    x=events_most_characters['characters_available'],\n",
        "    y=events_most_characters['title'],\n",
        "    s=events_most_characters['comics_available'] * 2,  # tamanho da bolha (ajuste o fator)\n",
        "    c=events_most_characters['comics_available'],  # cor baseada em quadrinhos\n",
        "    cmap='viridis',\n",
        "    alpha=0.7,\n",
        "    edgecolors='black'\n",
        ")\n",
        "\n",
        "plt.xlabel('Personagens Disponíveis')\n",
        "plt.ylabel('Titulo do Evento')\n",
        "plt.title('Escala dos Eventos Marvel: Relação entre Personagens e Quadrinhos')\n",
        "plt.colorbar(scatter, label='Quadrinhos Disponíveis')\n",
        "plt.grid(True)\n",
        "plt.tight_layout()\n",
        "plt.show()"
      ],
      "metadata": {
        "id": "WDO3tzUWcYlu"
      },
      "execution_count": null,
      "outputs": []
    },
    {
      "cell_type": "markdown",
      "source": [
        "# Creators"
      ],
      "metadata": {
        "id": "tspKlyyuvRXq"
      }
    },
    {
      "cell_type": "markdown",
      "source": [
        "## INSIGHT 1 Creators - Distribuição entre quantos comics o autor escreveu e em quantos eventos estava"
      ],
      "metadata": {
        "id": "POb1lIJ8_f7A"
      }
    },
    {
      "cell_type": "code",
      "source": [
        "plt.figure(figsize=(10, 8))\n",
        "\n",
        "scatter = plt.scatter(\n",
        "    x=comics_per_events['events_available'],\n",
        "    y=comics_per_events['fullName'],\n",
        "    s=comics_per_events['comics_available'],  # tamanho da bolha\n",
        "    c=comics_per_events['comics_available'],      # cor baseada nos quadrinhos\n",
        "    cmap='plasma',\n",
        "    alpha=0.7,\n",
        "    edgecolors='black'\n",
        ")\n",
        "\n",
        "plt.xlabel('Eventos Disponíveis')\n",
        "plt.ylabel('Nome do Criador')\n",
        "plt.title('Criadores: Participação em Eventos vs Quadrinhos (Tamanho/Cor)')\n",
        "plt.colorbar(scatter, label='Quadrinhos Disponíveis')\n",
        "plt.grid(True)\n",
        "plt.tight_layout()\n",
        "plt.show()"
      ],
      "metadata": {
        "id": "laH2UdKX9VpY"
      },
      "execution_count": null,
      "outputs": []
    },
    {
      "cell_type": "markdown",
      "source": [
        "## INSIGHT 2 Creators - Comparação de Creators com imagens associadas e sem imagens associadas"
      ],
      "metadata": {
        "id": "xvY9w_FuIwdL"
      }
    },
    {
      "cell_type": "code",
      "source": [
        "plot_pie_charts(creators_images)"
      ],
      "metadata": {
        "id": "85M5WTIEaGfz"
      },
      "execution_count": null,
      "outputs": []
    },
    {
      "cell_type": "markdown",
      "source": [
        "# Series"
      ],
      "metadata": {
        "id": "lilSMZWw0LTP"
      }
    },
    {
      "cell_type": "markdown",
      "source": [
        "## INSIGHT 1 Comics: Média de preço sobre o tempo"
      ],
      "metadata": {
        "id": "I6sDXw530PQw"
      }
    },
    {
      "cell_type": "code",
      "source": [
        "comics_average_price_over_time(dataComics, show_plot=True)"
      ],
      "metadata": {
        "id": "MFrZs47o0MgC",
        "outputId": "dbdde54c-2c67-459e-befd-d21e3e7c90c4",
        "colab": {
          "base_uri": "https://localhost:8080/",
          "height": 960
        }
      },
      "execution_count": 20,
      "outputs": [
        {
          "output_type": "execute_result",
          "data": {
            "text/plain": [
              "           price\n",
              "year            \n",
              "1940.0  1.767143\n",
              "1941.0  0.100000\n",
              "1945.0  0.120000\n",
              "1948.0  0.100000\n",
              "1950.0  0.212500\n",
              "...          ...\n",
              "2022.0  4.567271\n",
              "2023.0  4.746838\n",
              "2024.0  4.748570\n",
              "2025.0  4.816870\n",
              "2029.0  6.990000\n",
              "\n",
              "[74 rows x 1 columns]"
            ],
            "text/html": [
              "\n",
              "  <div id=\"df-11c6cad2-8290-4570-bffe-c201dbb0ca5d\" class=\"colab-df-container\">\n",
              "    <div>\n",
              "<style scoped>\n",
              "    .dataframe tbody tr th:only-of-type {\n",
              "        vertical-align: middle;\n",
              "    }\n",
              "\n",
              "    .dataframe tbody tr th {\n",
              "        vertical-align: top;\n",
              "    }\n",
              "\n",
              "    .dataframe thead th {\n",
              "        text-align: right;\n",
              "    }\n",
              "</style>\n",
              "<table border=\"1\" class=\"dataframe\">\n",
              "  <thead>\n",
              "    <tr style=\"text-align: right;\">\n",
              "      <th></th>\n",
              "      <th>price</th>\n",
              "    </tr>\n",
              "    <tr>\n",
              "      <th>year</th>\n",
              "      <th></th>\n",
              "    </tr>\n",
              "  </thead>\n",
              "  <tbody>\n",
              "    <tr>\n",
              "      <th>1940.0</th>\n",
              "      <td>1.767143</td>\n",
              "    </tr>\n",
              "    <tr>\n",
              "      <th>1941.0</th>\n",
              "      <td>0.100000</td>\n",
              "    </tr>\n",
              "    <tr>\n",
              "      <th>1945.0</th>\n",
              "      <td>0.120000</td>\n",
              "    </tr>\n",
              "    <tr>\n",
              "      <th>1948.0</th>\n",
              "      <td>0.100000</td>\n",
              "    </tr>\n",
              "    <tr>\n",
              "      <th>1950.0</th>\n",
              "      <td>0.212500</td>\n",
              "    </tr>\n",
              "    <tr>\n",
              "      <th>...</th>\n",
              "      <td>...</td>\n",
              "    </tr>\n",
              "    <tr>\n",
              "      <th>2022.0</th>\n",
              "      <td>4.567271</td>\n",
              "    </tr>\n",
              "    <tr>\n",
              "      <th>2023.0</th>\n",
              "      <td>4.746838</td>\n",
              "    </tr>\n",
              "    <tr>\n",
              "      <th>2024.0</th>\n",
              "      <td>4.748570</td>\n",
              "    </tr>\n",
              "    <tr>\n",
              "      <th>2025.0</th>\n",
              "      <td>4.816870</td>\n",
              "    </tr>\n",
              "    <tr>\n",
              "      <th>2029.0</th>\n",
              "      <td>6.990000</td>\n",
              "    </tr>\n",
              "  </tbody>\n",
              "</table>\n",
              "<p>74 rows × 1 columns</p>\n",
              "</div>\n",
              "    <div class=\"colab-df-buttons\">\n",
              "\n",
              "  <div class=\"colab-df-container\">\n",
              "    <button class=\"colab-df-convert\" onclick=\"convertToInteractive('df-11c6cad2-8290-4570-bffe-c201dbb0ca5d')\"\n",
              "            title=\"Convert this dataframe to an interactive table.\"\n",
              "            style=\"display:none;\">\n",
              "\n",
              "  <svg xmlns=\"http://www.w3.org/2000/svg\" height=\"24px\" viewBox=\"0 -960 960 960\">\n",
              "    <path d=\"M120-120v-720h720v720H120Zm60-500h600v-160H180v160Zm220 220h160v-160H400v160Zm0 220h160v-160H400v160ZM180-400h160v-160H180v160Zm440 0h160v-160H620v160ZM180-180h160v-160H180v160Zm440 0h160v-160H620v160Z\"/>\n",
              "  </svg>\n",
              "    </button>\n",
              "\n",
              "  <style>\n",
              "    .colab-df-container {\n",
              "      display:flex;\n",
              "      gap: 12px;\n",
              "    }\n",
              "\n",
              "    .colab-df-convert {\n",
              "      background-color: #E8F0FE;\n",
              "      border: none;\n",
              "      border-radius: 50%;\n",
              "      cursor: pointer;\n",
              "      display: none;\n",
              "      fill: #1967D2;\n",
              "      height: 32px;\n",
              "      padding: 0 0 0 0;\n",
              "      width: 32px;\n",
              "    }\n",
              "\n",
              "    .colab-df-convert:hover {\n",
              "      background-color: #E2EBFA;\n",
              "      box-shadow: 0px 1px 2px rgba(60, 64, 67, 0.3), 0px 1px 3px 1px rgba(60, 64, 67, 0.15);\n",
              "      fill: #174EA6;\n",
              "    }\n",
              "\n",
              "    .colab-df-buttons div {\n",
              "      margin-bottom: 4px;\n",
              "    }\n",
              "\n",
              "    [theme=dark] .colab-df-convert {\n",
              "      background-color: #3B4455;\n",
              "      fill: #D2E3FC;\n",
              "    }\n",
              "\n",
              "    [theme=dark] .colab-df-convert:hover {\n",
              "      background-color: #434B5C;\n",
              "      box-shadow: 0px 1px 3px 1px rgba(0, 0, 0, 0.15);\n",
              "      filter: drop-shadow(0px 1px 2px rgba(0, 0, 0, 0.3));\n",
              "      fill: #FFFFFF;\n",
              "    }\n",
              "  </style>\n",
              "\n",
              "    <script>\n",
              "      const buttonEl =\n",
              "        document.querySelector('#df-11c6cad2-8290-4570-bffe-c201dbb0ca5d button.colab-df-convert');\n",
              "      buttonEl.style.display =\n",
              "        google.colab.kernel.accessAllowed ? 'block' : 'none';\n",
              "\n",
              "      async function convertToInteractive(key) {\n",
              "        const element = document.querySelector('#df-11c6cad2-8290-4570-bffe-c201dbb0ca5d');\n",
              "        const dataTable =\n",
              "          await google.colab.kernel.invokeFunction('convertToInteractive',\n",
              "                                                    [key], {});\n",
              "        if (!dataTable) return;\n",
              "\n",
              "        const docLinkHtml = 'Like what you see? Visit the ' +\n",
              "          '<a target=\"_blank\" href=https://colab.research.google.com/notebooks/data_table.ipynb>data table notebook</a>'\n",
              "          + ' to learn more about interactive tables.';\n",
              "        element.innerHTML = '';\n",
              "        dataTable['output_type'] = 'display_data';\n",
              "        await google.colab.output.renderOutput(dataTable, element);\n",
              "        const docLink = document.createElement('div');\n",
              "        docLink.innerHTML = docLinkHtml;\n",
              "        element.appendChild(docLink);\n",
              "      }\n",
              "    </script>\n",
              "  </div>\n",
              "\n",
              "\n",
              "    <div id=\"df-b61efa66-5e5a-4888-94b2-87d60015ca33\">\n",
              "      <button class=\"colab-df-quickchart\" onclick=\"quickchart('df-b61efa66-5e5a-4888-94b2-87d60015ca33')\"\n",
              "                title=\"Suggest charts\"\n",
              "                style=\"display:none;\">\n",
              "\n",
              "<svg xmlns=\"http://www.w3.org/2000/svg\" height=\"24px\"viewBox=\"0 0 24 24\"\n",
              "     width=\"24px\">\n",
              "    <g>\n",
              "        <path d=\"M19 3H5c-1.1 0-2 .9-2 2v14c0 1.1.9 2 2 2h14c1.1 0 2-.9 2-2V5c0-1.1-.9-2-2-2zM9 17H7v-7h2v7zm4 0h-2V7h2v10zm4 0h-2v-4h2v4z\"/>\n",
              "    </g>\n",
              "</svg>\n",
              "      </button>\n",
              "\n",
              "<style>\n",
              "  .colab-df-quickchart {\n",
              "      --bg-color: #E8F0FE;\n",
              "      --fill-color: #1967D2;\n",
              "      --hover-bg-color: #E2EBFA;\n",
              "      --hover-fill-color: #174EA6;\n",
              "      --disabled-fill-color: #AAA;\n",
              "      --disabled-bg-color: #DDD;\n",
              "  }\n",
              "\n",
              "  [theme=dark] .colab-df-quickchart {\n",
              "      --bg-color: #3B4455;\n",
              "      --fill-color: #D2E3FC;\n",
              "      --hover-bg-color: #434B5C;\n",
              "      --hover-fill-color: #FFFFFF;\n",
              "      --disabled-bg-color: #3B4455;\n",
              "      --disabled-fill-color: #666;\n",
              "  }\n",
              "\n",
              "  .colab-df-quickchart {\n",
              "    background-color: var(--bg-color);\n",
              "    border: none;\n",
              "    border-radius: 50%;\n",
              "    cursor: pointer;\n",
              "    display: none;\n",
              "    fill: var(--fill-color);\n",
              "    height: 32px;\n",
              "    padding: 0;\n",
              "    width: 32px;\n",
              "  }\n",
              "\n",
              "  .colab-df-quickchart:hover {\n",
              "    background-color: var(--hover-bg-color);\n",
              "    box-shadow: 0 1px 2px rgba(60, 64, 67, 0.3), 0 1px 3px 1px rgba(60, 64, 67, 0.15);\n",
              "    fill: var(--button-hover-fill-color);\n",
              "  }\n",
              "\n",
              "  .colab-df-quickchart-complete:disabled,\n",
              "  .colab-df-quickchart-complete:disabled:hover {\n",
              "    background-color: var(--disabled-bg-color);\n",
              "    fill: var(--disabled-fill-color);\n",
              "    box-shadow: none;\n",
              "  }\n",
              "\n",
              "  .colab-df-spinner {\n",
              "    border: 2px solid var(--fill-color);\n",
              "    border-color: transparent;\n",
              "    border-bottom-color: var(--fill-color);\n",
              "    animation:\n",
              "      spin 1s steps(1) infinite;\n",
              "  }\n",
              "\n",
              "  @keyframes spin {\n",
              "    0% {\n",
              "      border-color: transparent;\n",
              "      border-bottom-color: var(--fill-color);\n",
              "      border-left-color: var(--fill-color);\n",
              "    }\n",
              "    20% {\n",
              "      border-color: transparent;\n",
              "      border-left-color: var(--fill-color);\n",
              "      border-top-color: var(--fill-color);\n",
              "    }\n",
              "    30% {\n",
              "      border-color: transparent;\n",
              "      border-left-color: var(--fill-color);\n",
              "      border-top-color: var(--fill-color);\n",
              "      border-right-color: var(--fill-color);\n",
              "    }\n",
              "    40% {\n",
              "      border-color: transparent;\n",
              "      border-right-color: var(--fill-color);\n",
              "      border-top-color: var(--fill-color);\n",
              "    }\n",
              "    60% {\n",
              "      border-color: transparent;\n",
              "      border-right-color: var(--fill-color);\n",
              "    }\n",
              "    80% {\n",
              "      border-color: transparent;\n",
              "      border-right-color: var(--fill-color);\n",
              "      border-bottom-color: var(--fill-color);\n",
              "    }\n",
              "    90% {\n",
              "      border-color: transparent;\n",
              "      border-bottom-color: var(--fill-color);\n",
              "    }\n",
              "  }\n",
              "</style>\n",
              "\n",
              "      <script>\n",
              "        async function quickchart(key) {\n",
              "          const quickchartButtonEl =\n",
              "            document.querySelector('#' + key + ' button');\n",
              "          quickchartButtonEl.disabled = true;  // To prevent multiple clicks.\n",
              "          quickchartButtonEl.classList.add('colab-df-spinner');\n",
              "          try {\n",
              "            const charts = await google.colab.kernel.invokeFunction(\n",
              "                'suggestCharts', [key], {});\n",
              "          } catch (error) {\n",
              "            console.error('Error during call to suggestCharts:', error);\n",
              "          }\n",
              "          quickchartButtonEl.classList.remove('colab-df-spinner');\n",
              "          quickchartButtonEl.classList.add('colab-df-quickchart-complete');\n",
              "        }\n",
              "        (() => {\n",
              "          let quickchartButtonEl =\n",
              "            document.querySelector('#df-b61efa66-5e5a-4888-94b2-87d60015ca33 button');\n",
              "          quickchartButtonEl.style.display =\n",
              "            google.colab.kernel.accessAllowed ? 'block' : 'none';\n",
              "        })();\n",
              "      </script>\n",
              "    </div>\n",
              "\n",
              "    </div>\n",
              "  </div>\n"
            ],
            "application/vnd.google.colaboratory.intrinsic+json": {
              "type": "dataframe",
              "summary": "{\n  \"name\": \"comics_average_price_over_time(dataComics, show_plot=True)\",\n  \"rows\": 74,\n  \"fields\": [\n    {\n      \"column\": \"year\",\n      \"properties\": {\n        \"dtype\": \"number\",\n        \"std\": 23.528760158780234,\n        \"min\": 1940.0,\n        \"max\": 2029.0,\n        \"num_unique_values\": 74,\n        \"samples\": [\n          1950.0,\n          2016.0,\n          1969.0\n        ],\n        \"semantic_type\": \"\",\n        \"description\": \"\"\n      }\n    },\n    {\n      \"column\": \"price\",\n      \"properties\": {\n        \"dtype\": \"number\",\n        \"std\": 2.5908866632077663,\n        \"min\": 0.1,\n        \"max\": 19.99,\n        \"num_unique_values\": 70,\n        \"samples\": [\n          1.1858333333333333,\n          1.7671428571428573,\n          3.187136363636364\n        ],\n        \"semantic_type\": \"\",\n        \"description\": \"\"\n      }\n    }\n  ]\n}"
            }
          },
          "metadata": {},
          "execution_count": 20
        },
        {
          "output_type": "display_data",
          "data": {
            "text/plain": [
              "<Figure size 2000x600 with 1 Axes>"
            ],
            "image/png": "[encoded data removed]"
          },
          "metadata": {}
        }
      ]
    },
    {
      "cell_type": "markdown",
      "source": [
        "## INSIGHT 2 Comics: Média de páginas sobre o tempo"
      ],
      "metadata": {
        "id": "FU3W3eJ10UlZ"
      }
    },
    {
      "cell_type": "code",
      "source": [
        "comics_average_pages_over_time(dataComics, show_plot=True)"
      ],
      "metadata": {
        "id": "Ik0T13Ly0V4a",
        "outputId": "a0794789-5fb9-40d7-b59e-59e918bd4021",
        "colab": {
          "base_uri": "https://localhost:8080/",
          "height": 925
        }
      },
      "execution_count": 21,
      "outputs": [
        {
          "output_type": "display_data",
          "data": {
            "text/plain": [
              "<Figure size 640x480 with 1 Axes>"
            ],
            "image/png": "[encoded data removed]"
          },
          "metadata": {}
        },
        {
          "output_type": "execute_result",
          "data": {
            "text/plain": [
              "        pageCount\n",
              "year             \n",
              "1939.0   8.000000\n",
              "1940.0  35.000000\n",
              "1941.0  55.692308\n",
              "1948.0  35.862069\n",
              "1950.0  38.500000\n",
              "...           ...\n",
              "2022.0  31.081812\n",
              "2023.0  31.550000\n",
              "2024.0  32.322906\n",
              "2025.0  33.059322\n",
              "2029.0  48.000000\n",
              "\n",
              "[75 rows x 1 columns]"
            ],
            "text/html": [
              "\n",
              "  <div id=\"df-04974912-9b23-4ce1-a1ac-808deaf2a9b2\" class=\"colab-df-container\">\n",
              "    <div>\n",
              "<style scoped>\n",
              "    .dataframe tbody tr th:only-of-type {\n",
              "        vertical-align: middle;\n",
              "    }\n",
              "\n",
              "    .dataframe tbody tr th {\n",
              "        vertical-align: top;\n",
              "    }\n",
              "\n",
              "    .dataframe thead th {\n",
              "        text-align: right;\n",
              "    }\n",
              "</style>\n",
              "<table border=\"1\" class=\"dataframe\">\n",
              "  <thead>\n",
              "    <tr style=\"text-align: right;\">\n",
              "      <th></th>\n",
              "      <th>pageCount</th>\n",
              "    </tr>\n",
              "    <tr>\n",
              "      <th>year</th>\n",
              "      <th></th>\n",
              "    </tr>\n",
              "  </thead>\n",
              "  <tbody>\n",
              "    <tr>\n",
              "      <th>1939.0</th>\n",
              "      <td>8.000000</td>\n",
              "    </tr>\n",
              "    <tr>\n",
              "      <th>1940.0</th>\n",
              "      <td>35.000000</td>\n",
              "    </tr>\n",
              "    <tr>\n",
              "      <th>1941.0</th>\n",
              "      <td>55.692308</td>\n",
              "    </tr>\n",
              "    <tr>\n",
              "      <th>1948.0</th>\n",
              "      <td>35.862069</td>\n",
              "    </tr>\n",
              "    <tr>\n",
              "      <th>1950.0</th>\n",
              "      <td>38.500000</td>\n",
              "    </tr>\n",
              "    <tr>\n",
              "      <th>...</th>\n",
              "      <td>...</td>\n",
              "    </tr>\n",
              "    <tr>\n",
              "      <th>2022.0</th>\n",
              "      <td>31.081812</td>\n",
              "    </tr>\n",
              "    <tr>\n",
              "      <th>2023.0</th>\n",
              "      <td>31.550000</td>\n",
              "    </tr>\n",
              "    <tr>\n",
              "      <th>2024.0</th>\n",
              "      <td>32.322906</td>\n",
              "    </tr>\n",
              "    <tr>\n",
              "      <th>2025.0</th>\n",
              "      <td>33.059322</td>\n",
              "    </tr>\n",
              "    <tr>\n",
              "      <th>2029.0</th>\n",
              "      <td>48.000000</td>\n",
              "    </tr>\n",
              "  </tbody>\n",
              "</table>\n",
              "<p>75 rows × 1 columns</p>\n",
              "</div>\n",
              "    <div class=\"colab-df-buttons\">\n",
              "\n",
              "  <div class=\"colab-df-container\">\n",
              "    <button class=\"colab-df-convert\" onclick=\"convertToInteractive('df-04974912-9b23-4ce1-a1ac-808deaf2a9b2')\"\n",
              "            title=\"Convert this dataframe to an interactive table.\"\n",
              "            style=\"display:none;\">\n",
              "\n",
              "  <svg xmlns=\"http://www.w3.org/2000/svg\" height=\"24px\" viewBox=\"0 -960 960 960\">\n",
              "    <path d=\"M120-120v-720h720v720H120Zm60-500h600v-160H180v160Zm220 220h160v-160H400v160Zm0 220h160v-160H400v160ZM180-400h160v-160H180v160Zm440 0h160v-160H620v160ZM180-180h160v-160H180v160Zm440 0h160v-160H620v160Z\"/>\n",
              "  </svg>\n",
              "    </button>\n",
              "\n",
              "  <style>\n",
              "    .colab-df-container {\n",
              "      display:flex;\n",
              "      gap: 12px;\n",
              "    }\n",
              "\n",
              "    .colab-df-convert {\n",
              "      background-color: #E8F0FE;\n",
              "      border: none;\n",
              "      border-radius: 50%;\n",
              "      cursor: pointer;\n",
              "      display: none;\n",
              "      fill: #1967D2;\n",
              "      height: 32px;\n",
              "      padding: 0 0 0 0;\n",
              "      width: 32px;\n",
              "    }\n",
              "\n",
              "    .colab-df-convert:hover {\n",
              "      background-color: #E2EBFA;\n",
              "      box-shadow: 0px 1px 2px rgba(60, 64, 67, 0.3), 0px 1px 3px 1px rgba(60, 64, 67, 0.15);\n",
              "      fill: #174EA6;\n",
              "    }\n",
              "\n",
              "    .colab-df-buttons div {\n",
              "      margin-bottom: 4px;\n",
              "    }\n",
              "\n",
              "    [theme=dark] .colab-df-convert {\n",
              "      background-color: #3B4455;\n",
              "      fill: #D2E3FC;\n",
              "    }\n",
              "\n",
              "    [theme=dark] .colab-df-convert:hover {\n",
              "      background-color: #434B5C;\n",
              "      box-shadow: 0px 1px 3px 1px rgba(0, 0, 0, 0.15);\n",
              "      filter: drop-shadow(0px 1px 2px rgba(0, 0, 0, 0.3));\n",
              "      fill: #FFFFFF;\n",
              "    }\n",
              "  </style>\n",
              "\n",
              "    <script>\n",
              "      const buttonEl =\n",
              "        document.querySelector('#df-04974912-9b23-4ce1-a1ac-808deaf2a9b2 button.colab-df-convert');\n",
              "      buttonEl.style.display =\n",
              "        google.colab.kernel.accessAllowed ? 'block' : 'none';\n",
              "\n",
              "      async function convertToInteractive(key) {\n",
              "        const element = document.querySelector('#df-04974912-9b23-4ce1-a1ac-808deaf2a9b2');\n",
              "        const dataTable =\n",
              "          await google.colab.kernel.invokeFunction('convertToInteractive',\n",
              "                                                    [key], {});\n",
              "        if (!dataTable) return;\n",
              "\n",
              "        const docLinkHtml = 'Like what you see? Visit the ' +\n",
              "          '<a target=\"_blank\" href=https://colab.research.google.com/notebooks/data_table.ipynb>data table notebook</a>'\n",
              "          + ' to learn more about interactive tables.';\n",
              "        element.innerHTML = '';\n",
              "        dataTable['output_type'] = 'display_data';\n",
              "        await google.colab.output.renderOutput(dataTable, element);\n",
              "        const docLink = document.createElement('div');\n",
              "        docLink.innerHTML = docLinkHtml;\n",
              "        element.appendChild(docLink);\n",
              "      }\n",
              "    </script>\n",
              "  </div>\n",
              "\n",
              "\n",
              "    <div id=\"df-a1f957bf-7b3a-4224-81d5-8cf6a7c186df\">\n",
              "      <button class=\"colab-df-quickchart\" onclick=\"quickchart('df-a1f957bf-7b3a-4224-81d5-8cf6a7c186df')\"\n",
              "                title=\"Suggest charts\"\n",
              "                style=\"display:none;\">\n",
              "\n",
              "<svg xmlns=\"http://www.w3.org/2000/svg\" height=\"24px\"viewBox=\"0 0 24 24\"\n",
              "     width=\"24px\">\n",
              "    <g>\n",
              "        <path d=\"M19 3H5c-1.1 0-2 .9-2 2v14c0 1.1.9 2 2 2h14c1.1 0 2-.9 2-2V5c0-1.1-.9-2-2-2zM9 17H7v-7h2v7zm4 0h-2V7h2v10zm4 0h-2v-4h2v4z\"/>\n",
              "    </g>\n",
              "</svg>\n",
              "      </button>\n",
              "\n",
              "<style>\n",
              "  .colab-df-quickchart {\n",
              "      --bg-color: #E8F0FE;\n",
              "      --fill-color: #1967D2;\n",
              "      --hover-bg-color: #E2EBFA;\n",
              "      --hover-fill-color: #174EA6;\n",
              "      --disabled-fill-color: #AAA;\n",
              "      --disabled-bg-color: #DDD;\n",
              "  }\n",
              "\n",
              "  [theme=dark] .colab-df-quickchart {\n",
              "      --bg-color: #3B4455;\n",
              "      --fill-color: #D2E3FC;\n",
              "      --hover-bg-color: #434B5C;\n",
              "      --hover-fill-color: #FFFFFF;\n",
              "      --disabled-bg-color: #3B4455;\n",
              "      --disabled-fill-color: #666;\n",
              "  }\n",
              "\n",
              "  .colab-df-quickchart {\n",
              "    background-color: var(--bg-color);\n",
              "    border: none;\n",
              "    border-radius: 50%;\n",
              "    cursor: pointer;\n",
              "    display: none;\n",
              "    fill: var(--fill-color);\n",
              "    height: 32px;\n",
              "    padding: 0;\n",
              "    width: 32px;\n",
              "  }\n",
              "\n",
              "  .colab-df-quickchart:hover {\n",
              "    background-color: var(--hover-bg-color);\n",
              "    box-shadow: 0 1px 2px rgba(60, 64, 67, 0.3), 0 1px 3px 1px rgba(60, 64, 67, 0.15);\n",
              "    fill: var(--button-hover-fill-color);\n",
              "  }\n",
              "\n",
              "  .colab-df-quickchart-complete:disabled,\n",
              "  .colab-df-quickchart-complete:disabled:hover {\n",
              "    background-color: var(--disabled-bg-color);\n",
              "    fill: var(--disabled-fill-color);\n",
              "    box-shadow: none;\n",
              "  }\n",
              "\n",
              "  .colab-df-spinner {\n",
              "    border: 2px solid var(--fill-color);\n",
              "    border-color: transparent;\n",
              "    border-bottom-color: var(--fill-color);\n",
              "    animation:\n",
              "      spin 1s steps(1) infinite;\n",
              "  }\n",
              "\n",
              "  @keyframes spin {\n",
              "    0% {\n",
              "      border-color: transparent;\n",
              "      border-bottom-color: var(--fill-color);\n",
              "      border-left-color: var(--fill-color);\n",
              "    }\n",
              "    20% {\n",
              "      border-color: transparent;\n",
              "      border-left-color: var(--fill-color);\n",
              "      border-top-color: var(--fill-color);\n",
              "    }\n",
              "    30% {\n",
              "      border-color: transparent;\n",
              "      border-left-color: var(--fill-color);\n",
              "      border-top-color: var(--fill-color);\n",
              "      border-right-color: var(--fill-color);\n",
              "    }\n",
              "    40% {\n",
              "      border-color: transparent;\n",
              "      border-right-color: var(--fill-color);\n",
              "      border-top-color: var(--fill-color);\n",
              "    }\n",
              "    60% {\n",
              "      border-color: transparent;\n",
              "      border-right-color: var(--fill-color);\n",
              "    }\n",
              "    80% {\n",
              "      border-color: transparent;\n",
              "      border-right-color: var(--fill-color);\n",
              "      border-bottom-color: var(--fill-color);\n",
              "    }\n",
              "    90% {\n",
              "      border-color: transparent;\n",
              "      border-bottom-color: var(--fill-color);\n",
              "    }\n",
              "  }\n",
              "</style>\n",
              "\n",
              "      <script>\n",
              "        async function quickchart(key) {\n",
              "          const quickchartButtonEl =\n",
              "            document.querySelector('#' + key + ' button');\n",
              "          quickchartButtonEl.disabled = true;  // To prevent multiple clicks.\n",
              "          quickchartButtonEl.classList.add('colab-df-spinner');\n",
              "          try {\n",
              "            const charts = await google.colab.kernel.invokeFunction(\n",
              "                'suggestCharts', [key], {});\n",
              "          } catch (error) {\n",
              "            console.error('Error during call to suggestCharts:', error);\n",
              "          }\n",
              "          quickchartButtonEl.classList.remove('colab-df-spinner');\n",
              "          quickchartButtonEl.classList.add('colab-df-quickchart-complete');\n",
              "        }\n",
              "        (() => {\n",
              "          let quickchartButtonEl =\n",
              "            document.querySelector('#df-a1f957bf-7b3a-4224-81d5-8cf6a7c186df button');\n",
              "          quickchartButtonEl.style.display =\n",
              "            google.colab.kernel.accessAllowed ? 'block' : 'none';\n",
              "        })();\n",
              "      </script>\n",
              "    </div>\n",
              "\n",
              "    </div>\n",
              "  </div>\n"
            ],
            "application/vnd.google.colaboratory.intrinsic+json": {
              "type": "dataframe",
              "summary": "{\n  \"name\": \"comics_average_pages_over_time(dataComics, show_plot=True)\",\n  \"rows\": 75,\n  \"fields\": [\n    {\n      \"column\": \"year\",\n      \"properties\": {\n        \"dtype\": \"number\",\n        \"std\": 23.46393053254368,\n        \"min\": 1939.0,\n        \"max\": 2029.0,\n        \"num_unique_values\": 75,\n        \"samples\": [\n          1950.0,\n          2015.0,\n          1961.0\n        ],\n        \"semantic_type\": \"\",\n        \"description\": \"\"\n      }\n    },\n    {\n      \"column\": \"pageCount\",\n      \"properties\": {\n        \"dtype\": \"number\",\n        \"std\": 7.312993067758155,\n        \"min\": 8.0,\n        \"max\": 64.8,\n        \"num_unique_values\": 65,\n        \"samples\": [\n          33.419927206551414,\n          31.08181225554107,\n          8.0\n        ],\n        \"semantic_type\": \"\",\n        \"description\": \"\"\n      }\n    }\n  ]\n}"
            }
          },
          "metadata": {},
          "execution_count": 21
        }
      ]
    },
    {
      "cell_type": "markdown",
      "source": [
        "## INSIGHT 3 Comics: Os formatos mais comuns"
      ],
      "metadata": {
        "id": "HM7-P9qw0ZHA"
      }
    },
    {
      "cell_type": "code",
      "source": [
        "comics_count_format(dataComics, show_plot=True)"
      ],
      "metadata": {
        "id": "r-JvbrdV0bcZ",
        "outputId": "72c9678b-73fa-4922-fa2c-d002ac36869c",
        "colab": {
          "base_uri": "https://localhost:8080/",
          "height": 1000
        }
      },
      "execution_count": 22,
      "outputs": [
        {
          "output_type": "display_data",
          "data": {
            "text/html": [
              "<html>\n",
              "<head><meta charset=\"utf-8\" /></head>\n",
              "<body>\n",
              "    <div>            <script src=\"https://cdnjs.cloudflare.com/ajax/libs/mathjax/2.7.5/MathJax.js?config=TeX-AMS-MML_SVG\"></script><script type=\"text/javascript\">if (window.MathJax && window.MathJax.Hub && window.MathJax.Hub.Config) {window.MathJax.Hub.Config({SVG: {font: \"STIX-Web\"}});}</script>                <script type=\"text/javascript\">window.PlotlyConfig = {MathJaxConfig: 'local'};</script>\n",
              "        <script charset=\"utf-8\" src=\"https://cdn.plot.ly/plotly-2.35.2.min.js\"></script>                <div id=\"8176c7a0-9b3e-4f2c-be86-40d3af87d6e7\" class=\"plotly-graph-div\" style=\"height:525px; width:100%;\"></div>            <script type=\"text/javascript\">                                    window.PLOTLYENV=window.PLOTLYENV || {};                                    if (document.getElementById(\"8176c7a0-9b3e-4f2c-be86-40d3af87d6e7\")) {                    Plotly.newPlot(                        \"8176c7a0-9b3e-4f2c-be86-40d3af87d6e7\",                        [{\"alignmentgroup\":\"True\",\"hovertemplate\":\"format=%{x}\\u003cbr\\u003eQuantidade de comics=%{y}\\u003cextra\\u003e\\u003c\\u002fextra\\u003e\",\"legendgroup\":\"\",\"marker\":{\"color\":\"purple\",\"pattern\":{\"shape\":\"\"}},\"name\":\"\",\"offsetgroup\":\"\",\"orientation\":\"v\",\"showlegend\":false,\"textposition\":\"auto\",\"x\":[\"Comic\",\"Trade Paperback\",\"Hardcover\",\"Digital Vertical Comic\",\"Digital Comic\",\"Infinite Comic\",\"Digest\",\"Magazine\",\"Poster\",\"DIGITAL COMIC\",\"Graphic Novel\",\"Catalog\",\"Newspaper\",\"MAGAZINE\",\"Hardcover Book\",\"NEWSPAPER\",\"Digital Collection\",\"Sketchbook\"],\"xaxis\":\"x\",\"y\":[52164,7116,1902,1491,782,269,203,87,71,56,23,19,11,7,5,4,1,1],\"yaxis\":\"y\",\"type\":\"bar\"}],                        {\"template\":{\"data\":{\"histogram2dcontour\":[{\"type\":\"histogram2dcontour\",\"colorbar\":{\"outlinewidth\":0,\"ticks\":\"\"},\"colorscale\":[[0.0,\"#0d0887\"],[0.1111111111111111,\"#46039f\"],[0.2222222222222222,\"#7201a8\"],[0.3333333333333333,\"#9c179e\"],[0.4444444444444444,\"#bd3786\"],[0.5555555555555556,\"#d8576b\"],[0.6666666666666666,\"#ed7953\"],[0.7777777777777778,\"#fb9f3a\"],[0.8888888888888888,\"#fdca26\"],[1.0,\"#f0f921\"]]}],\"choropleth\":[{\"type\":\"choropleth\",\"colorbar\":{\"outlinewidth\":0,\"ticks\":\"\"}}],\"histogram2d\":[{\"type\":\"histogram2d\",\"colorbar\":{\"outlinewidth\":0,\"ticks\":\"\"},\"colorscale\":[[0.0,\"#0d0887\"],[0.1111111111111111,\"#46039f\"],[0.2222222222222222,\"#7201a8\"],[0.3333333333333333,\"#9c179e\"],[0.4444444444444444,\"#bd3786\"],[0.5555555555555556,\"#d8576b\"],[0.6666666666666666,\"#ed7953\"],[0.7777777777777778,\"#fb9f3a\"],[0.8888888888888888,\"#fdca26\"],[1.0,\"#f0f921\"]]}],\"heatmap\":[{\"type\":\"heatmap\",\"colorbar\":{\"outlinewidth\":0,\"ticks\":\"\"},\"colorscale\":[[0.0,\"#0d0887\"],[0.1111111111111111,\"#46039f\"],[0.2222222222222222,\"#7201a8\"],[0.3333333333333333,\"#9c179e\"],[0.4444444444444444,\"#bd3786\"],[0.5555555555555556,\"#d8576b\"],[0.6666666666666666,\"#ed7953\"],[0.7777777777777778,\"#fb9f3a\"],[0.8888888888888888,\"#fdca26\"],[1.0,\"#f0f921\"]]}],\"heatmapgl\":[{\"type\":\"heatmapgl\",\"colorbar\":{\"outlinewidth\":0,\"ticks\":\"\"},\"colorscale\":[[0.0,\"#0d0887\"],[0.1111111111111111,\"#46039f\"],[0.2222222222222222,\"#7201a8\"],[0.3333333333333333,\"#9c179e\"],[0.4444444444444444,\"#bd3786\"],[0.5555555555555556,\"#d8576b\"],[0.6666666666666666,\"#ed7953\"],[0.7777777777777778,\"#fb9f3a\"],[0.8888888888888888,\"#fdca26\"],[1.0,\"#f0f921\"]]}],\"contourcarpet\":[{\"type\":\"contourcarpet\",\"colorbar\":{\"outlinewidth\":0,\"ticks\":\"\"}}],\"contour\":[{\"type\":\"contour\",\"colorbar\":{\"outlinewidth\":0,\"ticks\":\"\"},\"colorscale\":[[0.0,\"#0d0887\"],[0.1111111111111111,\"#46039f\"],[0.2222222222222222,\"#7201a8\"],[0.3333333333333333,\"#9c179e\"],[0.4444444444444444,\"#bd3786\"],[0.5555555555555556,\"#d8576b\"],[0.6666666666666666,\"#ed7953\"],[0.7777777777777778,\"#fb9f3a\"],[0.8888888888888888,\"#fdca26\"],[1.0,\"#f0f921\"]]}],\"surface\":[{\"type\":\"surface\",\"colorbar\":{\"outlinewidth\":0,\"ticks\":\"\"},\"colorscale\":[[0.0,\"#0d0887\"],[0.1111111111111111,\"#46039f\"],[0.2222222222222222,\"#7201a8\"],[0.3333333333333333,\"#9c179e\"],[0.4444444444444444,\"#bd3786\"],[0.5555555555555556,\"#d8576b\"],[0.6666666666666666,\"#ed7953\"],[0.7777777777777778,\"#fb9f3a\"],[0.8888888888888888,\"#fdca26\"],[1.0,\"#f0f921\"]]}],\"mesh3d\":[{\"type\":\"mesh3d\",\"colorbar\":{\"outlinewidth\":0,\"ticks\":\"\"}}],\"scatter\":[{\"fillpattern\":{\"fillmode\":\"overlay\",\"size\":10,\"solidity\":0.2},\"type\":\"scatter\"}],\"parcoords\":[{\"type\":\"parcoords\",\"line\":{\"colorbar\":{\"outlinewidth\":0,\"ticks\":\"\"}}}],\"scatterpolargl\":[{\"type\":\"scatterpolargl\",\"marker\":{\"colorbar\":{\"outlinewidth\":0,\"ticks\":\"\"}}}],\"bar\":[{\"error_x\":{\"color\":\"#2a3f5f\"},\"error_y\":{\"color\":\"#2a3f5f\"},\"marker\":{\"line\":{\"color\":\"#E5ECF6\",\"width\":0.5},\"pattern\":{\"fillmode\":\"overlay\",\"size\":10,\"solidity\":0.2}},\"type\":\"bar\"}],\"scattergeo\":[{\"type\":\"scattergeo\",\"marker\":{\"colorbar\":{\"outlinewidth\":0,\"ticks\":\"\"}}}],\"scatterpolar\":[{\"type\":\"scatterpolar\",\"marker\":{\"colorbar\":{\"outlinewidth\":0,\"ticks\":\"\"}}}],\"histogram\":[{\"marker\":{\"pattern\":{\"fillmode\":\"overlay\",\"size\":10,\"solidity\":0.2}},\"type\":\"histogram\"}],\"scattergl\":[{\"type\":\"scattergl\",\"marker\":{\"colorbar\":{\"outlinewidth\":0,\"ticks\":\"\"}}}],\"scatter3d\":[{\"type\":\"scatter3d\",\"line\":{\"colorbar\":{\"outlinewidth\":0,\"ticks\":\"\"}},\"marker\":{\"colorbar\":{\"outlinewidth\":0,\"ticks\":\"\"}}}],\"scattermapbox\":[{\"type\":\"scattermapbox\",\"marker\":{\"colorbar\":{\"outlinewidth\":0,\"ticks\":\"\"}}}],\"scatterternary\":[{\"type\":\"scatterternary\",\"marker\":{\"colorbar\":{\"outlinewidth\":0,\"ticks\":\"\"}}}],\"scattercarpet\":[{\"type\":\"scattercarpet\",\"marker\":{\"colorbar\":{\"outlinewidth\":0,\"ticks\":\"\"}}}],\"carpet\":[{\"aaxis\":{\"endlinecolor\":\"#2a3f5f\",\"gridcolor\":\"white\",\"linecolor\":\"white\",\"minorgridcolor\":\"white\",\"startlinecolor\":\"#2a3f5f\"},\"baxis\":{\"endlinecolor\":\"#2a3f5f\",\"gridcolor\":\"white\",\"linecolor\":\"white\",\"minorgridcolor\":\"white\",\"startlinecolor\":\"#2a3f5f\"},\"type\":\"carpet\"}],\"table\":[{\"cells\":{\"fill\":{\"color\":\"#EBF0F8\"},\"line\":{\"color\":\"white\"}},\"header\":{\"fill\":{\"color\":\"#C8D4E3\"},\"line\":{\"color\":\"white\"}},\"type\":\"table\"}],\"barpolar\":[{\"marker\":{\"line\":{\"color\":\"#E5ECF6\",\"width\":0.5},\"pattern\":{\"fillmode\":\"overlay\",\"size\":10,\"solidity\":0.2}},\"type\":\"barpolar\"}],\"pie\":[{\"automargin\":true,\"type\":\"pie\"}]},\"layout\":{\"autotypenumbers\":\"strict\",\"colorway\":[\"#636efa\",\"#EF553B\",\"#00cc96\",\"#ab63fa\",\"#FFA15A\",\"#19d3f3\",\"#FF6692\",\"#B6E880\",\"#FF97FF\",\"#FECB52\"],\"font\":{\"color\":\"#2a3f5f\"},\"hovermode\":\"closest\",\"hoverlabel\":{\"align\":\"left\"},\"paper_bgcolor\":\"white\",\"plot_bgcolor\":\"#E5ECF6\",\"polar\":{\"bgcolor\":\"#E5ECF6\",\"angularaxis\":{\"gridcolor\":\"white\",\"linecolor\":\"white\",\"ticks\":\"\"},\"radialaxis\":{\"gridcolor\":\"white\",\"linecolor\":\"white\",\"ticks\":\"\"}},\"ternary\":{\"bgcolor\":\"#E5ECF6\",\"aaxis\":{\"gridcolor\":\"white\",\"linecolor\":\"white\",\"ticks\":\"\"},\"baxis\":{\"gridcolor\":\"white\",\"linecolor\":\"white\",\"ticks\":\"\"},\"caxis\":{\"gridcolor\":\"white\",\"linecolor\":\"white\",\"ticks\":\"\"}},\"coloraxis\":{\"colorbar\":{\"outlinewidth\":0,\"ticks\":\"\"}},\"colorscale\":{\"sequential\":[[0.0,\"#0d0887\"],[0.1111111111111111,\"#46039f\"],[0.2222222222222222,\"#7201a8\"],[0.3333333333333333,\"#9c179e\"],[0.4444444444444444,\"#bd3786\"],[0.5555555555555556,\"#d8576b\"],[0.6666666666666666,\"#ed7953\"],[0.7777777777777778,\"#fb9f3a\"],[0.8888888888888888,\"#fdca26\"],[1.0,\"#f0f921\"]],\"sequentialminus\":[[0.0,\"#0d0887\"],[0.1111111111111111,\"#46039f\"],[0.2222222222222222,\"#7201a8\"],[0.3333333333333333,\"#9c179e\"],[0.4444444444444444,\"#bd3786\"],[0.5555555555555556,\"#d8576b\"],[0.6666666666666666,\"#ed7953\"],[0.7777777777777778,\"#fb9f3a\"],[0.8888888888888888,\"#fdca26\"],[1.0,\"#f0f921\"]],\"diverging\":[[0,\"#8e0152\"],[0.1,\"#c51b7d\"],[0.2,\"#de77ae\"],[0.3,\"#f1b6da\"],[0.4,\"#fde0ef\"],[0.5,\"#f7f7f7\"],[0.6,\"#e6f5d0\"],[0.7,\"#b8e186\"],[0.8,\"#7fbc41\"],[0.9,\"#4d9221\"],[1,\"#276419\"]]},\"xaxis\":{\"gridcolor\":\"white\",\"linecolor\":\"white\",\"ticks\":\"\",\"title\":{\"standoff\":15},\"zerolinecolor\":\"white\",\"automargin\":true,\"zerolinewidth\":2},\"yaxis\":{\"gridcolor\":\"white\",\"linecolor\":\"white\",\"ticks\":\"\",\"title\":{\"standoff\":15},\"zerolinecolor\":\"white\",\"automargin\":true,\"zerolinewidth\":2},\"scene\":{\"xaxis\":{\"backgroundcolor\":\"#E5ECF6\",\"gridcolor\":\"white\",\"linecolor\":\"white\",\"showbackground\":true,\"ticks\":\"\",\"zerolinecolor\":\"white\",\"gridwidth\":2},\"yaxis\":{\"backgroundcolor\":\"#E5ECF6\",\"gridcolor\":\"white\",\"linecolor\":\"white\",\"showbackground\":true,\"ticks\":\"\",\"zerolinecolor\":\"white\",\"gridwidth\":2},\"zaxis\":{\"backgroundcolor\":\"#E5ECF6\",\"gridcolor\":\"white\",\"linecolor\":\"white\",\"showbackground\":true,\"ticks\":\"\",\"zerolinecolor\":\"white\",\"gridwidth\":2}},\"shapedefaults\":{\"line\":{\"color\":\"#2a3f5f\"}},\"annotationdefaults\":{\"arrowcolor\":\"#2a3f5f\",\"arrowhead\":0,\"arrowwidth\":1},\"geo\":{\"bgcolor\":\"white\",\"landcolor\":\"#E5ECF6\",\"subunitcolor\":\"white\",\"showland\":true,\"showlakes\":true,\"lakecolor\":\"white\"},\"title\":{\"x\":0.05},\"mapbox\":{\"style\":\"light\"}}},\"xaxis\":{\"anchor\":\"y\",\"domain\":[0.0,1.0],\"title\":{\"text\":\"Formato\"},\"tickangle\":-45},\"yaxis\":{\"anchor\":\"x\",\"domain\":[0.0,1.0],\"title\":{\"text\":\"Quantidade de comics\"}},\"legend\":{\"tracegroupgap\":0},\"title\":{\"text\":\"Quantidade de cada tipo\"},\"barmode\":\"relative\"},                        {\"responsive\": true}                    ).then(function(){\n",
              "                            \n",
              "var gd = document.getElementById('8176c7a0-9b3e-4f2c-be86-40d3af87d6e7');\n",
              "var x = new MutationObserver(function (mutations, observer) {{\n",
              "        var display = window.getComputedStyle(gd).display;\n",
              "        if (!display || display === 'none') {{\n",
              "            console.log([gd, 'removed!']);\n",
              "            Plotly.purge(gd);\n",
              "            observer.disconnect();\n",
              "        }}\n",
              "}});\n",
              "\n",
              "// Listen for the removal of the full notebook cells\n",
              "var notebookContainer = gd.closest('#notebook-container');\n",
              "if (notebookContainer) {{\n",
              "    x.observe(notebookContainer, {childList: true});\n",
              "}}\n",
              "\n",
              "// Listen for the clearing of the current output cell\n",
              "var outputEl = gd.closest('.output');\n",
              "if (outputEl) {{\n",
              "    x.observe(outputEl, {childList: true});\n",
              "}}\n",
              "\n",
              "                        })                };                            </script>        </div>\n",
              "</body>\n",
              "</html>"
            ]
          },
          "metadata": {}
        },
        {
          "output_type": "execute_result",
          "data": {
            "text/plain": [
              "format\n",
              "Comic                     52164\n",
              "Trade Paperback            7116\n",
              "Hardcover                  1902\n",
              "Digital Vertical Comic     1491\n",
              "Digital Comic               782\n",
              "Infinite Comic              269\n",
              "Digest                      203\n",
              "Magazine                     87\n",
              "Poster                       71\n",
              "DIGITAL COMIC                56\n",
              "Graphic Novel                23\n",
              "Catalog                      19\n",
              "Newspaper                    11\n",
              "MAGAZINE                      7\n",
              "Hardcover Book                5\n",
              "NEWSPAPER                     4\n",
              "Digital Collection            1\n",
              "Sketchbook                    1\n",
              "Name: count, dtype: int64"
            ],
            "text/html": [
              "<div>\n",
              "<style scoped>\n",
              "    .dataframe tbody tr th:only-of-type {\n",
              "        vertical-align: middle;\n",
              "    }\n",
              "\n",
              "    .dataframe tbody tr th {\n",
              "        vertical-align: top;\n",
              "    }\n",
              "\n",
              "    .dataframe thead th {\n",
              "        text-align: right;\n",
              "    }\n",
              "</style>\n",
              "<table border=\"1\" class=\"dataframe\">\n",
              "  <thead>\n",
              "    <tr style=\"text-align: right;\">\n",
              "      <th></th>\n",
              "      <th>count</th>\n",
              "    </tr>\n",
              "    <tr>\n",
              "      <th>format</th>\n",
              "      <th></th>\n",
              "    </tr>\n",
              "  </thead>\n",
              "  <tbody>\n",
              "    <tr>\n",
              "      <th>Comic</th>\n",
              "      <td>52164</td>\n",
              "    </tr>\n",
              "    <tr>\n",
              "      <th>Trade Paperback</th>\n",
              "      <td>7116</td>\n",
              "    </tr>\n",
              "    <tr>\n",
              "      <th>Hardcover</th>\n",
              "      <td>1902</td>\n",
              "    </tr>\n",
              "    <tr>\n",
              "      <th>Digital Vertical Comic</th>\n",
              "      <td>1491</td>\n",
              "    </tr>\n",
              "    <tr>\n",
              "      <th>Digital Comic</th>\n",
              "      <td>782</td>\n",
              "    </tr>\n",
              "    <tr>\n",
              "      <th>Infinite Comic</th>\n",
              "      <td>269</td>\n",
              "    </tr>\n",
              "    <tr>\n",
              "      <th>Digest</th>\n",
              "      <td>203</td>\n",
              "    </tr>\n",
              "    <tr>\n",
              "      <th>Magazine</th>\n",
              "      <td>87</td>\n",
              "    </tr>\n",
              "    <tr>\n",
              "      <th>Poster</th>\n",
              "      <td>71</td>\n",
              "    </tr>\n",
              "    <tr>\n",
              "      <th>DIGITAL COMIC</th>\n",
              "      <td>56</td>\n",
              "    </tr>\n",
              "    <tr>\n",
              "      <th>Graphic Novel</th>\n",
              "      <td>23</td>\n",
              "    </tr>\n",
              "    <tr>\n",
              "      <th>Catalog</th>\n",
              "      <td>19</td>\n",
              "    </tr>\n",
              "    <tr>\n",
              "      <th>Newspaper</th>\n",
              "      <td>11</td>\n",
              "    </tr>\n",
              "    <tr>\n",
              "      <th>MAGAZINE</th>\n",
              "      <td>7</td>\n",
              "    </tr>\n",
              "    <tr>\n",
              "      <th>Hardcover Book</th>\n",
              "      <td>5</td>\n",
              "    </tr>\n",
              "    <tr>\n",
              "      <th>NEWSPAPER</th>\n",
              "      <td>4</td>\n",
              "    </tr>\n",
              "    <tr>\n",
              "      <th>Digital Collection</th>\n",
              "      <td>1</td>\n",
              "    </tr>\n",
              "    <tr>\n",
              "      <th>Sketchbook</th>\n",
              "      <td>1</td>\n",
              "    </tr>\n",
              "  </tbody>\n",
              "</table>\n",
              "</div><br><label><b>dtype:</b> int64</label>"
            ]
          },
          "metadata": {},
          "execution_count": 22
        }
      ]
    },
    {
      "cell_type": "markdown",
      "source": [
        "# Series"
      ],
      "metadata": {
        "id": "TpTUy3gA0f_k"
      }
    },
    {
      "cell_type": "markdown",
      "source": [
        "## INSIGHT 1 Series: Quantidade de issues lançadas por ano"
      ],
      "metadata": {
        "id": "Sn2MhLot0nNb"
      }
    },
    {
      "cell_type": "code",
      "source": [
        "series_by_year(dataSeries, show_plot=True)"
      ],
      "metadata": {
        "id": "7mEWQCMs0mO5",
        "outputId": "d54e4c79-0e55-40a5-9b06-74b5a6b188c7",
        "colab": {
          "base_uri": "https://localhost:8080/",
          "height": 1000
        }
      },
      "execution_count": 23,
      "outputs": [
        {
          "output_type": "display_data",
          "data": {
            "text/plain": [
              "<Figure size 2000x600 with 1 Axes>"
            ],
            "image/png": "[encoded data removed]"
          },
          "metadata": {}
        },
        {
          "output_type": "execute_result",
          "data": {
            "text/plain": [
              "startYear\n",
              "1938      4\n",
              "1939      2\n",
              "1940      5\n",
              "1941      5\n",
              "1945      2\n",
              "       ... \n",
              "2021    584\n",
              "2022    645\n",
              "2023    646\n",
              "2024    626\n",
              "2025    367\n",
              "Name: count, Length: 83, dtype: int64"
            ],
            "text/html": [
              "<div>\n",
              "<style scoped>\n",
              "    .dataframe tbody tr th:only-of-type {\n",
              "        vertical-align: middle;\n",
              "    }\n",
              "\n",
              "    .dataframe tbody tr th {\n",
              "        vertical-align: top;\n",
              "    }\n",
              "\n",
              "    .dataframe thead th {\n",
              "        text-align: right;\n",
              "    }\n",
              "</style>\n",
              "<table border=\"1\" class=\"dataframe\">\n",
              "  <thead>\n",
              "    <tr style=\"text-align: right;\">\n",
              "      <th></th>\n",
              "      <th>count</th>\n",
              "    </tr>\n",
              "    <tr>\n",
              "      <th>startYear</th>\n",
              "      <th></th>\n",
              "    </tr>\n",
              "  </thead>\n",
              "  <tbody>\n",
              "    <tr>\n",
              "      <th>1938</th>\n",
              "      <td>4</td>\n",
              "    </tr>\n",
              "    <tr>\n",
              "      <th>1939</th>\n",
              "      <td>2</td>\n",
              "    </tr>\n",
              "    <tr>\n",
              "      <th>1940</th>\n",
              "      <td>5</td>\n",
              "    </tr>\n",
              "    <tr>\n",
              "      <th>1941</th>\n",
              "      <td>5</td>\n",
              "    </tr>\n",
              "    <tr>\n",
              "      <th>1945</th>\n",
              "      <td>2</td>\n",
              "    </tr>\n",
              "    <tr>\n",
              "      <th>...</th>\n",
              "      <td>...</td>\n",
              "    </tr>\n",
              "    <tr>\n",
              "      <th>2021</th>\n",
              "      <td>584</td>\n",
              "    </tr>\n",
              "    <tr>\n",
              "      <th>2022</th>\n",
              "      <td>645</td>\n",
              "    </tr>\n",
              "    <tr>\n",
              "      <th>2023</th>\n",
              "      <td>646</td>\n",
              "    </tr>\n",
              "    <tr>\n",
              "      <th>2024</th>\n",
              "      <td>626</td>\n",
              "    </tr>\n",
              "    <tr>\n",
              "      <th>2025</th>\n",
              "      <td>367</td>\n",
              "    </tr>\n",
              "  </tbody>\n",
              "</table>\n",
              "<p>83 rows × 1 columns</p>\n",
              "</div><br><label><b>dtype:</b> int64</label>"
            ]
          },
          "metadata": {},
          "execution_count": 23
        }
      ]
    },
    {
      "cell_type": "markdown",
      "source": [
        "## INSIGHT 2 Series: Média da duração das series"
      ],
      "metadata": {
        "id": "YOY75O4D0u1v"
      }
    },
    {
      "cell_type": "code",
      "source": [
        "series_average_duration(dataSeries, show_plot=True)"
      ],
      "metadata": {
        "id": "gDn5ZEsX0wvw",
        "outputId": "9f0831c5-6149-46ac-b716-a8f2e19c5a82",
        "colab": {
          "base_uri": "https://localhost:8080/",
          "height": 713
        }
      },
      "execution_count": 24,
      "outputs": [
        {
          "output_type": "display_data",
          "data": {
            "text/plain": [
              "<Figure size 640x480 with 1 Axes>"
            ],
            "image/png": "[encoded data removed]"
          },
          "metadata": {}
        },
        {
          "output_type": "execute_result",
          "data": {
            "text/plain": [
              "(duration\n",
              " 0    11690\n",
              " 1      959\n",
              " 2      207\n",
              " 3       80\n",
              " 4       54\n",
              " 5       18\n",
              " 6       22\n",
              " 7       13\n",
              " 8       11\n",
              " 9       15\n",
              " Name: count, dtype: int64,\n",
              " np.float64(0.28381053914102955))"
            ]
          },
          "metadata": {},
          "execution_count": 24
        }
      ]
    },
    {
      "cell_type": "markdown",
      "source": [
        "## INSIGHT 3 Series: Distribuição classificatória de faixa etária"
      ],
      "metadata": {
        "id": "443dmtwq0y27"
      }
    },
    {
      "cell_type": "code",
      "source": [
        "series_distribution_rating(dataSeries, show_plot=True)"
      ],
      "metadata": {
        "id": "6XwKcMKJ02Ox",
        "outputId": "26af8e27-bf97-420e-d69f-6e448f219588",
        "colab": {
          "base_uri": "https://localhost:8080/",
          "height": 1000
        }
      },
      "execution_count": 25,
      "outputs": [
        {
          "output_type": "display_data",
          "data": {
            "text/plain": [
              "<Figure size 640x480 with 1 Axes>"
            ],
            "image/png": "[encoded data removed]"
          },
          "metadata": {}
        },
        {
          "output_type": "execute_result",
          "data": {
            "text/plain": [
              "rating\n",
              "Rated T+                              606\n",
              "All Ages                              589\n",
              "Marvel Psr                            381\n",
              "Rated a                               354\n",
              "Parental Advisory                     239\n",
              "T+                                    232\n",
              "T                                      83\n",
              "Rated T                                69\n",
              "Explicit Content                       66\n",
              "No Rating                              39\n",
              "Parental Advisory/Explicit Content     34\n",
              "A                                      29\n",
              "Marvel Psr+                            24\n",
              "Not in Oracle                          21\n",
              "Parental Advisoryslc                    8\n",
              "Max: Explicit Content                   6\n",
              "Marvel Age (12+)                        5\n",
              "Ages 12 & Up                            3\n",
              "Mature                                  3\n",
              "Parental Guidance                       3\n",
              "Pg                                      1\n",
              "17 and Up                               1\n",
              "17 & Up                                 1\n",
              "Parental Supervision                    1\n",
              "Name: count, dtype: int64"
            ],
            "text/html": [
              "<div>\n",
              "<style scoped>\n",
              "    .dataframe tbody tr th:only-of-type {\n",
              "        vertical-align: middle;\n",
              "    }\n",
              "\n",
              "    .dataframe tbody tr th {\n",
              "        vertical-align: top;\n",
              "    }\n",
              "\n",
              "    .dataframe thead th {\n",
              "        text-align: right;\n",
              "    }\n",
              "</style>\n",
              "<table border=\"1\" class=\"dataframe\">\n",
              "  <thead>\n",
              "    <tr style=\"text-align: right;\">\n",
              "      <th></th>\n",
              "      <th>count</th>\n",
              "    </tr>\n",
              "    <tr>\n",
              "      <th>rating</th>\n",
              "      <th></th>\n",
              "    </tr>\n",
              "  </thead>\n",
              "  <tbody>\n",
              "    <tr>\n",
              "      <th>Rated T+</th>\n",
              "      <td>606</td>\n",
              "    </tr>\n",
              "    <tr>\n",
              "      <th>All Ages</th>\n",
              "      <td>589</td>\n",
              "    </tr>\n",
              "    <tr>\n",
              "      <th>Marvel Psr</th>\n",
              "      <td>381</td>\n",
              "    </tr>\n",
              "    <tr>\n",
              "      <th>Rated a</th>\n",
              "      <td>354</td>\n",
              "    </tr>\n",
              "    <tr>\n",
              "      <th>Parental Advisory</th>\n",
              "      <td>239</td>\n",
              "    </tr>\n",
              "    <tr>\n",
              "      <th>T+</th>\n",
              "      <td>232</td>\n",
              "    </tr>\n",
              "    <tr>\n",
              "      <th>T</th>\n",
              "      <td>83</td>\n",
              "    </tr>\n",
              "    <tr>\n",
              "      <th>Rated T</th>\n",
              "      <td>69</td>\n",
              "    </tr>\n",
              "    <tr>\n",
              "      <th>Explicit Content</th>\n",
              "      <td>66</td>\n",
              "    </tr>\n",
              "    <tr>\n",
              "      <th>No Rating</th>\n",
              "      <td>39</td>\n",
              "    </tr>\n",
              "    <tr>\n",
              "      <th>Parental Advisory/Explicit Content</th>\n",
              "      <td>34</td>\n",
              "    </tr>\n",
              "    <tr>\n",
              "      <th>A</th>\n",
              "      <td>29</td>\n",
              "    </tr>\n",
              "    <tr>\n",
              "      <th>Marvel Psr+</th>\n",
              "      <td>24</td>\n",
              "    </tr>\n",
              "    <tr>\n",
              "      <th>Not in Oracle</th>\n",
              "      <td>21</td>\n",
              "    </tr>\n",
              "    <tr>\n",
              "      <th>Parental Advisoryslc</th>\n",
              "      <td>8</td>\n",
              "    </tr>\n",
              "    <tr>\n",
              "      <th>Max: Explicit Content</th>\n",
              "      <td>6</td>\n",
              "    </tr>\n",
              "    <tr>\n",
              "      <th>Marvel Age (12+)</th>\n",
              "      <td>5</td>\n",
              "    </tr>\n",
              "    <tr>\n",
              "      <th>Ages 12 &amp; Up</th>\n",
              "      <td>3</td>\n",
              "    </tr>\n",
              "    <tr>\n",
              "      <th>Mature</th>\n",
              "      <td>3</td>\n",
              "    </tr>\n",
              "    <tr>\n",
              "      <th>Parental Guidance</th>\n",
              "      <td>3</td>\n",
              "    </tr>\n",
              "    <tr>\n",
              "      <th>Pg</th>\n",
              "      <td>1</td>\n",
              "    </tr>\n",
              "    <tr>\n",
              "      <th>17 and Up</th>\n",
              "      <td>1</td>\n",
              "    </tr>\n",
              "    <tr>\n",
              "      <th>17 &amp; Up</th>\n",
              "      <td>1</td>\n",
              "    </tr>\n",
              "    <tr>\n",
              "      <th>Parental Supervision</th>\n",
              "      <td>1</td>\n",
              "    </tr>\n",
              "  </tbody>\n",
              "</table>\n",
              "</div><br><label><b>dtype:</b> int64</label>"
            ]
          },
          "metadata": {},
          "execution_count": 25
        }
      ]
    },
    {
      "cell_type": "markdown",
      "source": [
        "## INSIGHT 4 Series: Distribuição dos tipos de séries"
      ],
      "metadata": {
        "id": "iGi4O43808Ik"
      }
    },
    {
      "cell_type": "code",
      "source": [
        "series_distribuition_type(dataSeries, show_plot=True)"
      ],
      "metadata": {
        "id": "sCpeKJt109uw",
        "outputId": "60044758-7adf-4f0d-c5bb-9f2aea5fb538",
        "colab": {
          "base_uri": "https://localhost:8080/",
          "height": 711
        }
      },
      "execution_count": 26,
      "outputs": [
        {
          "output_type": "display_data",
          "data": {
            "text/plain": [
              "<Figure size 640x480 with 1 Axes>"
            ],
            "image/png": "[encoded data removed]"
          },
          "metadata": {}
        },
        {
          "output_type": "execute_result",
          "data": {
            "text/plain": [
              "type\n",
              "collection    6723\n",
              "one shot      1897\n",
              "ongoing        499\n",
              "limited        204\n",
              "Name: count, dtype: int64"
            ],
            "text/html": [
              "<div>\n",
              "<style scoped>\n",
              "    .dataframe tbody tr th:only-of-type {\n",
              "        vertical-align: middle;\n",
              "    }\n",
              "\n",
              "    .dataframe tbody tr th {\n",
              "        vertical-align: top;\n",
              "    }\n",
              "\n",
              "    .dataframe thead th {\n",
              "        text-align: right;\n",
              "    }\n",
              "</style>\n",
              "<table border=\"1\" class=\"dataframe\">\n",
              "  <thead>\n",
              "    <tr style=\"text-align: right;\">\n",
              "      <th></th>\n",
              "      <th>count</th>\n",
              "    </tr>\n",
              "    <tr>\n",
              "      <th>type</th>\n",
              "      <th></th>\n",
              "    </tr>\n",
              "  </thead>\n",
              "  <tbody>\n",
              "    <tr>\n",
              "      <th>collection</th>\n",
              "      <td>6723</td>\n",
              "    </tr>\n",
              "    <tr>\n",
              "      <th>one shot</th>\n",
              "      <td>1897</td>\n",
              "    </tr>\n",
              "    <tr>\n",
              "      <th>ongoing</th>\n",
              "      <td>499</td>\n",
              "    </tr>\n",
              "    <tr>\n",
              "      <th>limited</th>\n",
              "      <td>204</td>\n",
              "    </tr>\n",
              "  </tbody>\n",
              "</table>\n",
              "</div><br><label><b>dtype:</b> int64</label>"
            ]
          },
          "metadata": {},
          "execution_count": 26
        }
      ]
    },
    {
      "cell_type": "markdown",
      "source": [
        "## INSIGHT 5 Series: Quantidade de personagens por ano"
      ],
      "metadata": {
        "id": "vw6jn9uK1B0R"
      }
    },
    {
      "cell_type": "code",
      "source": [
        "series_quantity_characters_year(dataSeries, show_plot=True)"
      ],
      "metadata": {
        "id": "t0_KzFtB1DZB",
        "outputId": "b5ab1660-22c9-4c81-c8f3-4c38b04d0d3e",
        "colab": {
          "base_uri": "https://localhost:8080/",
          "height": 991
        }
      },
      "execution_count": 27,
      "outputs": [
        {
          "output_type": "display_data",
          "data": {
            "text/plain": [
              "<Figure size 2000x600 with 1 Axes>"
            ],
            "image/png": "[encoded data removed]"
          },
          "metadata": {}
        },
        {
          "output_type": "execute_result",
          "data": {
            "text/plain": [
              "1939      22.0\n",
              "1940      13.0\n",
              "1941      26.0\n",
              "1942       0.0\n",
              "1943       0.0\n",
              "         ...  \n",
              "2021     771.0\n",
              "2022    1128.0\n",
              "2023     910.0\n",
              "2024     644.0\n",
              "2025      97.0\n",
              "Length: 87, dtype: float64"
            ],
            "text/html": [
              "<div>\n",
              "<style scoped>\n",
              "    .dataframe tbody tr th:only-of-type {\n",
              "        vertical-align: middle;\n",
              "    }\n",
              "\n",
              "    .dataframe tbody tr th {\n",
              "        vertical-align: top;\n",
              "    }\n",
              "\n",
              "    .dataframe thead th {\n",
              "        text-align: right;\n",
              "    }\n",
              "</style>\n",
              "<table border=\"1\" class=\"dataframe\">\n",
              "  <thead>\n",
              "    <tr style=\"text-align: right;\">\n",
              "      <th></th>\n",
              "      <th>0</th>\n",
              "    </tr>\n",
              "  </thead>\n",
              "  <tbody>\n",
              "    <tr>\n",
              "      <th>1939</th>\n",
              "      <td>22.0</td>\n",
              "    </tr>\n",
              "    <tr>\n",
              "      <th>1940</th>\n",
              "      <td>13.0</td>\n",
              "    </tr>\n",
              "    <tr>\n",
              "      <th>1941</th>\n",
              "      <td>26.0</td>\n",
              "    </tr>\n",
              "    <tr>\n",
              "      <th>1942</th>\n",
              "      <td>0.0</td>\n",
              "    </tr>\n",
              "    <tr>\n",
              "      <th>1943</th>\n",
              "      <td>0.0</td>\n",
              "    </tr>\n",
              "    <tr>\n",
              "      <th>...</th>\n",
              "      <td>...</td>\n",
              "    </tr>\n",
              "    <tr>\n",
              "      <th>2021</th>\n",
              "      <td>771.0</td>\n",
              "    </tr>\n",
              "    <tr>\n",
              "      <th>2022</th>\n",
              "      <td>1128.0</td>\n",
              "    </tr>\n",
              "    <tr>\n",
              "      <th>2023</th>\n",
              "      <td>910.0</td>\n",
              "    </tr>\n",
              "    <tr>\n",
              "      <th>2024</th>\n",
              "      <td>644.0</td>\n",
              "    </tr>\n",
              "    <tr>\n",
              "      <th>2025</th>\n",
              "      <td>97.0</td>\n",
              "    </tr>\n",
              "  </tbody>\n",
              "</table>\n",
              "<p>87 rows × 1 columns</p>\n",
              "</div><br><label><b>dtype:</b> float64</label>"
            ]
          },
          "metadata": {},
          "execution_count": 27
        }
      ]
    },
    {
      "cell_type": "markdown",
      "source": [
        "## Dados errados da API em relação a duração"
      ],
      "metadata": {
        "id": "OSC72j2o1HUU"
      }
    },
    {
      "cell_type": "code",
      "source": [
        "duration = dataSeries['duration'].value_counts().sort_index()\n",
        "dataSeries[(dataSeries['duration'] < 0) | (dataSeries['duration'] > 999)]"
      ],
      "metadata": {
        "id": "mdQ9N5E01Ilo",
        "outputId": "cbb904cb-36b5-40aa-92f3-191b903359ec",
        "colab": {
          "base_uri": "https://localhost:8080/",
          "height": 551
        }
      },
      "execution_count": 28,
      "outputs": [
        {
          "output_type": "execute_result",
          "data": {
            "text/plain": [
              "          id                                              title  \\\n",
              "3599    7734                         Electric Ant (0000 - 2010)   \n",
              "3925   33956  Eternals: 500-Year War Infinity Comic (2029 - ...   \n",
              "4622   25304                             GET FURY (2029 - 2024)   \n",
              "5990    5267   Iron Man: Director of S.H.I.E.L.D. (2008 - 2007)   \n",
              "7712   14745          Marvel Super Stars Magazine (2011 - 2010)   \n",
              "9094   13568  Official Handbook of the Ultimate Marvel Unive...   \n",
              "9095   13567  Official Handbook of the Ultimate Marvel Unive...   \n",
              "9471    9932        Punisher Max: Tiny Ugly World (2013 - 2010)   \n",
              "10160   3864  SHANNA THE SHE DEVIL: SURVIVAL OF THE FITTEST ...   \n",
              "11375  20133                 Star Wars: Boba Fett (1997 - 1996)   \n",
              "14448  14015                       Wolverine Saga (2009 - 1938)   \n",
              "\n",
              "                                             description  startYear  endYear  \\\n",
              "3599                                                None          0     2010   \n",
              "3925   An international, all-star creative team of wr...       2029     2022   \n",
              "4622                                                None       2029     2024   \n",
              "5990   Being one of the world's smartest, wealthiest ...       2008     2007   \n",
              "7712                                                None       2011     2010   \n",
              "9094                                                None       2010     2006   \n",
              "9095                                                None       2010     2006   \n",
              "9471                                                None       2013     2010   \n",
              "10160                                               None       2008     2007   \n",
              "11375                                               None       1997     1996   \n",
              "14448                                               None       2009     1938   \n",
              "\n",
              "                  rating        type  duration  \\\n",
              "3599                                      2010   \n",
              "3925                                        -7   \n",
              "4622                      collection        -5   \n",
              "5990                                        -1   \n",
              "7712                                        -1   \n",
              "9094                                        -4   \n",
              "9095                                        -4   \n",
              "9471                                        -3   \n",
              "10160  Parental Advisory                    -1   \n",
              "11375                                       -1   \n",
              "14448                                      -71   \n",
              "\n",
              "                                            creator_name  creator_qty  \\\n",
              "3599   Pascal Alixe, Lovern Kindzierski, Chris Sotoma...            8   \n",
              "3925   Geoffo, Dan Abnett, Yifan Jiang, David Macho, ...           21   \n",
              "4622                                     Jeff Youngquist            1   \n",
              "5990   Vc Joe Caramagna, Sean Chen, Steve Kurth, Carl...           15   \n",
              "7712                                      Michael Turner            1   \n",
              "9094   Various, Mark Bagley, Morry Hollowell, Stuart ...            4   \n",
              "9095                                                                0   \n",
              "9471                       David Lapham, Dalibor Talajic            2   \n",
              "10160                                                               0   \n",
              "11375              Steve Dutro, Cam Kennedy, John Wagner            3   \n",
              "14448                                                               0   \n",
              "\n",
              "       character_qty  story_qty  event_qty  comic_qty  \n",
              "3599               0         39          0          6  \n",
              "3925               0         14          0          7  \n",
              "4622               0          2          0          1  \n",
              "5990               1         19          2          8  \n",
              "7712               0          1          0          1  \n",
              "9094               4          7          0          4  \n",
              "9095               0          0          0          0  \n",
              "9471               0          2          0          1  \n",
              "10160              0          4          0          1  \n",
              "11375              0          2          0          1  \n",
              "14448              2          4          0          1  "
            ],
            "text/html": [
              "\n",
              "  <div id=\"df-113b55de-cc56-4222-b68e-bfc87fc5b0ef\" class=\"colab-df-container\">\n",
              "    <div>\n",
              "<style scoped>\n",
              "    .dataframe tbody tr th:only-of-type {\n",
              "        vertical-align: middle;\n",
              "    }\n",
              "\n",
              "    .dataframe tbody tr th {\n",
              "        vertical-align: top;\n",
              "    }\n",
              "\n",
              "    .dataframe thead th {\n",
              "        text-align: right;\n",
              "    }\n",
              "</style>\n",
              "<table border=\"1\" class=\"dataframe\">\n",
              "  <thead>\n",
              "    <tr style=\"text-align: right;\">\n",
              "      <th></th>\n",
              "      <th>id</th>\n",
              "      <th>title</th>\n",
              "      <th>description</th>\n",
              "      <th>startYear</th>\n",
              "      <th>endYear</th>\n",
              "      <th>rating</th>\n",
              "      <th>type</th>\n",
              "      <th>duration</th>\n",
              "      <th>creator_name</th>\n",
              "      <th>creator_qty</th>\n",
              "      <th>character_qty</th>\n",
              "      <th>story_qty</th>\n",
              "      <th>event_qty</th>\n",
              "      <th>comic_qty</th>\n",
              "    </tr>\n",
              "  </thead>\n",
              "  <tbody>\n",
              "    <tr>\n",
              "      <th>3599</th>\n",
              "      <td>7734</td>\n",
              "      <td>Electric Ant (0000 - 2010)</td>\n",
              "      <td>None</td>\n",
              "      <td>0</td>\n",
              "      <td>2010</td>\n",
              "      <td></td>\n",
              "      <td></td>\n",
              "      <td>2010</td>\n",
              "      <td>Pascal Alixe, Lovern Kindzierski, Chris Sotoma...</td>\n",
              "      <td>8</td>\n",
              "      <td>0</td>\n",
              "      <td>39</td>\n",
              "      <td>0</td>\n",
              "      <td>6</td>\n",
              "    </tr>\n",
              "    <tr>\n",
              "      <th>3925</th>\n",
              "      <td>33956</td>\n",
              "      <td>Eternals: 500-Year War Infinity Comic (2029 - ...</td>\n",
              "      <td>An international, all-star creative team of wr...</td>\n",
              "      <td>2029</td>\n",
              "      <td>2022</td>\n",
              "      <td></td>\n",
              "      <td></td>\n",
              "      <td>-7</td>\n",
              "      <td>Geoffo, Dan Abnett, Yifan Jiang, David Macho, ...</td>\n",
              "      <td>21</td>\n",
              "      <td>0</td>\n",
              "      <td>14</td>\n",
              "      <td>0</td>\n",
              "      <td>7</td>\n",
              "    </tr>\n",
              "    <tr>\n",
              "      <th>4622</th>\n",
              "      <td>25304</td>\n",
              "      <td>GET FURY (2029 - 2024)</td>\n",
              "      <td>None</td>\n",
              "      <td>2029</td>\n",
              "      <td>2024</td>\n",
              "      <td></td>\n",
              "      <td>collection</td>\n",
              "      <td>-5</td>\n",
              "      <td>Jeff Youngquist</td>\n",
              "      <td>1</td>\n",
              "      <td>0</td>\n",
              "      <td>2</td>\n",
              "      <td>0</td>\n",
              "      <td>1</td>\n",
              "    </tr>\n",
              "    <tr>\n",
              "      <th>5990</th>\n",
              "      <td>5267</td>\n",
              "      <td>Iron Man: Director of S.H.I.E.L.D. (2008 - 2007)</td>\n",
              "      <td>Being one of the world's smartest, wealthiest ...</td>\n",
              "      <td>2008</td>\n",
              "      <td>2007</td>\n",
              "      <td></td>\n",
              "      <td></td>\n",
              "      <td>-1</td>\n",
              "      <td>Vc Joe Caramagna, Sean Chen, Steve Kurth, Carl...</td>\n",
              "      <td>15</td>\n",
              "      <td>1</td>\n",
              "      <td>19</td>\n",
              "      <td>2</td>\n",
              "      <td>8</td>\n",
              "    </tr>\n",
              "    <tr>\n",
              "      <th>7712</th>\n",
              "      <td>14745</td>\n",
              "      <td>Marvel Super Stars Magazine (2011 - 2010)</td>\n",
              "      <td>None</td>\n",
              "      <td>2011</td>\n",
              "      <td>2010</td>\n",
              "      <td></td>\n",
              "      <td></td>\n",
              "      <td>-1</td>\n",
              "      <td>Michael Turner</td>\n",
              "      <td>1</td>\n",
              "      <td>0</td>\n",
              "      <td>1</td>\n",
              "      <td>0</td>\n",
              "      <td>1</td>\n",
              "    </tr>\n",
              "    <tr>\n",
              "      <th>9094</th>\n",
              "      <td>13568</td>\n",
              "      <td>Official Handbook of the Ultimate Marvel Unive...</td>\n",
              "      <td>None</td>\n",
              "      <td>2010</td>\n",
              "      <td>2006</td>\n",
              "      <td></td>\n",
              "      <td></td>\n",
              "      <td>-4</td>\n",
              "      <td>Various, Mark Bagley, Morry Hollowell, Stuart ...</td>\n",
              "      <td>4</td>\n",
              "      <td>4</td>\n",
              "      <td>7</td>\n",
              "      <td>0</td>\n",
              "      <td>4</td>\n",
              "    </tr>\n",
              "    <tr>\n",
              "      <th>9095</th>\n",
              "      <td>13567</td>\n",
              "      <td>Official Handbook of the Ultimate Marvel Unive...</td>\n",
              "      <td>None</td>\n",
              "      <td>2010</td>\n",
              "      <td>2006</td>\n",
              "      <td></td>\n",
              "      <td></td>\n",
              "      <td>-4</td>\n",
              "      <td></td>\n",
              "      <td>0</td>\n",
              "      <td>0</td>\n",
              "      <td>0</td>\n",
              "      <td>0</td>\n",
              "      <td>0</td>\n",
              "    </tr>\n",
              "    <tr>\n",
              "      <th>9471</th>\n",
              "      <td>9932</td>\n",
              "      <td>Punisher Max: Tiny Ugly World (2013 - 2010)</td>\n",
              "      <td>None</td>\n",
              "      <td>2013</td>\n",
              "      <td>2010</td>\n",
              "      <td></td>\n",
              "      <td></td>\n",
              "      <td>-3</td>\n",
              "      <td>David Lapham, Dalibor Talajic</td>\n",
              "      <td>2</td>\n",
              "      <td>0</td>\n",
              "      <td>2</td>\n",
              "      <td>0</td>\n",
              "      <td>1</td>\n",
              "    </tr>\n",
              "    <tr>\n",
              "      <th>10160</th>\n",
              "      <td>3864</td>\n",
              "      <td>SHANNA THE SHE DEVIL: SURVIVAL OF THE FITTEST ...</td>\n",
              "      <td>None</td>\n",
              "      <td>2008</td>\n",
              "      <td>2007</td>\n",
              "      <td>Parental Advisory</td>\n",
              "      <td></td>\n",
              "      <td>-1</td>\n",
              "      <td></td>\n",
              "      <td>0</td>\n",
              "      <td>0</td>\n",
              "      <td>4</td>\n",
              "      <td>0</td>\n",
              "      <td>1</td>\n",
              "    </tr>\n",
              "    <tr>\n",
              "      <th>11375</th>\n",
              "      <td>20133</td>\n",
              "      <td>Star Wars: Boba Fett (1997 - 1996)</td>\n",
              "      <td>None</td>\n",
              "      <td>1997</td>\n",
              "      <td>1996</td>\n",
              "      <td></td>\n",
              "      <td></td>\n",
              "      <td>-1</td>\n",
              "      <td>Steve Dutro, Cam Kennedy, John Wagner</td>\n",
              "      <td>3</td>\n",
              "      <td>0</td>\n",
              "      <td>2</td>\n",
              "      <td>0</td>\n",
              "      <td>1</td>\n",
              "    </tr>\n",
              "    <tr>\n",
              "      <th>14448</th>\n",
              "      <td>14015</td>\n",
              "      <td>Wolverine Saga (2009 - 1938)</td>\n",
              "      <td>None</td>\n",
              "      <td>2009</td>\n",
              "      <td>1938</td>\n",
              "      <td></td>\n",
              "      <td></td>\n",
              "      <td>-71</td>\n",
              "      <td></td>\n",
              "      <td>0</td>\n",
              "      <td>2</td>\n",
              "      <td>4</td>\n",
              "      <td>0</td>\n",
              "      <td>1</td>\n",
              "    </tr>\n",
              "  </tbody>\n",
              "</table>\n",
              "</div>\n",
              "    <div class=\"colab-df-buttons\">\n",
              "\n",
              "  <div class=\"colab-df-container\">\n",
              "    <button class=\"colab-df-convert\" onclick=\"convertToInteractive('df-113b55de-cc56-4222-b68e-bfc87fc5b0ef')\"\n",
              "            title=\"Convert this dataframe to an interactive table.\"\n",
              "            style=\"display:none;\">\n",
              "\n",
              "  <svg xmlns=\"http://www.w3.org/2000/svg\" height=\"24px\" viewBox=\"0 -960 960 960\">\n",
              "    <path d=\"M120-120v-720h720v720H120Zm60-500h600v-160H180v160Zm220 220h160v-160H400v160Zm0 220h160v-160H400v160ZM180-400h160v-160H180v160Zm440 0h160v-160H620v160ZM180-180h160v-160H180v160Zm440 0h160v-160H620v160Z\"/>\n",
              "  </svg>\n",
              "    </button>\n",
              "\n",
              "  <style>\n",
              "    .colab-df-container {\n",
              "      display:flex;\n",
              "      gap: 12px;\n",
              "    }\n",
              "\n",
              "    .colab-df-convert {\n",
              "      background-color: #E8F0FE;\n",
              "      border: none;\n",
              "      border-radius: 50%;\n",
              "      cursor: pointer;\n",
              "      display: none;\n",
              "      fill: #1967D2;\n",
              "      height: 32px;\n",
              "      padding: 0 0 0 0;\n",
              "      width: 32px;\n",
              "    }\n",
              "\n",
              "    .colab-df-convert:hover {\n",
              "      background-color: #E2EBFA;\n",
              "      box-shadow: 0px 1px 2px rgba(60, 64, 67, 0.3), 0px 1px 3px 1px rgba(60, 64, 67, 0.15);\n",
              "      fill: #174EA6;\n",
              "    }\n",
              "\n",
              "    .colab-df-buttons div {\n",
              "      margin-bottom: 4px;\n",
              "    }\n",
              "\n",
              "    [theme=dark] .colab-df-convert {\n",
              "      background-color: #3B4455;\n",
              "      fill: #D2E3FC;\n",
              "    }\n",
              "\n",
              "    [theme=dark] .colab-df-convert:hover {\n",
              "      background-color: #434B5C;\n",
              "      box-shadow: 0px 1px 3px 1px rgba(0, 0, 0, 0.15);\n",
              "      filter: drop-shadow(0px 1px 2px rgba(0, 0, 0, 0.3));\n",
              "      fill: #FFFFFF;\n",
              "    }\n",
              "  </style>\n",
              "\n",
              "    <script>\n",
              "      const buttonEl =\n",
              "        document.querySelector('#df-113b55de-cc56-4222-b68e-bfc87fc5b0ef button.colab-df-convert');\n",
              "      buttonEl.style.display =\n",
              "        google.colab.kernel.accessAllowed ? 'block' : 'none';\n",
              "\n",
              "      async function convertToInteractive(key) {\n",
              "        const element = document.querySelector('#df-113b55de-cc56-4222-b68e-bfc87fc5b0ef');\n",
              "        const dataTable =\n",
              "          await google.colab.kernel.invokeFunction('convertToInteractive',\n",
              "                                                    [key], {});\n",
              "        if (!dataTable) return;\n",
              "\n",
              "        const docLinkHtml = 'Like what you see? Visit the ' +\n",
              "          '<a target=\"_blank\" href=https://colab.research.google.com/notebooks/data_table.ipynb>data table notebook</a>'\n",
              "          + ' to learn more about interactive tables.';\n",
              "        element.innerHTML = '';\n",
              "        dataTable['output_type'] = 'display_data';\n",
              "        await google.colab.output.renderOutput(dataTable, element);\n",
              "        const docLink = document.createElement('div');\n",
              "        docLink.innerHTML = docLinkHtml;\n",
              "        element.appendChild(docLink);\n",
              "      }\n",
              "    </script>\n",
              "  </div>\n",
              "\n",
              "\n",
              "    <div id=\"df-ea8ba73c-7e57-4874-943a-abd3fa091431\">\n",
              "      <button class=\"colab-df-quickchart\" onclick=\"quickchart('df-ea8ba73c-7e57-4874-943a-abd3fa091431')\"\n",
              "                title=\"Suggest charts\"\n",
              "                style=\"display:none;\">\n",
              "\n",
              "<svg xmlns=\"http://www.w3.org/2000/svg\" height=\"24px\"viewBox=\"0 0 24 24\"\n",
              "     width=\"24px\">\n",
              "    <g>\n",
              "        <path d=\"M19 3H5c-1.1 0-2 .9-2 2v14c0 1.1.9 2 2 2h14c1.1 0 2-.9 2-2V5c0-1.1-.9-2-2-2zM9 17H7v-7h2v7zm4 0h-2V7h2v10zm4 0h-2v-4h2v4z\"/>\n",
              "    </g>\n",
              "</svg>\n",
              "      </button>\n",
              "\n",
              "<style>\n",
              "  .colab-df-quickchart {\n",
              "      --bg-color: #E8F0FE;\n",
              "      --fill-color: #1967D2;\n",
              "      --hover-bg-color: #E2EBFA;\n",
              "      --hover-fill-color: #174EA6;\n",
              "      --disabled-fill-color: #AAA;\n",
              "      --disabled-bg-color: #DDD;\n",
              "  }\n",
              "\n",
              "  [theme=dark] .colab-df-quickchart {\n",
              "      --bg-color: #3B4455;\n",
              "      --fill-color: #D2E3FC;\n",
              "      --hover-bg-color: #434B5C;\n",
              "      --hover-fill-color: #FFFFFF;\n",
              "      --disabled-bg-color: #3B4455;\n",
              "      --disabled-fill-color: #666;\n",
              "  }\n",
              "\n",
              "  .colab-df-quickchart {\n",
              "    background-color: var(--bg-color);\n",
              "    border: none;\n",
              "    border-radius: 50%;\n",
              "    cursor: pointer;\n",
              "    display: none;\n",
              "    fill: var(--fill-color);\n",
              "    height: 32px;\n",
              "    padding: 0;\n",
              "    width: 32px;\n",
              "  }\n",
              "\n",
              "  .colab-df-quickchart:hover {\n",
              "    background-color: var(--hover-bg-color);\n",
              "    box-shadow: 0 1px 2px rgba(60, 64, 67, 0.3), 0 1px 3px 1px rgba(60, 64, 67, 0.15);\n",
              "    fill: var(--button-hover-fill-color);\n",
              "  }\n",
              "\n",
              "  .colab-df-quickchart-complete:disabled,\n",
              "  .colab-df-quickchart-complete:disabled:hover {\n",
              "    background-color: var(--disabled-bg-color);\n",
              "    fill: var(--disabled-fill-color);\n",
              "    box-shadow: none;\n",
              "  }\n",
              "\n",
              "  .colab-df-spinner {\n",
              "    border: 2px solid var(--fill-color);\n",
              "    border-color: transparent;\n",
              "    border-bottom-color: var(--fill-color);\n",
              "    animation:\n",
              "      spin 1s steps(1) infinite;\n",
              "  }\n",
              "\n",
              "  @keyframes spin {\n",
              "    0% {\n",
              "      border-color: transparent;\n",
              "      border-bottom-color: var(--fill-color);\n",
              "      border-left-color: var(--fill-color);\n",
              "    }\n",
              "    20% {\n",
              "      border-color: transparent;\n",
              "      border-left-color: var(--fill-color);\n",
              "      border-top-color: var(--fill-color);\n",
              "    }\n",
              "    30% {\n",
              "      border-color: transparent;\n",
              "      border-left-color: var(--fill-color);\n",
              "      border-top-color: var(--fill-color);\n",
              "      border-right-color: var(--fill-color);\n",
              "    }\n",
              "    40% {\n",
              "      border-color: transparent;\n",
              "      border-right-color: var(--fill-color);\n",
              "      border-top-color: var(--fill-color);\n",
              "    }\n",
              "    60% {\n",
              "      border-color: transparent;\n",
              "      border-right-color: var(--fill-color);\n",
              "    }\n",
              "    80% {\n",
              "      border-color: transparent;\n",
              "      border-right-color: var(--fill-color);\n",
              "      border-bottom-color: var(--fill-color);\n",
              "    }\n",
              "    90% {\n",
              "      border-color: transparent;\n",
              "      border-bottom-color: var(--fill-color);\n",
              "    }\n",
              "  }\n",
              "</style>\n",
              "\n",
              "      <script>\n",
              "        async function quickchart(key) {\n",
              "          const quickchartButtonEl =\n",
              "            document.querySelector('#' + key + ' button');\n",
              "          quickchartButtonEl.disabled = true;  // To prevent multiple clicks.\n",
              "          quickchartButtonEl.classList.add('colab-df-spinner');\n",
              "          try {\n",
              "            const charts = await google.colab.kernel.invokeFunction(\n",
              "                'suggestCharts', [key], {});\n",
              "          } catch (error) {\n",
              "            console.error('Error during call to suggestCharts:', error);\n",
              "          }\n",
              "          quickchartButtonEl.classList.remove('colab-df-spinner');\n",
              "          quickchartButtonEl.classList.add('colab-df-quickchart-complete');\n",
              "        }\n",
              "        (() => {\n",
              "          let quickchartButtonEl =\n",
              "            document.querySelector('#df-ea8ba73c-7e57-4874-943a-abd3fa091431 button');\n",
              "          quickchartButtonEl.style.display =\n",
              "            google.colab.kernel.accessAllowed ? 'block' : 'none';\n",
              "        })();\n",
              "      </script>\n",
              "    </div>\n",
              "\n",
              "    </div>\n",
              "  </div>\n"
            ],
            "application/vnd.google.colaboratory.intrinsic+json": {
              "type": "dataframe",
              "summary": "{\n  \"name\": \"dataSeries[(dataSeries['duration'] < 0) | (dataSeries['duration'] > 999)]\",\n  \"rows\": 11,\n  \"fields\": [\n    {\n      \"column\": \"id\",\n      \"properties\": {\n        \"dtype\": \"number\",\n        \"std\": 8907,\n        \"min\": 3864,\n        \"max\": 33956,\n        \"num_unique_values\": 11,\n        \"samples\": [\n          13568,\n          7734,\n          20133\n        ],\n        \"semantic_type\": \"\",\n        \"description\": \"\"\n      }\n    },\n    {\n      \"column\": \"title\",\n      \"properties\": {\n        \"dtype\": \"string\",\n        \"num_unique_values\": 11,\n        \"samples\": [\n          \"Official Handbook of the Ultimate Marvel Universe: Vol. 1 Digital Comic (2010 - 2006)\",\n          \"Electric Ant (0000 - 2010)\",\n          \"Star Wars: Boba Fett (1997 - 1996)\"\n        ],\n        \"semantic_type\": \"\",\n        \"description\": \"\"\n      }\n    },\n    {\n      \"column\": \"description\",\n      \"properties\": {\n        \"dtype\": \"category\",\n        \"num_unique_values\": 2,\n        \"samples\": [\n          \"Being one of the world's smartest, wealthiest and most powerful men has not made life easy for Tony Stark. Not only does he operate Earth's most sophisticated battlesuit as Iron Man, but in the wake of the Civil War he's also the new director of S.H.I.E.L.D.--all at the cost of his personal life and relationships. A book filled with hi-tech action, political intrigue and emotional resonance, Iron Man delivers the goods!\",\n          \"An international, all-star creative team of writers and artists presents ETERNALS: THE 500 YEAR WAR! Across 7-issues, follow the Eternals in their past encounters against the Deviants. While fighting their longstanding enemies, witness the Eternals interact with different cultures of the human race across time, through the cultural artifacts that were gifted to them.\"\n        ],\n        \"semantic_type\": \"\",\n        \"description\": \"\"\n      }\n    },\n    {\n      \"column\": \"startYear\",\n      \"properties\": {\n        \"dtype\": \"number\",\n        \"std\": 606,\n        \"min\": 0,\n        \"max\": 2029,\n        \"num_unique_values\": 8,\n        \"samples\": [\n          2029,\n          2013\n        ],\n        \"semantic_type\": \"\",\n        \"description\": \"\"\n      }\n    },\n    {\n      \"column\": \"endYear\",\n      \"properties\": {\n        \"dtype\": \"number\",\n        \"std\": 22,\n        \"min\": 1938,\n        \"max\": 2024,\n        \"num_unique_values\": 7,\n        \"samples\": [\n          2010,\n          2022\n        ],\n        \"semantic_type\": \"\",\n        \"description\": \"\"\n      }\n    },\n    {\n      \"column\": \"rating\",\n      \"properties\": {\n        \"dtype\": \"category\",\n        \"num_unique_values\": 2,\n        \"samples\": [\n          \"Parental Advisory\",\n          \"\"\n        ],\n        \"semantic_type\": \"\",\n        \"description\": \"\"\n      }\n    },\n    {\n      \"column\": \"type\",\n      \"properties\": {\n        \"dtype\": \"category\",\n        \"num_unique_values\": 2,\n        \"samples\": [\n          \"collection\",\n          \"\"\n        ],\n        \"semantic_type\": \"\",\n        \"description\": \"\"\n      }\n    },\n    {\n      \"column\": \"duration\",\n      \"properties\": {\n        \"dtype\": \"number\",\n        \"std\": 609,\n        \"min\": -71,\n        \"max\": 2010,\n        \"num_unique_values\": 7,\n        \"samples\": [\n          2010,\n          -7\n        ],\n        \"semantic_type\": \"\",\n        \"description\": \"\"\n      }\n    },\n    {\n      \"column\": \"creator_name\",\n      \"properties\": {\n        \"dtype\": \"string\",\n        \"num_unique_values\": 9,\n        \"samples\": [\n          \"David Lapham, Dalibor Talajic\",\n          \"Geoffo, Dan Abnett, Yifan Jiang, David Macho, Pyeong-Jun Park, Rafael Scavone, Jongmin Shin, Marcio Fiorito, G Geoffo, G Gunji, Do Gyun Kim, Magda Price, Rickie Yagawa, Carlos Macias, Matt Milla, Pete Pantazis, Fer Sifuentes-Sujo, Felipe Sobreiro, Vc Joe Sabino, Darren Shan\"\n        ],\n        \"semantic_type\": \"\",\n        \"description\": \"\"\n      }\n    },\n    {\n      \"column\": \"creator_qty\",\n      \"properties\": {\n        \"dtype\": \"number\",\n        \"std\": 6,\n        \"min\": 0,\n        \"max\": 21,\n        \"num_unique_values\": 8,\n        \"samples\": [\n          21,\n          0\n        ],\n        \"semantic_type\": \"\",\n        \"description\": \"\"\n      }\n    },\n    {\n      \"column\": \"character_qty\",\n      \"properties\": {\n        \"dtype\": \"number\",\n        \"std\": 1,\n        \"min\": 0,\n        \"max\": 4,\n        \"num_unique_values\": 4,\n        \"samples\": [\n          1,\n          2\n        ],\n        \"semantic_type\": \"\",\n        \"description\": \"\"\n      }\n    },\n    {\n      \"column\": \"story_qty\",\n      \"properties\": {\n        \"dtype\": \"number\",\n        \"std\": 11,\n        \"min\": 0,\n        \"max\": 39,\n        \"num_unique_values\": 8,\n        \"samples\": [\n          14,\n          7\n        ],\n        \"semantic_type\": \"\",\n        \"description\": \"\"\n      }\n    },\n    {\n      \"column\": \"event_qty\",\n      \"properties\": {\n        \"dtype\": \"number\",\n        \"std\": 0,\n        \"min\": 0,\n        \"max\": 2,\n        \"num_unique_values\": 2,\n        \"samples\": [\n          2,\n          0\n        ],\n        \"semantic_type\": \"\",\n        \"description\": \"\"\n      }\n    },\n    {\n      \"column\": \"comic_qty\",\n      \"properties\": {\n        \"dtype\": \"number\",\n        \"std\": 2,\n        \"min\": 0,\n        \"max\": 8,\n        \"num_unique_values\": 6,\n        \"samples\": [\n          6,\n          7\n        ],\n        \"semantic_type\": \"\",\n        \"description\": \"\"\n      }\n    }\n  ]\n}"
            }
          },
          "metadata": {},
          "execution_count": 28
        }
      ]
    },
    {
      "cell_type": "markdown",
      "source": [
        "# Stories"
      ],
      "metadata": {
        "id": "k-G0UVwa1RCb"
      }
    },
    {
      "cell_type": "markdown",
      "source": [
        "## INSIGHT 1 Stories: Quantidade de cada tipo"
      ],
      "metadata": {
        "id": "jQzhHYV11TLM"
      }
    },
    {
      "cell_type": "code",
      "source": [
        "types = stories_quantity_type(dataStories, show_plot=True)"
      ],
      "metadata": {
        "id": "HSP-HrRI1SJA",
        "outputId": "4b513c69-6e55-47bd-a807-c5179ce0f33b",
        "colab": {
          "base_uri": "https://localhost:8080/",
          "height": 542
        }
      },
      "execution_count": 29,
      "outputs": [
        {
          "output_type": "display_data",
          "data": {
            "text/html": [
              "<html>\n",
              "<head><meta charset=\"utf-8\" /></head>\n",
              "<body>\n",
              "    <div>            <script src=\"https://cdnjs.cloudflare.com/ajax/libs/mathjax/2.7.5/MathJax.js?config=TeX-AMS-MML_SVG\"></script><script type=\"text/javascript\">if (window.MathJax && window.MathJax.Hub && window.MathJax.Hub.Config) {window.MathJax.Hub.Config({SVG: {font: \"STIX-Web\"}});}</script>                <script type=\"text/javascript\">window.PlotlyConfig = {MathJaxConfig: 'local'};</script>\n",
              "        <script charset=\"utf-8\" src=\"https://cdn.plot.ly/plotly-2.35.2.min.js\"></script>                <div id=\"22e62619-0998-47b2-a7c5-c33c5d142145\" class=\"plotly-graph-div\" style=\"height:525px; width:100%;\"></div>            <script type=\"text/javascript\">                                    window.PLOTLYENV=window.PLOTLYENV || {};                                    if (document.getElementById(\"22e62619-0998-47b2-a7c5-c33c5d142145\")) {                    Plotly.newPlot(                        \"22e62619-0998-47b2-a7c5-c33c5d142145\",                        [{\"alignmentgroup\":\"True\",\"hovertemplate\":\"type=%{x}\\u003cbr\\u003eQuantidade=%{y}\\u003cextra\\u003e\\u003c\\u002fextra\\u003e\",\"legendgroup\":\"\",\"marker\":{\"color\":\"purple\",\"pattern\":{\"shape\":\"\"}},\"name\":\"\",\"offsetgroup\":\"\",\"orientation\":\"v\",\"showlegend\":false,\"textposition\":\"auto\",\"x\":[\"story\",\"cover\",\"promo\",\"letters\",\"pinup\",\"text story\",\"ad\",\"recap\",\"backcovers\",\"text article\",\"profile\",\"activity\",\"text\",\"cover reprint\",\"credits\",\"mystery story\",\"statement of ownership\",\"horror\",\"pin-up\",\"feature\",\"insert\",\"re-cap\",\"filler\",\"ads\",\"deadpool\",\"text feature\",\"none\",\"additional story info\",\"portfolio\",\"trading card insert\",\"war story\",\"trading card\",\"story\\u002fpsa\",\"ad; story\",\"text page\",\"contents\",\"foreword\",\"back cover\",\"animation insert\",\"features\",\"table of contents\",\"article\",\"promo; parody\",\"cover b\",\"cover a\",\"index\",\"photo story\",\"introduction\",\"illustrated text feature\",\"cover (gatefold)\",\"poster insert\",\"featurette\",\"preview\",\"various heroes\",\"contents page\",\"humor\",\"cover gallery\"],\"xaxis\":\"x\",\"y\":[72352,67115,508,483,470,469,344,224,114,93,53,53,49,49,41,24,23,19,19,16,14,14,9,9,8,7,5,5,5,4,4,3,3,3,2,2,2,2,2,2,2,2,2,2,2,1,1,1,1,1,1,1,1,1,1,1,1],\"yaxis\":\"y\",\"type\":\"bar\"}],                        {\"template\":{\"data\":{\"histogram2dcontour\":[{\"type\":\"histogram2dcontour\",\"colorbar\":{\"outlinewidth\":0,\"ticks\":\"\"},\"colorscale\":[[0.0,\"#0d0887\"],[0.1111111111111111,\"#46039f\"],[0.2222222222222222,\"#7201a8\"],[0.3333333333333333,\"#9c179e\"],[0.4444444444444444,\"#bd3786\"],[0.5555555555555556,\"#d8576b\"],[0.6666666666666666,\"#ed7953\"],[0.7777777777777778,\"#fb9f3a\"],[0.8888888888888888,\"#fdca26\"],[1.0,\"#f0f921\"]]}],\"choropleth\":[{\"type\":\"choropleth\",\"colorbar\":{\"outlinewidth\":0,\"ticks\":\"\"}}],\"histogram2d\":[{\"type\":\"histogram2d\",\"colorbar\":{\"outlinewidth\":0,\"ticks\":\"\"},\"colorscale\":[[0.0,\"#0d0887\"],[0.1111111111111111,\"#46039f\"],[0.2222222222222222,\"#7201a8\"],[0.3333333333333333,\"#9c179e\"],[0.4444444444444444,\"#bd3786\"],[0.5555555555555556,\"#d8576b\"],[0.6666666666666666,\"#ed7953\"],[0.7777777777777778,\"#fb9f3a\"],[0.8888888888888888,\"#fdca26\"],[1.0,\"#f0f921\"]]}],\"heatmap\":[{\"type\":\"heatmap\",\"colorbar\":{\"outlinewidth\":0,\"ticks\":\"\"},\"colorscale\":[[0.0,\"#0d0887\"],[0.1111111111111111,\"#46039f\"],[0.2222222222222222,\"#7201a8\"],[0.3333333333333333,\"#9c179e\"],[0.4444444444444444,\"#bd3786\"],[0.5555555555555556,\"#d8576b\"],[0.6666666666666666,\"#ed7953\"],[0.7777777777777778,\"#fb9f3a\"],[0.8888888888888888,\"#fdca26\"],[1.0,\"#f0f921\"]]}],\"heatmapgl\":[{\"type\":\"heatmapgl\",\"colorbar\":{\"outlinewidth\":0,\"ticks\":\"\"},\"colorscale\":[[0.0,\"#0d0887\"],[0.1111111111111111,\"#46039f\"],[0.2222222222222222,\"#7201a8\"],[0.3333333333333333,\"#9c179e\"],[0.4444444444444444,\"#bd3786\"],[0.5555555555555556,\"#d8576b\"],[0.6666666666666666,\"#ed7953\"],[0.7777777777777778,\"#fb9f3a\"],[0.8888888888888888,\"#fdca26\"],[1.0,\"#f0f921\"]]}],\"contourcarpet\":[{\"type\":\"contourcarpet\",\"colorbar\":{\"outlinewidth\":0,\"ticks\":\"\"}}],\"contour\":[{\"type\":\"contour\",\"colorbar\":{\"outlinewidth\":0,\"ticks\":\"\"},\"colorscale\":[[0.0,\"#0d0887\"],[0.1111111111111111,\"#46039f\"],[0.2222222222222222,\"#7201a8\"],[0.3333333333333333,\"#9c179e\"],[0.4444444444444444,\"#bd3786\"],[0.5555555555555556,\"#d8576b\"],[0.6666666666666666,\"#ed7953\"],[0.7777777777777778,\"#fb9f3a\"],[0.8888888888888888,\"#fdca26\"],[1.0,\"#f0f921\"]]}],\"surface\":[{\"type\":\"surface\",\"colorbar\":{\"outlinewidth\":0,\"ticks\":\"\"},\"colorscale\":[[0.0,\"#0d0887\"],[0.1111111111111111,\"#46039f\"],[0.2222222222222222,\"#7201a8\"],[0.3333333333333333,\"#9c179e\"],[0.4444444444444444,\"#bd3786\"],[0.5555555555555556,\"#d8576b\"],[0.6666666666666666,\"#ed7953\"],[0.7777777777777778,\"#fb9f3a\"],[0.8888888888888888,\"#fdca26\"],[1.0,\"#f0f921\"]]}],\"mesh3d\":[{\"type\":\"mesh3d\",\"colorbar\":{\"outlinewidth\":0,\"ticks\":\"\"}}],\"scatter\":[{\"fillpattern\":{\"fillmode\":\"overlay\",\"size\":10,\"solidity\":0.2},\"type\":\"scatter\"}],\"parcoords\":[{\"type\":\"parcoords\",\"line\":{\"colorbar\":{\"outlinewidth\":0,\"ticks\":\"\"}}}],\"scatterpolargl\":[{\"type\":\"scatterpolargl\",\"marker\":{\"colorbar\":{\"outlinewidth\":0,\"ticks\":\"\"}}}],\"bar\":[{\"error_x\":{\"color\":\"#2a3f5f\"},\"error_y\":{\"color\":\"#2a3f5f\"},\"marker\":{\"line\":{\"color\":\"#E5ECF6\",\"width\":0.5},\"pattern\":{\"fillmode\":\"overlay\",\"size\":10,\"solidity\":0.2}},\"type\":\"bar\"}],\"scattergeo\":[{\"type\":\"scattergeo\",\"marker\":{\"colorbar\":{\"outlinewidth\":0,\"ticks\":\"\"}}}],\"scatterpolar\":[{\"type\":\"scatterpolar\",\"marker\":{\"colorbar\":{\"outlinewidth\":0,\"ticks\":\"\"}}}],\"histogram\":[{\"marker\":{\"pattern\":{\"fillmode\":\"overlay\",\"size\":10,\"solidity\":0.2}},\"type\":\"histogram\"}],\"scattergl\":[{\"type\":\"scattergl\",\"marker\":{\"colorbar\":{\"outlinewidth\":0,\"ticks\":\"\"}}}],\"scatter3d\":[{\"type\":\"scatter3d\",\"line\":{\"colorbar\":{\"outlinewidth\":0,\"ticks\":\"\"}},\"marker\":{\"colorbar\":{\"outlinewidth\":0,\"ticks\":\"\"}}}],\"scattermapbox\":[{\"type\":\"scattermapbox\",\"marker\":{\"colorbar\":{\"outlinewidth\":0,\"ticks\":\"\"}}}],\"scatterternary\":[{\"type\":\"scatterternary\",\"marker\":{\"colorbar\":{\"outlinewidth\":0,\"ticks\":\"\"}}}],\"scattercarpet\":[{\"type\":\"scattercarpet\",\"marker\":{\"colorbar\":{\"outlinewidth\":0,\"ticks\":\"\"}}}],\"carpet\":[{\"aaxis\":{\"endlinecolor\":\"#2a3f5f\",\"gridcolor\":\"white\",\"linecolor\":\"white\",\"minorgridcolor\":\"white\",\"startlinecolor\":\"#2a3f5f\"},\"baxis\":{\"endlinecolor\":\"#2a3f5f\",\"gridcolor\":\"white\",\"linecolor\":\"white\",\"minorgridcolor\":\"white\",\"startlinecolor\":\"#2a3f5f\"},\"type\":\"carpet\"}],\"table\":[{\"cells\":{\"fill\":{\"color\":\"#EBF0F8\"},\"line\":{\"color\":\"white\"}},\"header\":{\"fill\":{\"color\":\"#C8D4E3\"},\"line\":{\"color\":\"white\"}},\"type\":\"table\"}],\"barpolar\":[{\"marker\":{\"line\":{\"color\":\"#E5ECF6\",\"width\":0.5},\"pattern\":{\"fillmode\":\"overlay\",\"size\":10,\"solidity\":0.2}},\"type\":\"barpolar\"}],\"pie\":[{\"automargin\":true,\"type\":\"pie\"}]},\"layout\":{\"autotypenumbers\":\"strict\",\"colorway\":[\"#636efa\",\"#EF553B\",\"#00cc96\",\"#ab63fa\",\"#FFA15A\",\"#19d3f3\",\"#FF6692\",\"#B6E880\",\"#FF97FF\",\"#FECB52\"],\"font\":{\"color\":\"#2a3f5f\"},\"hovermode\":\"closest\",\"hoverlabel\":{\"align\":\"left\"},\"paper_bgcolor\":\"white\",\"plot_bgcolor\":\"#E5ECF6\",\"polar\":{\"bgcolor\":\"#E5ECF6\",\"angularaxis\":{\"gridcolor\":\"white\",\"linecolor\":\"white\",\"ticks\":\"\"},\"radialaxis\":{\"gridcolor\":\"white\",\"linecolor\":\"white\",\"ticks\":\"\"}},\"ternary\":{\"bgcolor\":\"#E5ECF6\",\"aaxis\":{\"gridcolor\":\"white\",\"linecolor\":\"white\",\"ticks\":\"\"},\"baxis\":{\"gridcolor\":\"white\",\"linecolor\":\"white\",\"ticks\":\"\"},\"caxis\":{\"gridcolor\":\"white\",\"linecolor\":\"white\",\"ticks\":\"\"}},\"coloraxis\":{\"colorbar\":{\"outlinewidth\":0,\"ticks\":\"\"}},\"colorscale\":{\"sequential\":[[0.0,\"#0d0887\"],[0.1111111111111111,\"#46039f\"],[0.2222222222222222,\"#7201a8\"],[0.3333333333333333,\"#9c179e\"],[0.4444444444444444,\"#bd3786\"],[0.5555555555555556,\"#d8576b\"],[0.6666666666666666,\"#ed7953\"],[0.7777777777777778,\"#fb9f3a\"],[0.8888888888888888,\"#fdca26\"],[1.0,\"#f0f921\"]],\"sequentialminus\":[[0.0,\"#0d0887\"],[0.1111111111111111,\"#46039f\"],[0.2222222222222222,\"#7201a8\"],[0.3333333333333333,\"#9c179e\"],[0.4444444444444444,\"#bd3786\"],[0.5555555555555556,\"#d8576b\"],[0.6666666666666666,\"#ed7953\"],[0.7777777777777778,\"#fb9f3a\"],[0.8888888888888888,\"#fdca26\"],[1.0,\"#f0f921\"]],\"diverging\":[[0,\"#8e0152\"],[0.1,\"#c51b7d\"],[0.2,\"#de77ae\"],[0.3,\"#f1b6da\"],[0.4,\"#fde0ef\"],[0.5,\"#f7f7f7\"],[0.6,\"#e6f5d0\"],[0.7,\"#b8e186\"],[0.8,\"#7fbc41\"],[0.9,\"#4d9221\"],[1,\"#276419\"]]},\"xaxis\":{\"gridcolor\":\"white\",\"linecolor\":\"white\",\"ticks\":\"\",\"title\":{\"standoff\":15},\"zerolinecolor\":\"white\",\"automargin\":true,\"zerolinewidth\":2},\"yaxis\":{\"gridcolor\":\"white\",\"linecolor\":\"white\",\"ticks\":\"\",\"title\":{\"standoff\":15},\"zerolinecolor\":\"white\",\"automargin\":true,\"zerolinewidth\":2},\"scene\":{\"xaxis\":{\"backgroundcolor\":\"#E5ECF6\",\"gridcolor\":\"white\",\"linecolor\":\"white\",\"showbackground\":true,\"ticks\":\"\",\"zerolinecolor\":\"white\",\"gridwidth\":2},\"yaxis\":{\"backgroundcolor\":\"#E5ECF6\",\"gridcolor\":\"white\",\"linecolor\":\"white\",\"showbackground\":true,\"ticks\":\"\",\"zerolinecolor\":\"white\",\"gridwidth\":2},\"zaxis\":{\"backgroundcolor\":\"#E5ECF6\",\"gridcolor\":\"white\",\"linecolor\":\"white\",\"showbackground\":true,\"ticks\":\"\",\"zerolinecolor\":\"white\",\"gridwidth\":2}},\"shapedefaults\":{\"line\":{\"color\":\"#2a3f5f\"}},\"annotationdefaults\":{\"arrowcolor\":\"#2a3f5f\",\"arrowhead\":0,\"arrowwidth\":1},\"geo\":{\"bgcolor\":\"white\",\"landcolor\":\"#E5ECF6\",\"subunitcolor\":\"white\",\"showland\":true,\"showlakes\":true,\"lakecolor\":\"white\"},\"title\":{\"x\":0.05},\"mapbox\":{\"style\":\"light\"}}},\"xaxis\":{\"anchor\":\"y\",\"domain\":[0.0,1.0],\"title\":{\"text\":\"Tipos\"},\"tickangle\":-45},\"yaxis\":{\"anchor\":\"x\",\"domain\":[0.0,1.0],\"title\":{\"text\":\"Quantidade\"}},\"legend\":{\"tracegroupgap\":0},\"title\":{\"text\":\"Quantidade de cada tipo\"},\"barmode\":\"relative\"},                        {\"responsive\": true}                    ).then(function(){\n",
              "                            \n",
              "var gd = document.getElementById('22e62619-0998-47b2-a7c5-c33c5d142145');\n",
              "var x = new MutationObserver(function (mutations, observer) {{\n",
              "        var display = window.getComputedStyle(gd).display;\n",
              "        if (!display || display === 'none') {{\n",
              "            console.log([gd, 'removed!']);\n",
              "            Plotly.purge(gd);\n",
              "            observer.disconnect();\n",
              "        }}\n",
              "}});\n",
              "\n",
              "// Listen for the removal of the full notebook cells\n",
              "var notebookContainer = gd.closest('#notebook-container');\n",
              "if (notebookContainer) {{\n",
              "    x.observe(notebookContainer, {childList: true});\n",
              "}}\n",
              "\n",
              "// Listen for the clearing of the current output cell\n",
              "var outputEl = gd.closest('.output');\n",
              "if (outputEl) {{\n",
              "    x.observe(outputEl, {childList: true});\n",
              "}}\n",
              "\n",
              "                        })                };                            </script>        </div>\n",
              "</body>\n",
              "</html>"
            ]
          },
          "metadata": {}
        }
      ]
    }
  ]
}