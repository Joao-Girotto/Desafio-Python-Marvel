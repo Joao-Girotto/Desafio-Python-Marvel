{
  "nbformat": 4,
  "nbformat_minor": 0,
  "metadata": {
    "colab": {
      "provenance": [],
      "authorship_tag": "ABX9TyNGuP1idUrhH2r+xf1hMpW6",
      "include_colab_link": true
    },
    "kernelspec": {
      "name": "python3",
      "display_name": "Python 3"
    },
    "language_info": {
      "name": "python"
    }
  },
  "cells": [
    {
      "cell_type": "markdown",
      "metadata": {
        "id": "view-in-github",
        "colab_type": "text"
      },
      "source": [
        "<a href=\"https://colab.research.google.com/github/Joao-Girotto/Desafio-Python-Marvel/blob/joao/Desafio.ipynb\" target=\"_parent\"><img src=\"https://colab.research.google.com/assets/colab-badge.svg\" alt=\"Open In Colab\"/></a>"
      ]
    },
    {
      "cell_type": "markdown",
      "source": [
        "## Instalações"
      ],
      "metadata": {
        "id": "zfZ-n2QCX375"
      }
    },
    {
      "cell_type": "code",
      "source": [
        "!pip install dotenv"
      ],
      "metadata": {
        "id": "KT13hN1jX764"
      },
      "execution_count": null,
      "outputs": []
    },
    {
      "cell_type": "markdown",
      "source": [
        "## Importações"
      ],
      "metadata": {
        "id": "TivNY55WXDW7"
      }
    },
    {
      "cell_type": "code",
      "source": [
        "import requests\n",
        "import hashlib\n",
        "import os\n",
        "import time\n",
        "import pandas as pd\n",
        "import sqlite3\n",
        "import json\n",
        "from dotenv import load_dotenv\n",
        "from google.colab import userdata"
      ],
      "metadata": {
        "id": "uJi_FpQ0XJje"
      },
      "execution_count": null,
      "outputs": []
    },
    {
      "cell_type": "markdown",
      "source": [
        "## Pegando as chaves"
      ],
      "metadata": {
        "id": "C9Z3SJZZXUqL"
      }
    },
    {
      "cell_type": "code",
      "source": [
        "# load_dotenv()\n",
        "# PUBLIC_KEY = os.getenv(\"Public_Key\")\n",
        "# PRIVATE_KEY = os.getenv(\"Private_Key\")\n",
        "\n",
        "PRIVATE_KEY = userdata.get(\"Private_Key\")\n",
        "PUBLIC_KEY = userdata.get(\"Public_Key\")\n"
      ],
      "metadata": {
        "id": "IF71H-aLXYnG"
      },
      "execution_count": null,
      "outputs": []
    },
    {
      "cell_type": "markdown",
      "source": [
        "## Endpoints e Parâmetros"
      ],
      "metadata": {
        "id": "uB07W7QkZ0N3"
      }
    },
    {
      "cell_type": "code",
      "source": [
        "ts = str(time.time())\n",
        "to_hash = ts + PRIVATE_KEY + PUBLIC_KEY\n",
        "hash_md5 = hashlib.md5(to_hash.encode()).hexdigest()\n",
        "\n",
        "end1 = \"https://gateway.marvel.com/v1/public/characters\"\n",
        "end2 = \"https://gateway.marvel.com/v1/public/comics\"\n",
        "end3 = \"https://gateway.marvel.com/v1/public/series\"\n",
        "\n",
        "\n",
        "params = {\n",
        "    \"apikey\": PUBLIC_KEY,\n",
        "    \"ts\": ts,\n",
        "    \"hash\": hash_md5,\n",
        "    \"limit\": 100\n",
        "}"
      ],
      "metadata": {
        "id": "31vG2b7TC4wm"
      },
      "execution_count": null,
      "outputs": []
    },
    {
      "cell_type": "markdown",
      "source": [
        "## Requisição"
      ],
      "metadata": {
        "id": "HomMsH_aZ37k"
      }
    },
    {
      "cell_type": "code",
      "source": [
        "arrayCharacters = []\n",
        "offset = 0\n",
        "\n",
        "while offset <= 1564:\n",
        "  params['offset'] = offset\n",
        "  response = requests.get(end1, params=params)\n",
        "  data = response.json()\n",
        "  arrayCharacters.extend(data['data']['results']) # Adiciona os resultados à lista array\n",
        "  offset += 100\n",
        "  print(offset)\n",
        "  print(response.status_code)\n",
        "\n",
        "# Depois do loop, crie o DataFrame a partir da lista array\n",
        "df = pd.DataFrame(arrayCharacters)\n",
        "\n"
      ],
      "metadata": {
        "id": "AosHEI0sZ6TM",
        "collapsed": true
      },
      "execution_count": null,
      "outputs": []
    },
    {
      "cell_type": "markdown",
      "source": [
        "## Exibição"
      ],
      "metadata": {
        "id": "1vDxgSmIaRAK"
      }
    },
    {
      "cell_type": "code",
      "source": [
        "df = df[['name', 'id', 'description', 'comics']]\n",
        "df['comics_available'] = df['comics'].apply(lambda x: x.get('available'))\n",
        "df['comics_returned'] = df['comics'].apply(lambda x: x.get('returned'))\n",
        "df['comics'] = df['comics'].apply(lambda x: json.dumps(x))\n",
        "con = sqlite3.connect('Marvel.db')\n",
        "df.to_sql(\"characters\", con, if_exists=\"replace\", index=False)\n",
        "con.close()"
      ],
      "metadata": {
        "id": "PvW6DorNgeK5",
        "collapsed": true
      },
      "execution_count": null,
      "outputs": []
    },
    {
      "cell_type": "markdown",
      "source": [
        "## Consultando o Banco de Dados"
      ],
      "metadata": {
        "id": "uAPlhTz0hOIR"
      }
    },
    {
      "cell_type": "code",
      "source": [
        "con2 = sqlite3.connect('Marvel.db')\n",
        "df2 = pd.read_sql_query(\"SELECT id, name, description, comics_available, comics_returned FROM characters\", con2)\n",
        "\n",
        "query = \"\"\"\n",
        "SELECT id, name, description, comics_available, comics_returned\n",
        "FROM characters\n",
        "WHERE comics_available = comics_returned\n",
        "AND comics_available >0\n",
        "ORDER BY comics_returned DESC;\n",
        "\"\"\"\n",
        "\n",
        "query1 = \"\"\"\n",
        "SELECT SUBSTR(name, 1, 1) AS letra_inicial, COUNT(*) AS total_por_letra\n",
        "FROM characters\n",
        "GROUP BY letra_inicial\n",
        "ORDER BY letra_inicial;\n",
        "\"\"\"\n",
        "query2 = \"\"\"\n",
        "SELECT id, name, comics_available\n",
        "FROM characters\n",
        "ORDER BY comics_available DESC\n",
        "LIMIT 10;\n",
        "\"\"\"\n",
        "\n",
        "df3 = pd.read_sql_query(query, con2)\n",
        "contagem_por_letra = pd.read_sql_query(query1, con2)\n",
        "df5 = pd.read_sql_query(query2,con2)\n",
        "\n",
        "con2.close()"
      ],
      "metadata": {
        "id": "g6FrJnv1hTrf"
      },
      "execution_count": null,
      "outputs": []
    },
    {
      "cell_type": "markdown",
      "source": [
        "## Resultados da primeira consulta, demonstrando todos os dados"
      ],
      "metadata": {
        "id": "2V8xHLbokm_2"
      }
    },
    {
      "cell_type": "code",
      "source": [
        "df2"
      ],
      "metadata": {
        "id": "YVmA8ODEj-jC"
      },
      "execution_count": null,
      "outputs": []
    },
    {
      "cell_type": "markdown",
      "source": [
        "## INSIGHT 1 Characters - Demonstração de todos os personagens que tem todos seus quadrinhos disponíveis na API"
      ],
      "metadata": {
        "id": "vo0r42imkwxZ"
      }
    },
    {
      "cell_type": "code",
      "source": [
        "df3"
      ],
      "metadata": {
        "id": "x0RecE16lAk_"
      },
      "execution_count": null,
      "outputs": []
    },
    {
      "cell_type": "markdown",
      "source": [
        "## INSIGHT 2 Characters - Criando função para selecionar entidades que tenham nome aliterativo"
      ],
      "metadata": {
        "id": "gTT52rvk2lMu"
      }
    },
    {
      "cell_type": "code",
      "source": [
        "def verifica_primeiras_letras(nome_completo):\n",
        "  \"\"\"Verifica se o nome e o sobrenome de um nome completo começam com a mesma letra.\"\"\"\n",
        "  partes_nome = nome_completo.split()\n",
        "  if len(partes_nome) >= 2:\n",
        "    nome = partes_nome[0]\n",
        "    sobrenome = partes_nome[-1] # Pega a última parte como sobrenome\n",
        "    if nome and sobrenome: # Verifica se nome e sobrenome não são vazios\n",
        "      return nome[0].lower() == sobrenome[0].lower()\n",
        "  return False # Retorna False se não for possível verificar (nome curto ou vazio)\n",
        "\n",
        "# Aplica a função à coluna 'name' e cria uma nova coluna booleana\n",
        "df['nome_sobrenome'] = df2['name'].apply(verifica_primeiras_letras)\n",
        "\n",
        "# Para ver os personagens que atendem à condição\n",
        "df_mesma_letra = df[df['nome_sobrenome']]\n",
        "df_mesma_letra[['name', 'nome_sobrenome']]"
      ],
      "metadata": {
        "id": "AV5BPYZmm_lC"
      },
      "execution_count": null,
      "outputs": []
    },
    {
      "cell_type": "markdown",
      "source": [
        "## INSIGHT 3 Characters - Número de entidades por letra"
      ],
      "metadata": {
        "id": "LDuXR3vVxJ7n"
      }
    },
    {
      "cell_type": "code",
      "source": [
        "contagem_por_letra"
      ],
      "metadata": {
        "id": "iwW3ug7byRKB"
      },
      "execution_count": null,
      "outputs": []
    },
    {
      "cell_type": "markdown",
      "source": [
        "## INSIGHT 3 Characters - Gráfico"
      ],
      "metadata": {
        "id": "YhxSTXt2ySdI"
      }
    },
    {
      "cell_type": "code",
      "source": [
        "contagem_por_letra.plot.bar(x='letra_inicial', y='total_por_letra', legend=False)"
      ],
      "metadata": {
        "id": "2_J3ndMAxMW7"
      },
      "execution_count": null,
      "outputs": []
    },
    {
      "cell_type": "markdown",
      "source": [
        "## INSIGHT 4 Characters - Demonstração dos 10 personagens que tem mais quadrinhos"
      ],
      "metadata": {
        "id": "MknJYtOc_Wuq"
      }
    },
    {
      "cell_type": "code",
      "source": [
        "df5.plot.bar(x='name', y='comics_available')"
      ],
      "metadata": {
        "id": "ZEymkeyC_dLV"
      },
      "execution_count": null,
      "outputs": []
    }
  ]
}