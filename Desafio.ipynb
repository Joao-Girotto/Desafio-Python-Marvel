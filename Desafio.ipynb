{
  "nbformat": 4,
  "nbformat_minor": 0,
  "metadata": {
    "colab": {
      "provenance": [],
      "authorship_tag": "ABX9TyMojajsDm1tf/Izn5Px7AKe",
      "include_colab_link": true
    },
    "kernelspec": {
      "name": "python3",
      "display_name": "Python 3"
    },
    "language_info": {
      "name": "python"
    }
  },
  "cells": [
    {
      "cell_type": "markdown",
      "metadata": {
        "id": "view-in-github",
        "colab_type": "text"
      },
      "source": [
        "<a href=\"https://colab.research.google.com/github/Joao-Girotto/Desafio-Python-Marvel/blob/joao/Desafio.ipynb\" target=\"_parent\"><img src=\"https://colab.research.google.com/assets/colab-badge.svg\" alt=\"Open In Colab\"/></a>"
      ]
    },
    {
      "cell_type": "markdown",
      "source": [
        "## Instalações"
      ],
      "metadata": {
        "id": "zfZ-n2QCX375"
      }
    },
    {
      "cell_type": "code",
      "source": [
        "!pip install dotenv"
      ],
      "metadata": {
        "id": "KT13hN1jX764"
      },
      "execution_count": null,
      "outputs": []
    },
    {
      "cell_type": "markdown",
      "source": [
        "## Importações"
      ],
      "metadata": {
        "id": "TivNY55WXDW7"
      }
    },
    {
      "cell_type": "code",
      "source": [
        "import requests\n",
        "import hashlib\n",
        "import os\n",
        "import time\n",
        "import pandas as pd\n",
        "import sqlite3\n",
        "import json\n",
        "from dotenv import load_dotenv\n",
        "from google.colab import userdata\n",
        "import matplotlib.pyplot as plt"
      ],
      "metadata": {
        "id": "uJi_FpQ0XJje"
      },
      "execution_count": null,
      "outputs": []
    },
    {
      "cell_type": "markdown",
      "source": [
        "## Pegando as chaves"
      ],
      "metadata": {
        "id": "C9Z3SJZZXUqL"
      }
    },
    {
      "cell_type": "code",
      "source": [
        "# load_dotenv()\n",
        "# PUBLIC_KEY = os.getenv(\"Public_Key\")\n",
        "# PRIVATE_KEY = os.getenv(\"Private_Key\")\n",
        "\n",
        "PRIVATE_KEY = userdata.get(\"Private_Key\")\n",
        "PUBLIC_KEY = userdata.get(\"Public_Key\")\n"
      ],
      "metadata": {
        "id": "IF71H-aLXYnG"
      },
      "execution_count": null,
      "outputs": []
    },
    {
      "cell_type": "markdown",
      "source": [
        "## Endpoints e Parâmetros"
      ],
      "metadata": {
        "id": "uB07W7QkZ0N3"
      }
    },
    {
      "cell_type": "code",
      "source": [
        "ts = str(time.time())\n",
        "to_hash = ts + PRIVATE_KEY + PUBLIC_KEY\n",
        "hash_md5 = hashlib.md5(to_hash.encode()).hexdigest()\n",
        "\n",
        "endCharacters = \"https://gateway.marvel.com/v1/public/characters\"\n",
        "endComics = \"https://gateway.marvel.com/v1/public/comics\"\n",
        "endSeries = \"https://gateway.marvel.com/v1/public/series\"\n",
        "endEvents = \"https://gateway.marvel.com/v1/public/events\"\n",
        "\n",
        "\n",
        "params = {\n",
        "    \"apikey\": PUBLIC_KEY,\n",
        "    \"ts\": ts,\n",
        "    \"hash\": hash_md5,\n",
        "    \"limit\": 10\n",
        "}\n"
      ],
      "metadata": {
        "id": "31vG2b7TC4wm"
      },
      "execution_count": null,
      "outputs": []
    },
    {
      "cell_type": "markdown",
      "source": [
        "## Pegando o total de requisições"
      ],
      "metadata": {
        "id": "ChhuvLeKRIMU"
      }
    },
    {
      "cell_type": "code",
      "source": [
        "totalCharacters = requests.get(endCharacters, params=params)\n",
        "totalCharacters = totalCharacters.json()\n",
        "total = totalCharacters['data']['total']\n",
        "\n",
        "totalEvents = requests.get(endEvents, params=params)\n",
        "totalEvents = totalEvents.json()\n",
        "totalE = totalEvents['data']['total']"
      ],
      "metadata": {
        "id": "59AfUDONRQDy"
      },
      "execution_count": null,
      "outputs": []
    },
    {
      "cell_type": "markdown",
      "source": [
        "## Requisição Characters"
      ],
      "metadata": {
        "id": "HomMsH_aZ37k"
      }
    },
    {
      "cell_type": "code",
      "source": [
        "arrayCharacters = []\n",
        "offset = 0\n",
        "\n",
        "while offset <= total:\n",
        "  params['offset'] = offset\n",
        "  response = requests.get(endCharacters, params=params)\n",
        "  data = response.json()\n",
        "  print(\"Olha aqui\", response.status_code)\n",
        "  arrayCharacters.extend(data['data']['results']) # Adiciona os resultados à lista array\n",
        "  offset += 100\n",
        "  print(offset)\n",
        "  print(response.status_code)\n",
        "\n",
        "# Depois do loop, crie o DataFrame a partir da lista array\n",
        "df = pd.DataFrame(arrayCharacters)\n",
        "df.to_csv(\"Characters.csv\")"
      ],
      "metadata": {
        "id": "AosHEI0sZ6TM",
        "collapsed": true
      },
      "execution_count": null,
      "outputs": []
    },
    {
      "cell_type": "markdown",
      "source": [
        "## Requisição Events"
      ],
      "metadata": {
        "id": "sKhCLjWBwQ_A"
      }
    },
    {
      "cell_type": "code",
      "source": [
        "arrayEvents = []\n",
        "offset = 0\n",
        "\n",
        "while offset <= totalE:\n",
        "  print(response.status_code)\n",
        "  params['offset'] = offset\n",
        "  response = requests.get(endEvents, params=params)\n",
        "  data_events = response.json()\n",
        "  arrayEvents.extend(data_events['data']['results']) # Adiciona os resultados à lista array\n",
        "  offset += 10\n",
        "  print(offset)\n",
        "  print(response.status_code)\n",
        "\n",
        "df_events = pd.DataFrame(arrayEvents)\n",
        "df_events.to_csv(\"Events.csv\")"
      ],
      "metadata": {
        "id": "OoB1sW8AwT4g"
      },
      "execution_count": null,
      "outputs": []
    },
    {
      "cell_type": "markdown",
      "source": [
        "## Realizando Converções"
      ],
      "metadata": {
        "id": "XYN3BSod7ad1"
      }
    },
    {
      "cell_type": "code",
      "source": [
        "df = df[['name', 'id', 'description', 'comics']]\n",
        "df_events = df_events[['title', 'id', 'description', 'characters', 'creators', 'comics', 'start', 'end', 'modified']]\n",
        "df['comics_available'] = df['comics'].apply(lambda x: x.get('available'))\n",
        "df['comics_returned'] = df['comics'].apply(lambda x: x.get('returned'))\n",
        "df['comics'] = df['comics'].apply(lambda x: json.dumps(x))\n",
        "df_events['comics_available'] = df_events['comics'].apply(lambda x: x.get('available'))\n",
        "df_events['comics_returned'] = df_events['comics'].apply(lambda x: x.get('returned'))\n",
        "df_events['comics'] = df_events['comics'].apply(lambda x: json.dumps(x))\n",
        "df_events['creators_available'] = df_events['creators'].apply(lambda x: x.get('available'))\n",
        "df_events['creators'] = df_events['creators'].apply(lambda x: json.dumps(x))\n",
        "df_events['characters_available'] = df_events['characters'].apply(lambda x: x.get('available'))\n",
        "df_events['characters'] = df_events['characters'].apply(lambda x: json.dumps(x))"
      ],
      "metadata": {
        "id": "e1-f8Gpq7fzs"
      },
      "execution_count": null,
      "outputs": []
    },
    {
      "cell_type": "markdown",
      "source": [
        "## Salvando no Banco de Dados"
      ],
      "metadata": {
        "id": "1vDxgSmIaRAK"
      }
    },
    {
      "cell_type": "code",
      "source": [
        "con = sqlite3.connect('Marvel.db')\n",
        "df.to_sql(\"characters\", con, if_exists=\"replace\", index=False)\n",
        "df_events.to_sql(\"events\", con, if_exists=\"replace\", index=False)\n",
        "con.close()"
      ],
      "metadata": {
        "id": "PvW6DorNgeK5",
        "collapsed": true
      },
      "execution_count": null,
      "outputs": []
    },
    {
      "cell_type": "markdown",
      "source": [
        "## Consultando o Banco de Dados"
      ],
      "metadata": {
        "id": "uAPlhTz0hOIR"
      }
    },
    {
      "cell_type": "code",
      "source": [
        "con2 = sqlite3.connect('Marvel.db')\n",
        "df2 = pd.read_sql_query(\"SELECT id, name, description, comics_available, comics_returned FROM characters\", con2)\n",
        "\n",
        "query = \"\"\"\n",
        "SELECT id, name, description, comics_available, comics_returned\n",
        "FROM characters\n",
        "WHERE comics_available = comics_returned\n",
        "AND comics_available >0\n",
        "ORDER BY comics_returned DESC;\n",
        "\"\"\"\n",
        "\n",
        "query1 = \"\"\"\n",
        "SELECT SUBSTR(name, 1, 1) AS letra_inicial, COUNT(*) AS total_por_letra\n",
        "FROM characters\n",
        "GROUP BY letra_inicial\n",
        "ORDER BY letra_inicial;\n",
        "\"\"\"\n",
        "query2 = \"\"\"\n",
        "SELECT id, name, comics_available\n",
        "FROM characters\n",
        "ORDER BY comics_available DESC\n",
        "LIMIT 10;\n",
        "\"\"\"\n",
        "\n",
        "query3 = \"\"\"\n",
        "SELECT id, name, description, comics_available\n",
        "FROM characters\n",
        "WHERE description IS NOT NULL AND description != '';\n",
        "\"\"\"\n",
        "\n",
        "query3_1 = \"\"\"\n",
        "SELECT\n",
        "  SUM(CASE WHEN description IS NOT NULL AND description != '' THEN 1 ELSE 0 END) AS com_descricao,\n",
        "  SUM(CASE WHEN description IS NULL OR description = '' THEN 1 ELSE 0 END) AS sem_descricao\n",
        "FROM characters;\n",
        "\"\"\"\n",
        "\n",
        "query4 = \"\"\"\n",
        "SELECT title, comics_available\n",
        "FROM events\n",
        "ORDER BY comics_available DESC\n",
        "LIMIT 10;\n",
        "\"\"\"\n",
        "\n",
        "query5 = \"\"\"\n",
        "SELECT title,\n",
        "       strftime('%d/%m/%Y', start) AS start_formatted,\n",
        "       strftime('%d/%m/%Y', end) AS end_formatted,\n",
        "       CAST((julianday(end) - julianday(start)) / 365.25 AS INTEGER) AS duration_in_years,\n",
        "       comics_available\n",
        "FROM events\n",
        "WHERE julianday(start) <= julianday('2025-05-16') AND julianday(end) <= julianday('2025-05-16')\n",
        "ORDER BY julianday(end) - julianday(start) DESC;\n",
        "\"\"\"\n",
        "\n",
        "query6 = \"\"\"\n",
        "SELECT title,\n",
        "       strftime('%d/%m/%Y', SUBSTR(modified, 1, 10)) AS modified,\n",
        "       strftime('%d/%m/%Y', start) AS start,\n",
        "       strftime('%d/%m/%Y', end) AS end\n",
        "FROM events\n",
        "ORDER BY SUBSTR(modified, 1, 4) DESC;\n",
        "\"\"\"\n",
        "\n",
        "query7 = \"\"\"\n",
        "SELECT title, characters_available, creators_available\n",
        "FROM events\n",
        "ORDER BY characters_available DESC;\n",
        "\"\"\"\n",
        "\n",
        "\n",
        "df3 = pd.read_sql_query(query, con2)\n",
        "contagem_por_letra = pd.read_sql_query(query1, con2)\n",
        "df5 = pd.read_sql_query(query2, con2)\n",
        "df6 = pd.read_sql_query(query3, con2)\n",
        "df6_1 = pd.read_sql_query(query3_1, con2)\n",
        "df7 = pd.read_sql_query(query4, con2)\n",
        "df8 = pd.read_sql_query(query5, con2)\n",
        "df9 = pd.read_sql_query(query6, con2)\n",
        "df10 = pd.read_sql_query(query7, con2)\n",
        "con2.close()"
      ],
      "metadata": {
        "id": "g6FrJnv1hTrf"
      },
      "execution_count": null,
      "outputs": []
    },
    {
      "cell_type": "markdown",
      "source": [
        "## Resultados da primeira consulta, demonstrando todos os dados"
      ],
      "metadata": {
        "id": "2V8xHLbokm_2"
      }
    },
    {
      "cell_type": "code",
      "source": [
        "df2"
      ],
      "metadata": {
        "id": "YVmA8ODEj-jC"
      },
      "execution_count": null,
      "outputs": []
    },
    {
      "cell_type": "markdown",
      "source": [
        "## INSIGHT 1 Characters - Demonstração de todos os personagens que tem todos seus quadrinhos disponíveis na API"
      ],
      "metadata": {
        "id": "vo0r42imkwxZ"
      }
    },
    {
      "cell_type": "code",
      "source": [
        "df3"
      ],
      "metadata": {
        "id": "x0RecE16lAk_"
      },
      "execution_count": null,
      "outputs": []
    },
    {
      "cell_type": "markdown",
      "source": [
        "## INSIGHT 2 Characters - Criando função para selecionar entidades que tenham nome aliterativo"
      ],
      "metadata": {
        "id": "gTT52rvk2lMu"
      }
    },
    {
      "cell_type": "code",
      "source": [
        "def verifica_primeiras_letras(nome_completo):\n",
        "  \"\"\"Verifica se o nome e o sobrenome de um nome completo começam com a mesma letra.\"\"\"\n",
        "  partes_nome = nome_completo.split()\n",
        "  if len(partes_nome) >= 2:\n",
        "    nome = partes_nome[0]\n",
        "    sobrenome = partes_nome[-1] # Pega a última parte como sobrenome\n",
        "    if nome and sobrenome: # Verifica se nome e sobrenome não são vazios\n",
        "      return nome[0].lower() == sobrenome[0].lower()\n",
        "  return False # Retorna False se não for possível verificar (nome curto ou vazio)\n",
        "\n",
        "# Aplica a função à coluna 'name' e cria uma nova coluna booleana\n",
        "df['nome_sobrenome'] = df2['name'].apply(verifica_primeiras_letras)\n",
        "\n",
        "# Para ver os personagens que atendem à condição\n",
        "df_mesma_letra = df[df['nome_sobrenome']]\n",
        "df_mesma_letra[['name', 'nome_sobrenome']]"
      ],
      "metadata": {
        "id": "AV5BPYZmm_lC"
      },
      "execution_count": null,
      "outputs": []
    },
    {
      "cell_type": "markdown",
      "source": [
        "## INSIGHT 3 Characters - Número de entidades por letra"
      ],
      "metadata": {
        "id": "LDuXR3vVxJ7n"
      }
    },
    {
      "cell_type": "code",
      "source": [
        "contagem_por_letra"
      ],
      "metadata": {
        "id": "iwW3ug7byRKB"
      },
      "execution_count": null,
      "outputs": []
    },
    {
      "cell_type": "markdown",
      "source": [
        "## INSIGHT 3 Characters - Gráfico"
      ],
      "metadata": {
        "id": "YhxSTXt2ySdI"
      }
    },
    {
      "cell_type": "code",
      "source": [
        "contagem_por_letra.plot.bar(x='letra_inicial', y='total_por_letra', legend=False)"
      ],
      "metadata": {
        "id": "2_J3ndMAxMW7"
      },
      "execution_count": null,
      "outputs": []
    },
    {
      "cell_type": "markdown",
      "source": [
        "## INSIGHT 4 Characters - Demonstração dos 10 personagens que tem mais quadrinhos"
      ],
      "metadata": {
        "id": "MknJYtOc_Wuq"
      }
    },
    {
      "cell_type": "code",
      "source": [
        "df5.plot.bar(x='name', y='comics_available')"
      ],
      "metadata": {
        "id": "ZEymkeyC_dLV"
      },
      "execution_count": null,
      "outputs": []
    },
    {
      "cell_type": "markdown",
      "source": [
        "## INSIGHT 5 Characters - Personagens que tem descrição, são personagens mais populares"
      ],
      "metadata": {
        "id": "ENVHBZAtqj9w"
      }
    },
    {
      "cell_type": "code",
      "source": [
        "df6"
      ],
      "metadata": {
        "id": "347Jr-7_qqwK"
      },
      "execution_count": null,
      "outputs": []
    },
    {
      "cell_type": "markdown",
      "source": [
        "## INSIGHT 5 Characters - Gráfico de conparação da quantidade de personagens com descrição"
      ],
      "metadata": {
        "id": "eAmA0uTTMhjj"
      }
    },
    {
      "cell_type": "code",
      "source": [
        "df6_1_transposed = df6_1.transpose()\n",
        "df6_1_transposed.plot.pie(subplots=True, autopct='%1.1f%%', figsize=(8, 8), legend=False)"
      ],
      "metadata": {
        "id": "ChyY9a8oMx-m"
      },
      "execution_count": null,
      "outputs": []
    },
    {
      "cell_type": "markdown",
      "source": [
        "## INSIGHT 1 Events - Os 10 eventos com mais histórias em quadrinhos"
      ],
      "metadata": {
        "id": "EPo9gM3R1LPC"
      }
    },
    {
      "cell_type": "code",
      "source": [
        "df7.plot.bar(x='title', y='comics_available')"
      ],
      "metadata": {
        "id": "--Om7hIbviP8"
      },
      "execution_count": null,
      "outputs": []
    },
    {
      "cell_type": "markdown",
      "source": [
        "## INSIGHT 2 Events - Os eventos com maior duração"
      ],
      "metadata": {
        "id": "SBWcODwA1r00"
      }
    },
    {
      "cell_type": "code",
      "source": [
        "df8"
      ],
      "metadata": {
        "id": "1YbLF2YR1vvF"
      },
      "execution_count": null,
      "outputs": []
    },
    {
      "cell_type": "code",
      "source": [
        "df_merged = pd.merge(df8, df7, on='title', how='inner', suffixes=('_duration', '_comics'))\n",
        "\n",
        "# Criar o gráfico de dispersão\n",
        "plt.figure(figsize=(10, 6))\n",
        "plt.scatter(df_merged['duration_in_years'], df_merged['comics_available_comics'])\n",
        "plt.xlabel('Duração do Evento (Anos)')\n",
        "plt.ylabel('Número de Quadrinhos')\n",
        "plt.title('Relação entre Duração do Evento e Número de Quadrinhos')\n",
        "plt.grid(True)\n",
        "plt.show()"
      ],
      "metadata": {
        "id": "cgKmLCOoUB2R"
      },
      "execution_count": null,
      "outputs": []
    },
    {
      "cell_type": "markdown",
      "source": [
        "## INSIGHT 3 Events - Eventos que tiveram modificações mais recentes"
      ],
      "metadata": {
        "id": "jobksXlzwnS1"
      }
    },
    {
      "cell_type": "code",
      "source": [
        "df9"
      ],
      "metadata": {
        "id": "yPJJo8v4w1KQ"
      },
      "execution_count": null,
      "outputs": []
    },
    {
      "cell_type": "markdown",
      "source": [
        "## INSIGH 4 Events - Eventos ordenados pelo número de personagens"
      ],
      "metadata": {
        "id": "ErFdG4NPcW8h"
      }
    },
    {
      "cell_type": "code",
      "source": [
        "df10"
      ],
      "metadata": {
        "id": "WDO3tzUWcYlu"
      },
      "execution_count": null,
      "outputs": []
    }
  ]
}