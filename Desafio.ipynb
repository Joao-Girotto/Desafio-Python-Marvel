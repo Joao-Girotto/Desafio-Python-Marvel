{
  "nbformat": 4,
  "nbformat_minor": 0,
  "metadata": {
    "colab": {
      "provenance": [],
      "include_colab_link": true
    },
    "kernelspec": {
      "name": "python3",
      "display_name": "Python 3"
    },
    "language_info": {
      "name": "python"
    }
  },
  "cells": [
    {
      "cell_type": "markdown",
      "metadata": {
        "id": "view-in-github",
        "colab_type": "text"
      },
      "source": [
        "<a href=\"https://colab.research.google.com/github/Joao-Girotto/Desafio-Python-Marvel/blob/main/Desafio.ipynb\" target=\"_parent\"><img src=\"https://colab.research.google.com/assets/colab-badge.svg\" alt=\"Open In Colab\"/></a>"
      ]
    },
    {
      "cell_type": "markdown",
      "source": [
        "## Instalações"
      ],
      "metadata": {
        "id": "zfZ-n2QCX375"
      }
    },
    {
      "cell_type": "code",
      "source": [
        "!pip install dotenv"
      ],
      "metadata": {
        "id": "KT13hN1jX764"
      },
      "execution_count": null,
      "outputs": []
    },
    {
      "cell_type": "markdown",
      "source": [
        "## Importações"
      ],
      "metadata": {
        "id": "TivNY55WXDW7"
      }
    },
    {
      "cell_type": "code",
      "source": [
        "import requests\n",
        "import hashlib\n",
        "import os\n",
        "import time\n",
        "import pandas as pd\n",
        "import sqlite3\n",
        "import json\n",
        "from google.colab import userdata\n",
        "import matplotlib.pyplot as plt\n",
        "import matplotlib.cm as cm\n",
        "import numpy as np\n",
        "import regex as re\n",
        "import plotly.express as px"
      ],
      "metadata": {
        "id": "uJi_FpQ0XJje"
      },
      "execution_count": null,
      "outputs": []
    },
    {
      "cell_type": "markdown",
      "source": [
        "## Pegando as chaves"
      ],
      "metadata": {
        "id": "C9Z3SJZZXUqL"
      }
    },
    {
      "cell_type": "code",
      "source": [
        "PRIVATE_KEY = userdata.get(\"Private_Key\")\n",
        "PUBLIC_KEY = userdata.get(\"Public_Key\")"
      ],
      "metadata": {
        "id": "IF71H-aLXYnG"
      },
      "execution_count": null,
      "outputs": []
    },
    {
      "cell_type": "markdown",
      "source": [
        "## Endpoints e Parâmetros"
      ],
      "metadata": {
        "id": "uB07W7QkZ0N3"
      }
    },
    {
      "cell_type": "code",
      "source": [
        "ts = str(time.time())\n",
        "to_hash = ts + PRIVATE_KEY + PUBLIC_KEY\n",
        "hash_md5 = hashlib.md5(to_hash.encode()).hexdigest()\n",
        "\n",
        "endCharacters = \"https://gateway.marvel.com/v1/public/characters\"\n",
        "endComics = \"https://gateway.marvel.com/v1/public/comics\"\n",
        "endSeries = \"https://gateway.marvel.com/v1/public/series\"\n",
        "endCreators = \"https://gateway.marvel.com/v1/public/creators\"\n",
        "endEvents = \"https://gateway.marvel.com/v1/public/events\"\n",
        "endStories = \"https://gateway.marvel.com/v1/public/stories\"\n",
        "\n",
        "params = {\n",
        "    \"apikey\": PUBLIC_KEY,\n",
        "    \"ts\": ts,\n",
        "    \"hash\": hash_md5,\n",
        "    \"limit\": 10\n",
        "}"
      ],
      "metadata": {
        "id": "31vG2b7TC4wm"
      },
      "execution_count": null,
      "outputs": []
    },
    {
      "cell_type": "markdown",
      "source": [
        "## Pegando o total de requisições"
      ],
      "metadata": {
        "id": "ChhuvLeKRIMU"
      }
    },
    {
      "cell_type": "code",
      "source": [
        "totalCharacters = requests.get(endCharacters, params=params)\n",
        "totalCharacters = totalCharacters.json()\n",
        "total = totalCharacters['data']['total']\n",
        "\n",
        "totalEvents = requests.get(endEvents, params=params)\n",
        "totalEvents = totalEvents.json()\n",
        "totalE = totalEvents['data']['total']\n",
        "\n",
        "totalCreators = requests.get(endCreators, params=params)\n",
        "totalCreators = totalCreators.json()\n",
        "totalC = totalCreators['data']['total']\n",
        "\n",
        "totalSeries = requests.get(endSeries, params=params)\n",
        "totalSeries = totalSeries.json()\n",
        "totalSe = totalSeries['data']['total']\n",
        "\n",
        "totalComics = requests.get(endComics, params=params)\n",
        "totalComics = totalComics.json()\n",
        "totalCo = totalComics['data']['total']\n",
        "\n",
        "totalStories = requests.get(endStories, params=params)\n",
        "totalStories = totalStories.json()\n",
        "totalSt = totalStories['data']['total']"
      ],
      "metadata": {
        "id": "59AfUDONRQDy"
      },
      "execution_count": null,
      "outputs": []
    },
    {
      "cell_type": "markdown",
      "source": [
        "## Função para realizar requisições"
      ],
      "metadata": {
        "id": "HomMsH_aZ37k"
      }
    },
    {
      "cell_type": "code",
      "source": [
        "def requisition(endpoint, total, step, limit, params_base=None):\n",
        "    data_array = []\n",
        "    offset = 0\n",
        "\n",
        "    if params_base is None:\n",
        "        params_base = {}\n",
        "\n",
        "    while offset <= total:\n",
        "        params = params_base.copy()\n",
        "        params['offset'] = offset\n",
        "        params['limit'] = limit\n",
        "\n",
        "        response = requests.get(endpoint, params=params)\n",
        "\n",
        "        if response.status_code != 200:\n",
        "            print(f\"Erro no offset {offset}: status code {response.status_code}\")\n",
        "            offset += step\n",
        "            continue\n",
        "\n",
        "        try:\n",
        "            data = response.json()\n",
        "        except ValueError:\n",
        "            print(f\"Erro ao converter JSON no offset {offset}\")\n",
        "            offset += step\n",
        "            continue\n",
        "\n",
        "        if not data or 'data' not in data or 'results' not in data['data']:\n",
        "            print(f\"Resposta inesperada ou vazia no offset {offset}\")\n",
        "            offset += step\n",
        "            continue\n",
        "\n",
        "        data_array.extend(data['data']['results'])\n",
        "        print(f\"Offset: {offset} | Status: {response.status_code}\")\n",
        "        offset += step\n",
        "\n",
        "    df = pd.DataFrame(data_array)\n",
        "    return df"
      ],
      "metadata": {
        "id": "AosHEI0sZ6TM",
        "collapsed": true
      },
      "execution_count": null,
      "outputs": []
    },
    {
      "cell_type": "markdown",
      "source": [
        "## Conversão para CSV"
      ],
      "metadata": {
        "id": "eT3aCTBIu3e5"
      }
    },
    {
      "cell_type": "code",
      "source": [
        "def create_csv(df, nome_arquivo):  # Já estava praticamente correta\n",
        "\n",
        "    try:\n",
        "        df.to_csv(nome_arquivo, index=False, encoding='utf-8')\n",
        "    except Exception as e:\n",
        "        print(f'Error when creating the file {nome_arquivo}: {e}')"
      ],
      "metadata": {
        "id": "F79xHSyyu6WU"
      },
      "execution_count": null,
      "outputs": []
    },
    {
      "cell_type": "markdown",
      "source": [
        "## Chamando as requisições"
      ],
      "metadata": {
        "id": "sKhCLjWBwQ_A"
      }
    },
    {
      "cell_type": "code",
      "source": [
        "df_characters = requisition(endCharacters, total, step=100, limit=100, params_base=params)\n",
        "create_csv(df_characters, 'Characters.csv')\n",
        "\n",
        "# Events\n",
        "df_events = requisition(endEvents, totalE, step=10, limit=10, params_base=params)\n",
        "create_csv(df_events, 'Events.csv')\n",
        "\n",
        "# Creators\n",
        "df_creators = requisition(endCreators, totalC, step=100, limit=100,  params_base=params)\n",
        "create_csv(df_creators, 'Creators.csv')"
      ],
      "metadata": {
        "id": "OoB1sW8AwT4g"
      },
      "execution_count": null,
      "outputs": []
    },
    {
      "cell_type": "markdown",
      "source": [
        "## Realizando Converções"
      ],
      "metadata": {
        "id": "XYN3BSod7ad1"
      }
    },
    {
      "cell_type": "code",
      "source": [
        "df_characters = df_characters[['name', 'id', 'description', 'comics', 'thumbnail']]\n",
        "df_events = df_events[['title', 'id', 'description', 'characters', 'creators', 'comics', 'start', 'end', 'modified']]\n",
        "df_creators = df_creators[['id', 'firstName', 'middleName', 'lastName', 'fullName', 'suffix', 'thumbnail','comics', 'events', 'stories', 'series']]\n",
        "df_characters['comics_available'] = df_characters['comics'].apply(lambda x: x.get('available'))\n",
        "df_characters['comics_returned'] = df_characters['comics'].apply(lambda x: x.get('returned'))\n",
        "df_characters['thumbnail_path'] = df_characters['thumbnail'].apply(lambda x: x.get('path'))\n",
        "df_characters['comics'] = df_characters['comics'].apply(lambda x: json.dumps(x))\n",
        "df_characters['thumbnail'] = df_characters['thumbnail'].apply(lambda x: json.dumps(x))\n",
        "df_events['comics_available'] = df_events['comics'].apply(lambda x: x.get('available'))\n",
        "df_events['comics_returned'] = df_events['comics'].apply(lambda x: x.get('returned'))\n",
        "df_events['comics'] = df_events['comics'].apply(lambda x: json.dumps(x))\n",
        "df_events['creators_available'] = df_events['creators'].apply(lambda x: x.get('available'))\n",
        "df_events['creators'] = df_events['creators'].apply(lambda x: json.dumps(x))\n",
        "df_events['characters_available'] = df_events['characters'].apply(lambda x: x.get('available'))\n",
        "df_events['characters'] = df_events['characters'].apply(lambda x: json.dumps(x))\n",
        "df_creators['comics_available'] = df_creators['comics'].apply(lambda x: x.get('available'))\n",
        "df_creators['events_available'] = df_creators['events'].apply(lambda x: x.get('available'))\n",
        "df_creators['stories_available'] = df_creators['stories'].apply(lambda x: x.get('available'))\n",
        "df_creators['series_available'] = df_creators['series'].apply(lambda x: x.get('available'))\n",
        "df_creators['thumbnail_path'] = df_creators['thumbnail'].apply(lambda x: x.get('path'))\n",
        "df_creators['comics'] = df_creators['comics'].apply(lambda x: json.dumps(x))\n",
        "df_creators['events'] = df_creators['events'].apply(lambda x: json.dumps(x))\n",
        "df_creators['series'] = df_creators['series'].apply(lambda x: json.dumps(x))\n",
        "df_creators['stories'] = df_creators['stories'].apply(lambda x: json.dumps(x))\n",
        "df_creators['thumbnail'] = df_creators['thumbnail'].apply(lambda x: json.dumps(x))"
      ],
      "metadata": {
        "id": "e1-f8Gpq7fzs"
      },
      "execution_count": null,
      "outputs": []
    },
    {
      "cell_type": "markdown",
      "source": [
        "## Salvando no Banco de Dados"
      ],
      "metadata": {
        "id": "1vDxgSmIaRAK"
      }
    },
    {
      "cell_type": "code",
      "source": [
        "con = sqlite3.connect('Marvel.db')\n",
        "df_characters.to_sql(\"characters\", con, if_exists=\"replace\", index=False)\n",
        "df_events.to_sql(\"events\", con, if_exists=\"replace\", index=False)\n",
        "df_creators.to_sql(\"creators\", con, if_exists=\"replace\", index=False)\n",
        "con.close()"
      ],
      "metadata": {
        "id": "PvW6DorNgeK5",
        "collapsed": true
      },
      "execution_count": null,
      "outputs": []
    },
    {
      "cell_type": "markdown",
      "source": [
        "## Salvando Com funções em Banco de Dados"
      ],
      "metadata": {
        "id": "hVuz04e1srmV"
      }
    },
    {
      "cell_type": "code",
      "source": [
        "# Consulta o banco de dados\n",
        "def query_db(query, params=None, db='Marvel.db'):\n",
        "  try:\n",
        "    with sqlite3.connect(db) as con:\n",
        "      return pd.read_sql_query(query, con, params)\n",
        "\n",
        "  except Exception as e:\n",
        "    print(f'Erro com a database: {e}')\n",
        "    return pd.DataFrame()\n",
        "\n",
        "# Adiciona os dados à tabela de series\n",
        "def series_add_db(df):  # Agora recebe um DataFrame\n",
        "\n",
        "    def calculateDuration(row):\n",
        "        end = 999 if row['endYear'] == 299 else row['endYear']\n",
        "        return end - row['startYear']\n",
        "\n",
        "    def function_dict(x):\n",
        "        items = x['items'] if isinstance(x, dict) and 'items' in x else []\n",
        "        creators = [item['name'] for item in items]\n",
        "        return ', '.join(creators)\n",
        "\n",
        "    def amount(x):\n",
        "        return x.get('available', 0)\n",
        "\n",
        "    with sqlite3.connect('Marvel.db') as con:\n",
        "        df['duration'] = df.apply(calculateDuration, axis=1)\n",
        "        df['creator_name'] = df['creators'].apply(function_dict)\n",
        "        df['character_qty'] = df['characters'].apply(amount)\n",
        "        df['creator_qty'] = df['creators'].apply(amount)\n",
        "        df['story_qty'] = df['stories'].apply(amount)\n",
        "        df['event_qty'] = df['events'].apply(amount)\n",
        "        df['comic_qty'] = df['comics'].apply(amount)\n",
        "\n",
        "        df = df[['id', 'title', 'description', 'startYear', 'endYear',\n",
        "                 'rating', 'type', 'duration', 'creator_name', 'creator_qty',\n",
        "                 'character_qty', 'story_qty', 'event_qty', 'comic_qty']]\n",
        "\n",
        "        df.to_sql(\"series\", con, if_exists=\"append\", index=False)\n",
        "\n",
        "# Adiciona os dados à tabela de comics\n",
        "def comics_add_db(df):  # Agora recebe um DataFrame\n",
        "\n",
        "    def funcao_series(x):\n",
        "        return x.get('name', '') if isinstance(x, dict) else ''\n",
        "\n",
        "    def funcao_price(x):\n",
        "        if isinstance(x, list) and len(x) > 0 and isinstance(x[0], dict):\n",
        "            return x[0].get('price', '')\n",
        "        return ''\n",
        "\n",
        "    with sqlite3.connect('Marvel.db') as con:\n",
        "        df['price'] = df['prices'].apply(funcao_price)\n",
        "        df['series_name'] = df['series'].apply(funcao_series)\n",
        "\n",
        "        df = df[['id', 'digitalId', 'title', 'issueNumber', 'description',\n",
        "                 'format', 'pageCount', 'series_name', 'price']]\n",
        "\n",
        "        df.to_sql(\"comics\", con, if_exists=\"append\", index=False)\n",
        "\n",
        "\n",
        "# Adiciona os dados à tabela de stories\n",
        "def stories_add_db(df):  # Agora recebe um DataFrame\n",
        "    with sqlite3.connect('Marvel.db') as con:\n",
        "        df = df[['id', 'title', 'description', 'type']]\n",
        "        df.to_sql(\"stories\", con, if_exists=\"append\", index=False)"
      ],
      "metadata": {
        "id": "e3weoWfHswd_"
      },
      "execution_count": null,
      "outputs": []
    },
    {
      "cell_type": "markdown",
      "source": [
        "## Adicionando mais Endpoints ao Banco"
      ],
      "metadata": {
        "id": "ZdLDyYrCvegJ"
      }
    },
    {
      "cell_type": "code",
      "source": [
        "df_series = requisition(endSeries, totalSe, step=100, limit=100, params_base=params)\n",
        "create_csv(df_series, nome_arquivo='Series.csv')\n",
        "series_add_db(df_series)\n",
        "\n",
        "df_comics = requisition(endComics, total, step=100, limit=100, params_base=params)\n",
        "create_csv(df_comics, nome_arquivo='Comics.csv')\n",
        "series_add_db(df_comics)\n",
        "\n",
        "df_stories = requisition(endStories, total, step=100, limit=100, params_base=params)\n",
        "create_csv(df_stories, nome_arquivo='Stories.csv')\n",
        "series_add_db(df_stories)"
      ],
      "metadata": {
        "id": "y-zL8vK6vjAv"
      },
      "execution_count": null,
      "outputs": []
    },
    {
      "cell_type": "markdown",
      "source": [
        "## Consultando o Banco de Dados"
      ],
      "metadata": {
        "id": "uAPlhTz0hOIR"
      }
    },
    {
      "cell_type": "code",
      "source": [
        "con2 = sqlite3.connect('Marvel.db')\n",
        "\n",
        "df2 = pd.read_sql_query(\"SELECT id, name, description, comics, comics_available, comics_returned FROM characters\", con2)\n",
        "\n",
        "query1 = \"\"\"\n",
        "SELECT SUBSTR(name, 1, 1) AS letra_inicial, COUNT(*) AS total_por_letra\n",
        "FROM characters\n",
        "GROUP BY letra_inicial\n",
        "ORDER BY letra_inicial;\n",
        "\"\"\"\n",
        "query2 = \"\"\"\n",
        "SELECT id, name, comics_available\n",
        "FROM characters\n",
        "ORDER BY comics_available DESC\n",
        "LIMIT 10;\n",
        "\"\"\"\n",
        "\n",
        "query3 = \"\"\"\n",
        "SELECT id, name, description, comics_available\n",
        "FROM characters\n",
        "WHERE description IS NOT NULL AND description != '';\n",
        "\"\"\"\n",
        "\n",
        "query3_1 = \"\"\"\n",
        "SELECT\n",
        "  COUNT (*) FILTER (WHERE description IS NOT NULL AND description != '') AS com_descricao,\n",
        "  COUNT (*) FILTER (WHERE description IS NULL OR description = '') AS sem_descricao\n",
        "FROM characters;\n",
        "\"\"\"\n",
        "\n",
        "query4 = \"\"\"\n",
        "SELECT title, comics_available\n",
        "FROM events\n",
        "ORDER BY comics_available DESC\n",
        "LIMIT 10;\n",
        "\"\"\"\n",
        "\n",
        "query5 = \"\"\"\n",
        "SELECT title,\n",
        "       strftime('%d/%m/%Y', start) AS start_formatted,\n",
        "       strftime('%d/%m/%Y', end) AS end_formatted,\n",
        "       CAST((julianday(end) - julianday(start)) / 365.25 AS INTEGER) AS duration_in_years,\n",
        "       comics_available\n",
        "FROM events\n",
        "WHERE julianday(start) <= julianday('2025-05-16') AND julianday(end) <= julianday('2025-05-16')\n",
        "ORDER BY julianday(end) - julianday(start) DESC;\n",
        "\"\"\"\n",
        "\n",
        "query6 = \"\"\"\n",
        "SELECT title,\n",
        "       strftime('%d/%m/%Y', SUBSTR(modified, 1, 10)) AS modified,\n",
        "       strftime('%d/%m/%Y', start) AS start,\n",
        "       strftime('%d/%m/%Y', end) AS end\n",
        "FROM events\n",
        "ORDER BY SUBSTR(modified, 1, 4) DESC;\n",
        "\"\"\"\n",
        "\n",
        "query7 = \"\"\"\n",
        "SELECT title, characters_available, comics_available\n",
        "FROM events\n",
        "ORDER BY characters_available DESC\n",
        "LIMIT 10;\n",
        "\"\"\"\n",
        "\n",
        "query8 = \"\"\"\n",
        "SELECT title, characters_available, creators_available, comics_available\n",
        "FROM events\n",
        "WHERE characters_available > 0 AND creators_available > 0 AND comics_available > 0;\n",
        "\"\"\"\n",
        "\n",
        "\n",
        "query9 = \"\"\"\n",
        "SELECT  firstName, middleName, lastName, fullName, comics_available, events_available\n",
        "FROM creators\n",
        "ORDER BY comics_available DESC\n",
        "LIMIT 15;\n",
        "\"\"\"\n",
        "\n",
        "query10 = \"\"\"\n",
        "SELECT\n",
        "  COUNT(*) FILTER (WHERE thumbnail_path NOT LIKE '%image_not_available') AS Criadores_Com_Imagem_Associada,\n",
        "  COUNT(*) FILTER (WHERE thumbnail_path LIKE '%image_not_available') AS Criadores_Sem_Imagem_Associada\n",
        "FROM creators;\n",
        "\"\"\"\n",
        "\n",
        "query11 = \"\"\"\n",
        "SELECT\n",
        "  COUNT(*) FILTER (WHERE thumbnail_path NOT LIKE '%image_not_available') AS Personagenss_Com_Imagem,\n",
        "  COUNT(*) FILTER (WHERE thumbnail_path LIKE '%image_not_available') AS Personagens_Sem_Imagem\n",
        "FROM characters;\n",
        "\"\"\"\n",
        "\n",
        "count_letters = pd.read_sql_query(query1, con2)\n",
        "most_comics_charatcers = pd.read_sql_query(query2, con2)\n",
        "description_characters = pd.read_sql_query(query3, con2)\n",
        "most_events_comics = pd.read_sql_query(query4, con2)\n",
        "most_duration_events = pd.read_sql_query(query5, con2)\n",
        "events_modified = pd.read_sql_query(query6, con2)\n",
        "events_most_characters = pd.read_sql_query(query7, con2)\n",
        "count_description = pd.read_sql_query(query3_1, con2)\n",
        "comics_per_events = pd.read_sql_query(query9, con2)\n",
        "creators_images = pd.read_sql_query(query10, con2)\n",
        "characters_images = pd.read_sql_query(query11, con2)\n",
        "\n",
        "\n",
        "con2.close()"
      ],
      "metadata": {
        "id": "g6FrJnv1hTrf"
      },
      "execution_count": null,
      "outputs": []
    },
    {
      "cell_type": "markdown",
      "source": [
        "# Funções Auxiliares"
      ],
      "metadata": {
        "id": "739CsLVS5WGx"
      }
    },
    {
      "cell_type": "code",
      "source": [
        "def plot_donut_charts(df, colors=None, figsize=(10, 6), center_text_prefix='Total'):\n",
        "    # Transpor o DataFrame para que cada coluna vire um gráfico de donut\n",
        "    df_transposed = df.transpose()\n",
        "\n",
        "    # Criar gráficos de \"donut\"\n",
        "    axes = df_transposed.plot.pie(\n",
        "        subplots=True,\n",
        "        autopct='%1.1f%%',\n",
        "        figsize=figsize,\n",
        "        legend=False,\n",
        "        startangle=90,\n",
        "        colors=colors\n",
        "    )\n",
        "\n",
        "    # Adicionar círculo no centro e texto com o total de cada gráfico\n",
        "    for ax, col in zip(axes, df_transposed.columns):\n",
        "        total = df_transposed[col].sum()\n",
        "        centre_circle = plt.Circle((0, 0), 0.70, fc='white')\n",
        "        ax.add_artist(centre_circle)\n",
        "\n",
        "        # Texto central com total\n",
        "        ax.text(0, 0, f'{center_text_prefix}:\\n{total}', fontsize=10,\n",
        "                fontweight='bold', ha='center', va='center')\n",
        "\n",
        "        ax.set_ylabel('')  # Remove rótulo do eixo y\n",
        "        ax.set_title(col, fontsize=12, fontweight='bold')\n",
        "\n",
        "    plt.tight_layout()\n",
        "    plt.show()\n",
        "\n",
        "def verify_first_letters(nome_completo):\n",
        "  partes_nome = nome_completo.split()\n",
        "  if len(partes_nome) >= 2:\n",
        "    nome = partes_nome[0]\n",
        "    sobrenome = partes_nome[-1] # Pega a última parte como sobrenome\n",
        "    if nome and sobrenome: # Verifica se nome e sobrenome não são vazios\n",
        "      return nome[0].lower() == sobrenome[0].lower()\n",
        "  return False # Retorna False se não for possível verificar (nome curto ou vazio)\n",
        "\n",
        "def plot_side_by_side_donuts(series1, series2,\n",
        "                            titles=None,\n",
        "                            colors=None,\n",
        "                            figsize=(12, 6),\n",
        "                            donut_width=0.3,\n",
        "                            center_text_prefix='Total'):\n",
        "    fig, axes = plt.subplots(1, 2, figsize=figsize)\n",
        "\n",
        "    # Donut 1\n",
        "    series1.plot.pie(\n",
        "        ax=axes[0],\n",
        "        autopct='%1.1f%%',\n",
        "        startangle=90,\n",
        "        colors=colors,\n",
        "        legend=False,\n",
        "        wedgeprops={'width': donut_width, 'edgecolor': 'white'}\n",
        "    )\n",
        "    # Adiciona círculo no centro do primeiro donut\n",
        "    centre_circle1 = plt.Circle((0, 0), 1 - donut_width, fc='white')\n",
        "    axes[0].add_artist(centre_circle1)\n",
        "    total1 = series1.sum()\n",
        "    axes[0].text(0, 0, f'{center_text_prefix}:\\n{total1}', fontsize=10,\n",
        "                 fontweight='bold', ha='center', va='center')\n",
        "\n",
        "    # Donut 2\n",
        "    series2.plot.pie(\n",
        "        ax=axes[1],\n",
        "        autopct='%1.1f%%',\n",
        "        startangle=90,\n",
        "        colors=colors,\n",
        "        legend=False,\n",
        "        wedgeprops={'width': donut_width, 'edgecolor': 'white'}\n",
        "    )\n",
        "    # Adiciona círculo no centro do segundo donut\n",
        "    centre_circle2 = plt.Circle((0, 0), 1 - donut_width, fc='white')\n",
        "    axes[1].add_artist(centre_circle2)\n",
        "    total2 = series2.sum()\n",
        "    axes[1].text(0, 0, f'{center_text_prefix}:\\n{total2}', fontsize=10,\n",
        "                 fontweight='bold', ha='center', va='center')\n",
        "\n",
        "    # Títulos\n",
        "    if titles:\n",
        "        axes[0].set_title(titles[0], fontsize=12, fontweight='bold')\n",
        "        axes[1].set_title(titles[1], fontsize=12, fontweight='bold')\n",
        "\n",
        "    # Remover rótulos dos eixos y\n",
        "    axes[0].set_ylabel('')\n",
        "    axes[1].set_ylabel('')\n",
        "\n",
        "    plt.tight_layout()\n",
        "    plt.show()\n",
        "\n",
        "# Plota um gráfico, wrapper do plot do pandas, objetivo é a padronização dos gráficos\n",
        "def plot(dataframe,\n",
        "         title,\n",
        "         x_label,\n",
        "         y_label,\n",
        "         grid='y',\n",
        "         kind='bar',\n",
        "         color='purple',\n",
        "         rotation=90,\n",
        "         show=True,\n",
        "         **kwargs):\n",
        "  ax = dataframe.plot(kind=kind, color=color, title=title, **kwargs)\n",
        "  ax.set_xlabel(x_label)\n",
        "  ax.set_ylabel(y_label)\n",
        "  plt.xticks(rotation=rotation)\n",
        "  plt.tight_layout()\n",
        "  plt.grid(axis=grid)\n",
        "\n",
        "  if show:\n",
        "    plt.show()\n",
        "\n",
        "  return ax"
      ],
      "metadata": {
        "id": "8wiC2xoB5ZLv"
      },
      "execution_count": null,
      "outputs": []
    },
    {
      "cell_type": "markdown",
      "source": [
        "# Funções Series"
      ],
      "metadata": {
        "id": "f1gQlUjxwVGy"
      }
    },
    {
      "cell_type": "markdown",
      "source": [
        "## Função para analisar a quatidade de séries por ano"
      ],
      "metadata": {
        "id": "FSqRhmg8waSC"
      }
    },
    {
      "cell_type": "code",
      "source": [
        "# Analisa a quantidade de series por ano e retorna um dataframe\n",
        "def series_by_year(dataframe, show_plot=False):\n",
        "  series_year = (\n",
        "      dataframe[(dataframe['startYear'] > 0) &\n",
        "                (dataframe['startYear'] < 2029)]\n",
        "                ['startYear']\n",
        "                .value_counts()\n",
        "                .sort_index()\n",
        "      )\n",
        "\n",
        "  if show_plot:\n",
        "    plot(\n",
        "      dataframe=series_year,\n",
        "      title='Séries por Década',\n",
        "      x_label='Década',\n",
        "      y_label='Quantidade de Séries',\n",
        "      figsize=(20, 6)\n",
        "    )\n",
        "\n",
        "  return series_year"
      ],
      "metadata": {
        "id": "AdiDIsuSwYNv"
      },
      "execution_count": null,
      "outputs": []
    },
    {
      "cell_type": "markdown",
      "source": [
        "## Função para analisar a média de duração das séries"
      ],
      "metadata": {
        "id": "Ow4UsYUAwlkA"
      }
    },
    {
      "cell_type": "code",
      "source": [
        "# Analisa a média de duração das series e retorna um dataframe\n",
        "def series_average_duration(dataframe, show_plot=False):\n",
        "  anos_series = (\n",
        "      dataframe[(dataframe['duration'] >= 0) &\n",
        "                (dataframe['duration'] < 999)]\n",
        "                ['duration']\n",
        "                .value_counts()\n",
        "                .sort_index()\n",
        "                .head(10)\n",
        "      )\n",
        "\n",
        "  if show_plot:\n",
        "    plot(\n",
        "      dataframe=anos_series,\n",
        "      title='Series: Média da duração das series',\n",
        "      x_label='Duração (anos)',\n",
        "      y_label='Quantidade de séries'\n",
        "   )\n",
        "\n",
        "  media = (\n",
        "      dataframe[(dataframe['duration'] >= 0) &\n",
        "                (dataframe['duration'] < 999)]\n",
        "                ['duration']\n",
        "                .mean()\n",
        "      ) ## 999 definido para séries em produção\n",
        "  return anos_series, media"
      ],
      "metadata": {
        "id": "PmnyqurJwiZ2"
      },
      "execution_count": null,
      "outputs": []
    },
    {
      "cell_type": "markdown",
      "source": [
        "## Função para analisar a distribuição das classificações"
      ],
      "metadata": {
        "id": "OLs3SKOlwtL9"
      }
    },
    {
      "cell_type": "code",
      "source": [
        "# Analisa a distribuição das classificações etárias de series\n",
        "# e retorna um dataframe\n",
        "def series_distribution_rating(dataframe, show_plot=False):\n",
        "  media = dataframe[dataframe['rating'] != '']['rating'].value_counts()\n",
        "\n",
        "  if show_plot:\n",
        "    plot(\n",
        "      dataframe=media,\n",
        "      x_label='Classificação etária',\n",
        "      y_label='Quantidade de séries',\n",
        "      title='Distribuição classificatória de faixa etária'\n",
        "    )\n",
        "\n",
        "  return media"
      ],
      "metadata": {
        "id": "I6NHlXTpwrqe"
      },
      "execution_count": null,
      "outputs": []
    },
    {
      "cell_type": "markdown",
      "source": [
        "## Função para analisar a distribuição dos tipos"
      ],
      "metadata": {
        "id": "CMXk4w2Jwz7b"
      }
    },
    {
      "cell_type": "code",
      "source": [
        "# Analisa a distribuição dos tipos de series e retorna um dataframe\n",
        "def series_distribuition_type(dataframe, show_plot=False):\n",
        "  series_type = dataframe[dataframe['type'] != '']['type'].value_counts()\n",
        "\n",
        "  if show_plot:\n",
        "    plot(\n",
        "      dataframe=series_type,\n",
        "      x_label='Tipo',\n",
        "      title='Distribuição dos tipos de séries',\n",
        "      y_label='Quantidade de séries'\n",
        "    )\n",
        "\n",
        "  return series_type"
      ],
      "metadata": {
        "id": "RSi40NZmw0nt"
      },
      "execution_count": null,
      "outputs": []
    },
    {
      "cell_type": "markdown",
      "source": [
        "## Função para analisar a quantidade de personagens por ano"
      ],
      "metadata": {
        "id": "iEqgzmhaw30i"
      }
    },
    {
      "cell_type": "code",
      "source": [
        "# Analisa a quantidade de personagens por ano de series e retorna um dataframe\n",
        "def series_quantity_characters_year(dataframe, show_plot=False):\n",
        "  tempo = (\n",
        "      dataframe[\n",
        "          (dataframe['character_qty'] > 0) &\n",
        "          (dataframe['startYear'] > 1900) &\n",
        "          (dataframe['startYear'] < 2029)]\n",
        "          .groupby('startYear')\n",
        "          ['character_qty']\n",
        "          .sum()\n",
        "        )\n",
        "\n",
        "  falta_anos = pd.Series(0, index=range(1939, 2025))\n",
        "  arrumado =  falta_anos.add(tempo, fill_value=0)\n",
        "\n",
        "  if show_plot:\n",
        "    plot(\n",
        "        dataframe=arrumado,\n",
        "        title='Quantidade de personagens por ano',\n",
        "        x_label='Ano',\n",
        "        y_label='Quantidade de personagens',\n",
        "        figsize=(20, 6)\n",
        "    )\n",
        "\n",
        "  return arrumado"
      ],
      "metadata": {
        "id": "ba41_m2Rw6Rl"
      },
      "execution_count": null,
      "outputs": []
    },
    {
      "cell_type": "markdown",
      "source": [
        "# Funções Comics"
      ],
      "metadata": {
        "id": "HFs_aiWzw9XT"
      }
    },
    {
      "cell_type": "markdown",
      "source": [
        "## Função para calcular a quatidade de cada formato"
      ],
      "metadata": {
        "id": "RexGeLcpxKG6"
      }
    },
    {
      "cell_type": "code",
      "source": [
        "# Calcula a quantidade de cada formato de comics e retorna um dataframe\n",
        "def comics_count_format(dataFrame, show_plot=False):\n",
        "  format = dataFrame[dataFrame['format'] != '']['format'].value_counts()\n",
        "\n",
        "  if show_plot:\n",
        "\n",
        "    fig = px.bar(\n",
        "        format,\n",
        "        x=format.index,\n",
        "        y=format.values,\n",
        "        labels={'x': 'Formato', 'y': 'Quantidade de comics'},\n",
        "        title='Quantidade de cada tipo',\n",
        "        color_discrete_sequence=['purple']\n",
        "    )\n",
        "\n",
        "    fig.update_layout(\n",
        "        xaxis_title='Formato',\n",
        "        yaxis_title='Quantidade de comics',\n",
        "        xaxis_tickangle=-45\n",
        "    )\n",
        "\n",
        "    fig.show()\n",
        "\n",
        "  return format"
      ],
      "metadata": {
        "id": "Wmkr1HbLxH_U"
      },
      "execution_count": null,
      "outputs": []
    },
    {
      "cell_type": "markdown",
      "source": [
        "## Função para calcular a média de preço das comics sobre o tempo"
      ],
      "metadata": {
        "id": "Wg3OTtWgxN3D"
      }
    },
    {
      "cell_type": "code",
      "source": [
        "# Calcula a média de preço das comics sobre o tempo e retorna um dataframe\n",
        "def comics_average_price_over_time(dataframe, show_plot=False):\n",
        "  def extract_number(text):\n",
        "    match = re.findall(r'\\d+', text)\n",
        "    return int(match[0]) if match else None\n",
        "\n",
        "  dataframe['year'] = dataframe['title'].apply(extract_number)\n",
        "  price_over_time = dataframe[['year', 'price']]\n",
        "\n",
        "  price_over_time = price_over_time[(price_over_time['year'] > 1900) &\n",
        "                                    (price_over_time['year'] < 2050)]\n",
        "\n",
        "  price_filter = price_over_time.query('price > 0 and price < 20').copy()\n",
        "  price_filter = price_filter.dropna()\n",
        "  price_filter_average = price_filter.groupby('year').mean()\n",
        "\n",
        "  if show_plot:\n",
        "    plt.figure(figsize=(20, 6))\n",
        "\n",
        "    plt.plot(\n",
        "        price_filter_average.index,\n",
        "        price_filter_average['price'],\n",
        "        color='purple',\n",
        "        label='Preço Médio'\n",
        "    )\n",
        "\n",
        "    plt.scatter(\n",
        "        price_filter['year'],\n",
        "        price_filter['price'],\n",
        "        color='grey',\n",
        "        label='Preços individuais',\n",
        "        alpha=0.4,\n",
        "        s=10\n",
        "    )\n",
        "\n",
        "  return price_filter_average"
      ],
      "metadata": {
        "id": "U19hZSjJxPjM"
      },
      "execution_count": null,
      "outputs": []
    },
    {
      "cell_type": "markdown",
      "source": [
        "## Função para calcular a média de páginas das comics sobre o tempo"
      ],
      "metadata": {
        "id": "C52Jc08bxRhx"
      }
    },
    {
      "cell_type": "code",
      "source": [
        "# Calcula a média de páginas das comics sobre o tempo e retorna um dataframe\n",
        "def comics_average_pages_over_time(dataframe, show_plot=False):\n",
        "  def extract_number(text):\n",
        "    match = re.findall(r'\\d+', text)\n",
        "    return int(match[0]) if match else None\n",
        "\n",
        "  dataframe['year'] = dataframe['title'].apply(extract_number)\n",
        "  pages_over_time = dataframe[['year', 'pageCount']]\n",
        "\n",
        "  pages_over_time = pages_over_time[(pages_over_time['year'] > 1900) &\n",
        "                                    (pages_over_time['year'] < 2050)]\n",
        "\n",
        "  pages_filter = pages_over_time.query('pageCount > 0 and pageCount < 200')\n",
        "  pages_filter = pages_filter.dropna()\n",
        "  pags_filter_average = pages_filter.groupby('year').mean()\n",
        "\n",
        "  if show_plot:\n",
        "\n",
        "    plot(\n",
        "      dataframe=pags_filter_average,\n",
        "      title='Média de páginas',\n",
        "      x_label='Ano',\n",
        "      y_label='Média de páginas',\n",
        "      kind='line'\n",
        "    )\n",
        "\n",
        "  return pags_filter_average"
      ],
      "metadata": {
        "id": "29Y49R7_xTqO"
      },
      "execution_count": null,
      "outputs": []
    },
    {
      "cell_type": "markdown",
      "source": [
        "# Funções Stories"
      ],
      "metadata": {
        "id": "jM_jLilWxWb8"
      }
    },
    {
      "cell_type": "markdown",
      "source": [
        "## Função para calcular a quantidade de cada tipo de stories"
      ],
      "metadata": {
        "id": "o-yddvsMxbws"
      }
    },
    {
      "cell_type": "code",
      "source": [
        "# Calcula a quantidade de cada tipo de stories e retorna um dataframe\n",
        "def stories_quantity_type(dataframe, show_plot=False):\n",
        "  types = dataframe[dataframe['type'] != '']\n",
        "  clean_types = types['type'].value_counts()\n",
        "  if show_plot:\n",
        "\n",
        "    fig = px.bar(\n",
        "        clean_types,\n",
        "        x=clean_types.index,\n",
        "        y=clean_types.values,\n",
        "        labels={'x': 'Tipo', 'y': 'Quantidade'},\n",
        "        title='Quantidade de cada tipo',\n",
        "        color_discrete_sequence=['purple']\n",
        "    )\n",
        "\n",
        "    fig.update_layout(\n",
        "        xaxis_title='Tipos',\n",
        "        yaxis_title='Quantidade',\n",
        "        xaxis_tickangle=-45\n",
        "    )\n",
        "\n",
        "    fig.show()\n",
        "\n",
        "  return types"
      ],
      "metadata": {
        "id": "NUq1e1N9xYl1"
      },
      "execution_count": null,
      "outputs": []
    },
    {
      "cell_type": "markdown",
      "source": [
        "## Selecionando do Banco de Dados"
      ],
      "metadata": {
        "id": "ERfPKiOoxwST"
      }
    },
    {
      "cell_type": "code",
      "source": [
        "dataSeries = query_db('SELECT * FROM series')\n",
        "dataComics = query_db('SELECT * FROM comics')\n",
        "dataStories = query_db('SELECT * FROM stories')"
      ],
      "metadata": {
        "id": "JatKpK2fxyyO"
      },
      "execution_count": null,
      "outputs": []
    },
    {
      "cell_type": "markdown",
      "source": [
        "# Characters"
      ],
      "metadata": {
        "id": "ACNR8XrpvIqs"
      }
    },
    {
      "cell_type": "markdown",
      "source": [
        "## INSIGHT 1 Characters - Criando função para selecionar entidades que tenham nome aliterativo"
      ],
      "metadata": {
        "id": "gTT52rvk2lMu"
      }
    },
    {
      "cell_type": "code",
      "source": [
        "# Aplica a função à coluna 'name' e cria uma nova coluna booleana\n",
        "dataframe = df2.copy()\n",
        "dataframe['nome_sobrenome'] = df2['name'].apply(verify_first_letters)\n",
        "\n",
        "# Para ver os personagens que atendem à condição\n",
        "df_same_letter = dataframe[dataframe['nome_sobrenome']]\n",
        "df_same_letter[['name', 'nome_sobrenome']]"
      ],
      "metadata": {
        "id": "AV5BPYZmm_lC"
      },
      "execution_count": null,
      "outputs": []
    },
    {
      "cell_type": "markdown",
      "source": [
        "## INSIGHT 2 Characters - Número de entidades por letra"
      ],
      "metadata": {
        "id": "LDuXR3vVxJ7n"
      }
    },
    {
      "cell_type": "code",
      "source": [
        "count_letters"
      ],
      "metadata": {
        "id": "iwW3ug7byRKB"
      },
      "execution_count": null,
      "outputs": []
    },
    {
      "cell_type": "markdown",
      "source": [
        "## INSIGHT 2 Characters - Gráfico"
      ],
      "metadata": {
        "id": "YhxSTXt2ySdI"
      }
    },
    {
      "cell_type": "code",
      "source": [
        "count_letters.plot.bar(x='letra_inicial', y='total_por_letra', legend=False)"
      ],
      "metadata": {
        "id": "2_J3ndMAxMW7"
      },
      "execution_count": null,
      "outputs": []
    },
    {
      "cell_type": "markdown",
      "source": [
        "## INSIGHT 3 Characters - Demonstração dos 10 personagens que tem mais quadrinhos"
      ],
      "metadata": {
        "id": "MknJYtOc_Wuq"
      }
    },
    {
      "cell_type": "code",
      "source": [
        "most_comics_charatcers.plot.bar(x='name', y='comics_available')"
      ],
      "metadata": {
        "id": "ZEymkeyC_dLV"
      },
      "execution_count": null,
      "outputs": []
    },
    {
      "cell_type": "markdown",
      "source": [
        "## INSIGHT 4 Characters - Personagens que tem descrição"
      ],
      "metadata": {
        "id": "ENVHBZAtqj9w"
      }
    },
    {
      "cell_type": "code",
      "source": [
        "description_characters"
      ],
      "metadata": {
        "id": "347Jr-7_qqwK"
      },
      "execution_count": null,
      "outputs": []
    },
    {
      "cell_type": "markdown",
      "source": [
        "## INSIGHT 4 Characters - Gráfico de comparação da quantidade de personagens com descrição"
      ],
      "metadata": {
        "id": "eAmA0uTTMhjj"
      }
    },
    {
      "cell_type": "code",
      "source": [
        "plot_donut_charts(count_description)"
      ],
      "metadata": {
        "id": "ChyY9a8oMx-m"
      },
      "execution_count": null,
      "outputs": []
    },
    {
      "cell_type": "markdown",
      "source": [
        "## INSIGHT 5 Characters - Gráfico de personagens que tem imagens"
      ],
      "metadata": {
        "id": "tpNmuAuj5uP0"
      }
    },
    {
      "cell_type": "code",
      "source": [
        "plot_donut_charts(characters_images)"
      ],
      "metadata": {
        "id": "gAWTQx4y51_g"
      },
      "execution_count": null,
      "outputs": []
    },
    {
      "cell_type": "code",
      "source": [
        "plot_side_by_side_donuts(\n",
        "    count_description.iloc[0],\n",
        "    characters_images.iloc[0],\n",
        "    titles=[\"Distribuição de Descrição\", \"Distribuição de Imagem\"],\n",
        "    colors=['#66c2a5', '#fc8d62'],\n",
        "    donut_width=0.2\n",
        ")"
      ],
      "metadata": {
        "id": "zfSCHZooJRKe"
      },
      "execution_count": null,
      "outputs": []
    },
    {
      "cell_type": "markdown",
      "source": [
        "# Events"
      ],
      "metadata": {
        "id": "OiLJYiW8vOHf"
      }
    },
    {
      "cell_type": "markdown",
      "source": [
        "## INSIGHT 1 Events - Os 10 eventos com mais histórias em quadrinhos"
      ],
      "metadata": {
        "id": "EPo9gM3R1LPC"
      }
    },
    {
      "cell_type": "code",
      "source": [
        "most_events_comics.plot.bar(x='title', y='comics_available')\n",
        "# plot(most_events_comics, \"Teste\", x_label=most_events_comics['title'], y_label='comics_available', )"
      ],
      "metadata": {
        "id": "--Om7hIbviP8"
      },
      "execution_count": null,
      "outputs": []
    },
    {
      "cell_type": "markdown",
      "source": [
        "## INSIGHT 2 Events - Os eventos com maior duração"
      ],
      "metadata": {
        "id": "SBWcODwA1r00"
      }
    },
    {
      "cell_type": "code",
      "source": [
        "most_duration_events"
      ],
      "metadata": {
        "id": "1YbLF2YR1vvF"
      },
      "execution_count": null,
      "outputs": []
    },
    {
      "cell_type": "markdown",
      "source": [
        "## INSIGHT 2 Events - Gráfico de demonstração de duração dos eventos"
      ],
      "metadata": {
        "id": "jobksXlzwnS1"
      }
    },
    {
      "cell_type": "code",
      "source": [
        "#df9\n",
        "df_timeline = events_modified.copy()\n",
        "\n",
        "# Converter datas de string para datetime\n",
        "df_timeline['start'] = pd.to_datetime(df_timeline['start'], format='%d/%m/%Y', errors='coerce')\n",
        "df_timeline['end'] = pd.to_datetime(df_timeline['end'], format='%d/%m/%Y', errors='coerce')\n",
        "\n",
        "# Remover eventos com datas inválidas\n",
        "df_timeline = df_timeline.dropna(subset=['start', 'end'])\n",
        "\n",
        "# Ordenar por data de início\n",
        "df_timeline = df_timeline.sort_values(by='start')\n",
        "plt.figure(figsize=(12, len(df_timeline) * 0.14))  # ajusta altura dinamicamente\n",
        "plt.margins(y=0)\n",
        "\n",
        "# Índice para os nomes dos eventos\n",
        "y_positions = range(len(df_timeline))\n",
        "\n",
        "# Plotar as barras horizontais\n",
        "plt.barh(\n",
        "    y=y_positions,\n",
        "    width=(df_timeline['end'] - df_timeline['start']).dt.days,\n",
        "    left=df_timeline['start'],\n",
        "    color='skyblue'\n",
        ")\n",
        "\n",
        "# Nome dos eventos no eixo Y\n",
        "plt.yticks(ticks=y_positions, labels=df_timeline['title'])\n",
        "\n",
        "# Formatando o eixo X para mostrar ano\n",
        "plt.gca().xaxis_date()\n",
        "plt.xlabel('Ano')\n",
        "plt.title('Linha do Tempo dos Eventos Marvel')\n",
        "plt.grid(True, axis='x')\n",
        "plt.tight_layout()\n",
        "plt.show()"
      ],
      "metadata": {
        "id": "yPJJo8v4w1KQ"
      },
      "execution_count": null,
      "outputs": []
    },
    {
      "cell_type": "markdown",
      "source": [
        "## INSIGHT 3 Events - Eventos modificados mais recentemente"
      ],
      "metadata": {
        "id": "UH6Do1vvd_L7"
      }
    },
    {
      "cell_type": "code",
      "source": [
        "events_modified"
      ],
      "metadata": {
        "id": "bSNf_P1weJg7"
      },
      "execution_count": null,
      "outputs": []
    },
    {
      "cell_type": "markdown",
      "source": [
        "## INSIGHT 4 Events - Distribuição de Personagens por Duração do Evento dos 10 Eventos mais longos"
      ],
      "metadata": {
        "id": "ErFdG4NPcW8h"
      }
    },
    {
      "cell_type": "code",
      "source": [
        "plt.figure(figsize=(10, 6))  # ajusta altura dinamicamente\n",
        "scatter = plt.scatter(\n",
        "    x=events_most_characters['characters_available'],\n",
        "    y=events_most_characters['title'],\n",
        "    s=events_most_characters['comics_available'] * 2,  # tamanho da bolha (ajuste o fator)\n",
        "    c=events_most_characters['comics_available'],  # cor baseada em quadrinhos\n",
        "    cmap='viridis',\n",
        "    alpha=0.7,\n",
        "    edgecolors='black'\n",
        ")\n",
        "\n",
        "plt.xlabel('Personagens Disponíveis')\n",
        "plt.ylabel('Titulo do Evento')\n",
        "plt.title('Escala dos Eventos Marvel: Relação entre Personagens e Quadrinhos')\n",
        "plt.colorbar(scatter, label='Quadrinhos Disponíveis')\n",
        "plt.grid(True)\n",
        "plt.tight_layout()\n",
        "plt.show()"
      ],
      "metadata": {
        "id": "WDO3tzUWcYlu"
      },
      "execution_count": null,
      "outputs": []
    },
    {
      "cell_type": "markdown",
      "source": [
        "# Creators"
      ],
      "metadata": {
        "id": "tspKlyyuvRXq"
      }
    },
    {
      "cell_type": "markdown",
      "source": [
        "## INSIGHT 1 Creators - Distribuição entre quantos comics o autor escreveu e em quantos eventos estava"
      ],
      "metadata": {
        "id": "POb1lIJ8_f7A"
      }
    },
    {
      "cell_type": "code",
      "source": [
        "plt.figure(figsize=(10, 8))\n",
        "\n",
        "scatter = plt.scatter(\n",
        "    x=comics_per_events['events_available'],\n",
        "    y=comics_per_events['fullName'],\n",
        "    s=comics_per_events['comics_available'],  # tamanho da bolha\n",
        "    c=comics_per_events['comics_available'],      # cor baseada nos quadrinhos\n",
        "    cmap='plasma',\n",
        "    alpha=0.7,\n",
        "    edgecolors='black'\n",
        ")\n",
        "\n",
        "plt.xlabel('Eventos Disponíveis')\n",
        "plt.ylabel('Nome do Criador')\n",
        "plt.title('Criadores: Participação em Eventos vs Quadrinhos (Tamanho/Cor)')\n",
        "plt.colorbar(scatter, label='Quadrinhos Disponíveis')\n",
        "plt.grid(True)\n",
        "plt.tight_layout()\n",
        "plt.show()"
      ],
      "metadata": {
        "id": "laH2UdKX9VpY"
      },
      "execution_count": null,
      "outputs": []
    },
    {
      "cell_type": "markdown",
      "source": [
        "## INSIGHT 2 Creators - Comparação de Creators com imagens associadas e sem imagens associadas"
      ],
      "metadata": {
        "id": "xvY9w_FuIwdL"
      }
    },
    {
      "cell_type": "code",
      "source": [
        "plot_donut_charts(creators_images)"
      ],
      "metadata": {
        "id": "85M5WTIEaGfz"
      },
      "execution_count": null,
      "outputs": []
    },
    {
      "cell_type": "markdown",
      "source": [
        "# Comics"
      ],
      "metadata": {
        "id": "M76FdKMvV4cd"
      }
    },
    {
      "cell_type": "markdown",
      "source": [
        "## INSIGHT 1 Comics: Média de preço sobre o tempo"
      ],
      "metadata": {
        "id": "I6sDXw530PQw"
      }
    },
    {
      "cell_type": "code",
      "source": [
        "comics_average_price_over_time(dataComics, show_plot=True)"
      ],
      "metadata": {
        "id": "MFrZs47o0MgC"
      },
      "execution_count": null,
      "outputs": []
    },
    {
      "cell_type": "markdown",
      "source": [
        "## INSIGHT 2 Comics: Média de páginas sobre o tempo"
      ],
      "metadata": {
        "id": "FU3W3eJ10UlZ"
      }
    },
    {
      "cell_type": "code",
      "source": [
        "comics_average_pages_over_time(dataComics, show_plot=True)"
      ],
      "metadata": {
        "id": "Ik0T13Ly0V4a"
      },
      "execution_count": null,
      "outputs": []
    },
    {
      "cell_type": "markdown",
      "source": [
        "## INSIGHT 3 Comics: Os formatos mais comuns"
      ],
      "metadata": {
        "id": "HM7-P9qw0ZHA"
      }
    },
    {
      "cell_type": "code",
      "source": [
        "comics_count_format(dataComics, show_plot=True)"
      ],
      "metadata": {
        "id": "r-JvbrdV0bcZ"
      },
      "execution_count": null,
      "outputs": []
    },
    {
      "cell_type": "markdown",
      "source": [
        "# Series"
      ],
      "metadata": {
        "id": "TpTUy3gA0f_k"
      }
    },
    {
      "cell_type": "markdown",
      "source": [
        "## INSIGHT 1 Series: Quantidade de issues lançadas por ano"
      ],
      "metadata": {
        "id": "Sn2MhLot0nNb"
      }
    },
    {
      "cell_type": "code",
      "source": [
        "series_by_year(dataSeries, show_plot=True)"
      ],
      "metadata": {
        "id": "7mEWQCMs0mO5"
      },
      "execution_count": null,
      "outputs": []
    },
    {
      "cell_type": "markdown",
      "source": [
        "## INSIGHT 2 Series: Média da duração das series"
      ],
      "metadata": {
        "id": "YOY75O4D0u1v"
      }
    },
    {
      "cell_type": "code",
      "source": [
        "series_average_duration(dataSeries, show_plot=True)"
      ],
      "metadata": {
        "id": "gDn5ZEsX0wvw"
      },
      "execution_count": null,
      "outputs": []
    },
    {
      "cell_type": "markdown",
      "source": [
        "## INSIGHT 3 Series: Distribuição classificatória de faixa etária"
      ],
      "metadata": {
        "id": "443dmtwq0y27"
      }
    },
    {
      "cell_type": "code",
      "source": [
        "series_distribution_rating(dataSeries, show_plot=True)"
      ],
      "metadata": {
        "id": "6XwKcMKJ02Ox"
      },
      "execution_count": null,
      "outputs": []
    },
    {
      "cell_type": "markdown",
      "source": [
        "## INSIGHT 4 Series: Distribuição dos tipos de séries"
      ],
      "metadata": {
        "id": "iGi4O43808Ik"
      }
    },
    {
      "cell_type": "code",
      "source": [
        "series_distribuition_type(dataSeries, show_plot=True)"
      ],
      "metadata": {
        "id": "sCpeKJt109uw"
      },
      "execution_count": null,
      "outputs": []
    },
    {
      "cell_type": "markdown",
      "source": [
        "## INSIGHT 5 Series: Quantidade de personagens por ano"
      ],
      "metadata": {
        "id": "vw6jn9uK1B0R"
      }
    },
    {
      "cell_type": "code",
      "source": [
        "series_quantity_characters_year(dataSeries, show_plot=True)"
      ],
      "metadata": {
        "id": "t0_KzFtB1DZB"
      },
      "execution_count": null,
      "outputs": []
    },
    {
      "cell_type": "markdown",
      "source": [
        "## Dados errados da API em relação a duração"
      ],
      "metadata": {
        "id": "OSC72j2o1HUU"
      }
    },
    {
      "cell_type": "code",
      "source": [
        "duration = dataSeries['duration'].value_counts().sort_index()\n",
        "dataSeries[(dataSeries['duration'] < 0) | (dataSeries['duration'] > 999)]"
      ],
      "metadata": {
        "id": "mdQ9N5E01Ilo"
      },
      "execution_count": null,
      "outputs": []
    },
    {
      "cell_type": "markdown",
      "source": [
        "# Stories"
      ],
      "metadata": {
        "id": "k-G0UVwa1RCb"
      }
    },
    {
      "cell_type": "markdown",
      "source": [
        "## INSIGHT 1 Stories: Quantidade de cada tipo"
      ],
      "metadata": {
        "id": "jQzhHYV11TLM"
      }
    },
    {
      "cell_type": "code",
      "source": [
        "types = stories_quantity_type(dataStories, show_plot=True)"
      ],
      "metadata": {
        "id": "HSP-HrRI1SJA"
      },
      "execution_count": null,
      "outputs": []
    }
  ]
}