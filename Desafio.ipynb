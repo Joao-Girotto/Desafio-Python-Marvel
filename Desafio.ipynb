{
  "cells": [
    {
      "cell_type": "markdown",
      "metadata": {
        "id": "view-in-github"
      },
      "source": [
        "<a href=\"https://colab.research.google.com/github/Joao-Girotto/Desafio-Python-Marvel/blob/main/Desafio.ipynb\" target=\"_parent\"><img src=\"https://colab.research.google.com/assets/colab-badge.svg\" alt=\"Open In Colab\"/></a>"
      ]
    },
    {
      "cell_type": "markdown",
      "metadata": {
        "id": "zfZ-n2QCX375"
      },
      "source": [
        "## Instalações"
      ]
    },
    {
      "cell_type": "code",
      "execution_count": null,
      "metadata": {
        "id": "KT13hN1jX764"
      },
      "outputs": [],
      "source": [
        "!pip install matplot dotenv plotly"
      ]
    },
    {
      "cell_type": "markdown",
      "metadata": {
        "id": "TivNY55WXDW7"
      },
      "source": [
        "## Importações"
      ]
    },
    {
      "cell_type": "code",
      "execution_count": 2,
      "metadata": {
        "id": "uJi_FpQ0XJje"
      },
      "outputs": [],
      "source": [
        "import requests\n",
        "import hashlib\n",
        "import os\n",
        "import time\n",
        "import pandas as pd\n",
        "import sqlite3\n",
        "from dotenv import load_dotenv\n",
        "import regex as re\n",
        "import matplotlib.pyplot as plt\n",
        "import plotly.express as px\n"
      ]
    },
    {
      "cell_type": "markdown",
      "metadata": {
        "id": "C9Z3SJZZXUqL"
      },
      "source": [
        "## Pegando as chaves"
      ]
    },
    {
      "cell_type": "code",
      "execution_count": 3,
      "metadata": {
        "id": "IF71H-aLXYnG"
      },
      "outputs": [],
      "source": [
        "load_dotenv()\n",
        "PUBLIC_KEY = os.getenv(\"Public_Key\")\n",
        "PRIVATE_KEY = os.getenv(\"Private_Key\")"
      ]
    },
    {
      "cell_type": "markdown",
      "metadata": {
        "id": "uB07W7QkZ0N3"
      },
      "source": [
        "## Endpoints e Parâmetros"
      ]
    },
    {
      "cell_type": "code",
      "execution_count": 4,
      "metadata": {
        "id": "31vG2b7TC4wm"
      },
      "outputs": [],
      "source": [
        "ts = str(time.time())\n",
        "to_hash = ts + PRIVATE_KEY + PUBLIC_KEY\n",
        "hash_md5 = hashlib.md5(to_hash.encode()).hexdigest()\n",
        "\n",
        "end1 = \"https://gateway.marvel.com/v1/public/characters\"\n",
        "end2 = \"https://gateway.marvel.com/v1/public/comics\"\n",
        "end3 = \"https://gateway.marvel.com/v1/public/books\"\n",
        "end4 = \"https://gateway.marvel.com/v1/public/series\"\n",
        "end5 = \"https://gateway.marvel.com/v1/public/creators\"\n",
        "end6 = \"https://gateway.marvel.com/v1/public/events\"\n",
        "end7 = \"https://gateway.marvel.com/v1/public/stories\"\n",
        "\n",
        "offset = 0\n",
        "params = {\n",
        "    \"apikey\": PUBLIC_KEY,\n",
        "    \"ts\": ts,\n",
        "    \"hash\": hash_md5,\n",
        "    \"limit\": 100,\n",
        "    \"offset\": offset\n",
        "}"
      ]
    },
    {
      "cell_type": "markdown",
      "metadata": {
        "id": "HomMsH_aZ37k"
      },
      "source": [
        "## Requisição"
      ]
    },
    {
      "cell_type": "code",
      "execution_count": null,
      "metadata": {
        "colab": {
          "base_uri": "https://localhost:8080/"
        },
        "id": "AosHEI0sZ6TM",
        "outputId": "885cabb7-1d1a-4718-f3c0-f0a2a36f2c2b"
      },
      "outputs": [],
      "source": [
        "response = requests.get(end1, params=params)\n",
        "\n",
        "response\n",
        "data = response.json()\n",
        "data\n",
        "#df = pd.DataFrame(data['data']['results'])\n",
        "#df.dtypes\n",
        "# df_extraido = pd.json_normalize(df['data']['results'])\n",
        "# df_extraido2 = pd.DataFrame(df['data']['results'])"
      ]
    },
    {
      "cell_type": "markdown",
      "metadata": {
        "id": "1vDxgSmIaRAK"
      },
      "source": [
        "## Exibição"
      ]
    },
    {
      "cell_type": "code",
      "execution_count": null,
      "metadata": {
        "colab": {
          "base_uri": "https://localhost:8080/",
          "height": 211
        },
        "collapsed": true,
        "id": "PvW6DorNgeK5",
        "outputId": "89fe42cc-6385-4664-d256-920111ae69d9"
      },
      "outputs": [],
      "source": [
        "# dsa = df_extraido['name']\n",
        "df = df[['name', 'id', 'description']]\n",
        "con = sqlite3.connect('Marvel.db')\n",
        "df.to_sql(\"characters\", con, if_exists=\"replace\", index=False)\n",
        "con.close()"
      ]
    },
    {
      "cell_type": "markdown",
      "metadata": {
        "id": "uAPlhTz0hOIR"
      },
      "source": [
        "# Função para consulta no BD"
      ]
    },
    {
      "cell_type": "code",
      "execution_count": 7,
      "metadata": {
        "id": "g6FrJnv1hTrf"
      },
      "outputs": [],
      "source": [
        "def query_db(query, params=None, db='Marvel.db'):\n",
        "  try:\n",
        "    with sqlite3.connect(db) as con:\n",
        "      return pd.read_sql_query(query, con, params)\n",
        "\n",
        "  except Exception as e:\n",
        "    print(f'Erro com a database: {e}')\n",
        "    return pd.DataFrame()\n"
      ]
    },
    {
      "cell_type": "markdown",
      "metadata": {
        "id": "e7sfNb6SF2l9"
      },
      "source": [
        "# Função para fazer as queries\n"
      ]
    },
    {
      "cell_type": "code",
      "execution_count": 20,
      "metadata": {
        "id": "STvuQkX0F_g_"
      },
      "outputs": [],
      "source": [
        "def query_api(end, offset=0):\n",
        "  arraySeries = []\n",
        "  params['offset'] = offset\n",
        "  max_tries = 5\n",
        "  while True:\n",
        "    tries = 0\n",
        "\n",
        "    while tries < max_tries:\n",
        "      try:\n",
        "        response = requests.get(end,params=params)\n",
        "        response.raise_for_status()\n",
        "        data = response.json()\n",
        "\n",
        "        if data.get('data', {}).get('results', []):\n",
        "          arraySeries.append(data)\n",
        "          break\n",
        "\n",
        "        else:\n",
        "          print('Failed, trying again')\n",
        "          tries += 1\n",
        "          continue\n",
        "\n",
        "      except Exception as e:\n",
        "        print('Trying again, HTTP status code != 200')\n",
        "        tries += 1\n",
        "        continue\n",
        "\n",
        "    if tries == max_tries:\n",
        "        print('Offset failed, jumping offset')\n",
        "        offset += 100\n",
        "        tries = 0\n",
        "        params['offset'] = offset\n",
        "\n",
        "    offset += 100\n",
        "    tries = 0\n",
        "    params['offset'] = offset\n",
        "    print(offset)\n",
        "\n",
        "    if offset >= data.get('data', {}).get('total', []):\n",
        "      print('Query finished with success')\n",
        "      break\n",
        "  return arraySeries"
      ]
    },
    {
      "cell_type": "markdown",
      "metadata": {
        "id": "w7mFBD0WOBH6"
      },
      "source": [
        "# Função para criar um CSV"
      ]
    },
    {
      "cell_type": "code",
      "execution_count": 8,
      "metadata": {
        "id": "wMTJAMeKCiFv"
      },
      "outputs": [],
      "source": [
        "def create_csv(array, nome_arquivo): ## Array de JSON\n",
        "\n",
        "  try:\n",
        "    df = pd.DataFrame(array)\n",
        "    df.to_csv(nome_arquivo, index=False, encoding='utf-8')\n",
        "\n",
        "  except Exception as e:\n",
        "    print(f'Error when creating the file {nome_arquivo}: {e}')"
      ]
    },
    {
      "cell_type": "markdown",
      "metadata": {
        "id": "b_d8cCOoOEET"
      },
      "source": [
        "# Função para plotar um gráfico"
      ]
    },
    {
      "cell_type": "code",
      "execution_count": 11,
      "metadata": {
        "id": "gxe6tE6noJ3A"
      },
      "outputs": [],
      "source": [
        "def plot(dataframe ,title, x_label, y_label, grid='y', kind='bar', color='purple', rotation=90, show=True, **kwargs):\n",
        "  ax = dataframe.plot(kind=kind, color=color, title=title, **kwargs)\n",
        "  ax.set_xlabel(x_label)\n",
        "  ax.set_ylabel(y_label)\n",
        "  plt.xticks(rotation=rotation)\n",
        "  plt.tight_layout()\n",
        "  plt.grid(axis=grid)\n",
        "\n",
        "  if show:\n",
        "    plt.show()\n",
        "\n",
        "  return ax"
      ]
    },
    {
      "cell_type": "markdown",
      "metadata": {
        "id": "aLuggftz0Qdw"
      },
      "source": [
        "# Series"
      ]
    },
    {
      "cell_type": "markdown",
      "metadata": {
        "id": "HL6H91ckHbi4"
      },
      "source": [
        "## Adicionando as series ao banco de dados"
      ]
    },
    {
      "cell_type": "code",
      "execution_count": 30,
      "metadata": {
        "id": "CLZfh8ciHg0z"
      },
      "outputs": [],
      "source": [
        "def series_add_db(array): ## Deve ser um array contendo o JSON de response, cada índice é um JSON, NÃO remover o header do response para passar pra função\n",
        "  def calculateDuration(row):\n",
        "    if row['endYear'] == 2099:\n",
        "      return 999\n",
        "    else:\n",
        "      return row['endYear'] - row['startYear']\n",
        "\n",
        "  def function_dict(x):\n",
        "    creators = [item['name'] for item in x['items']] if isinstance(x, dict) and 'items' in x else []\n",
        "    return ', '.join(creators)\n",
        "\n",
        "  def amount(x):\n",
        "    return x.get('available', 0)\n",
        "\n",
        "  with sqlite3.connect('Marvel.db') as con:\n",
        "    for i in array:\n",
        "      df = pd.DataFrame(pd.DataFrame(i['data']['results']))\n",
        "      df['duration'] = df.apply(calculateDuration, axis=1)\n",
        "      df['creator_name'] = df['creators'].apply(function_dict)\n",
        "      df['character_qty'] = df['characters'].apply(amount)\n",
        "      df['creator_qty'] = df['creators'].apply(amount)\n",
        "      df['story_qty'] = df['stories'].apply(amount)\n",
        "      df['event_qty'] = df['events'].apply(amount)\n",
        "      df['comic_qty'] = df['comics'].apply(amount)\n",
        "      df = df[['id', 'title', 'description', 'startYear', 'endYear',\n",
        "              'rating', 'type', 'duration', 'creator_name', 'creator_qty',\n",
        "              'character_qty', 'story_qty', 'event_qty', 'comic_qty']]\n",
        "      df.to_sql(\"series\", con, if_exists=\"append\", index=False)"
      ]
    },
    {
      "cell_type": "markdown",
      "metadata": {
        "id": "VJp2UXirEudy"
      },
      "source": [
        "## Função para analisar a quatidade de séries por ano"
      ]
    },
    {
      "cell_type": "code",
      "execution_count": 35,
      "metadata": {
        "id": "nt8qWRQEOkuW"
      },
      "outputs": [],
      "source": [
        "def series_by_year(dataframe, show_plot=False):\n",
        "  series_year = dataframe[(dataframe['startYear'] > 0) & (dataframe['startYear'] < 2029)]['startYear'].value_counts().sort_index()\n",
        "\n",
        "  if show_plot:\n",
        "    plot(dataframe=series_year, title='Séries por Década', x_label='Década',\n",
        "         y_label='Quantidade de Séries', figsize=(20, 6))\n",
        "\n",
        "  return series_year"
      ]
    },
    {
      "cell_type": "markdown",
      "metadata": {
        "id": "ApjnHa8KE5Tg"
      },
      "source": [
        "## Função para analisar a média de duração das séries"
      ]
    },
    {
      "cell_type": "code",
      "execution_count": 41,
      "metadata": {
        "id": "AeQoWB8G5ekn"
      },
      "outputs": [],
      "source": [
        "def series_average_duration(dataframe, show_plot=False):\n",
        "  anos_series = dataframe[(dataframe['duration'] >= 0) &(dataframe['duration'] < 999)]['duration'].value_counts().sort_index().head(10) ## 999 definido para séries em produção\n",
        "\n",
        "  if show_plot:\n",
        "    plot(dataframe=anos_series, title='Series: Média da duração das series', x_label='Duração (anos)',\n",
        "         y_label='Quantidade de séries')\n",
        "\n",
        "  media = dataframe[(dataframe['duration'] >= 0) &(dataframe['duration'] < 999)]['duration'].mean() ## 999 definido para séries em produção\n",
        "  return anos_series, media"
      ]
    },
    {
      "cell_type": "markdown",
      "metadata": {
        "id": "vMpiMZLzFA-b"
      },
      "source": [
        "## Função para analisar a distribuição das classificações"
      ]
    },
    {
      "cell_type": "code",
      "execution_count": 25,
      "metadata": {
        "id": "KzT_LkKycifI"
      },
      "outputs": [],
      "source": [
        "def series_distribution_rating(dataframe, show_plot=False):\n",
        "  media = dataframe[dataframe['rating'] != '']['rating'].value_counts()\n",
        "\n",
        "  if show_plot:\n",
        "    plot(dataframe=media, x_label='Classificação etária', y_label='Quantidade de séries',\n",
        "         title='Distribuição classificatória de faixa etária')\n",
        "\n",
        "  return media"
      ]
    },
    {
      "cell_type": "markdown",
      "metadata": {
        "id": "02mO5dLPFHul"
      },
      "source": [
        "## Função para analisar a distribuição dos tipos"
      ]
    },
    {
      "cell_type": "code",
      "execution_count": 26,
      "metadata": {
        "id": "gdLJKq4fMJHg"
      },
      "outputs": [],
      "source": [
        "def series_distribuition_type(dataframe, show_plot=False):\n",
        "  series_type = dataframe[dataframe['type'] != '']['type'].value_counts()\n",
        "\n",
        "  if show_plot:\n",
        "    plot(dataframe=series_type, x_label='Tipo', title='Distribuição dos tipos de séries',\n",
        "         y_label='Quantidade de séries')\n",
        "\n",
        "  return series_type"
      ]
    },
    {
      "cell_type": "markdown",
      "metadata": {
        "id": "3UDRpk2SFOC2"
      },
      "source": [
        "## Função para analisar a quantidade de personagens por ano"
      ]
    },
    {
      "cell_type": "code",
      "execution_count": 48,
      "metadata": {
        "id": "vVMCoiAZdRwL"
      },
      "outputs": [],
      "source": [
        "def series_quantity_characters_year(dataframe, show_plot=False):\n",
        "  tempo = dataframe[(dataframe['character_qty'] > 0) & (dataframe['startYear'] > 1900) & (dataframe['startYear'] < 2029)].groupby('startYear')['character_qty'].sum()\n",
        "  falta_anos = pd.Series(0, index=range(1939, 2025))\n",
        "  arrumado =  falta_anos.add(tempo, fill_value=0)\n",
        "\n",
        "  if show_plot:\n",
        "    plot(dataframe=arrumado, title='Quantidade de personagens por ano', x_label='Ano', y_label='Quantidade de personagens', figsize=(20, 6))\n",
        "\n",
        "  return arrumado"
      ]
    },
    {
      "cell_type": "code",
      "execution_count": null,
      "metadata": {
        "id": "bsjJD301ZMq7"
      },
      "outputs": [],
      "source": [
        "array = query_api(end4)\n",
        "create_csv(array=array, nome_arquivo='Series.csv')\n",
        "series_add_db(array=array)"
      ]
    },
    {
      "cell_type": "markdown",
      "metadata": {
        "id": "fQQ3JRu7n0C6"
      },
      "source": [
        "## Pegando do banco de dados"
      ]
    },
    {
      "cell_type": "code",
      "execution_count": 32,
      "metadata": {
        "id": "GXsCRJDQI4HW"
      },
      "outputs": [],
      "source": [
        "data = query_db('SELECT * FROM series')"
      ]
    },
    {
      "cell_type": "markdown",
      "metadata": {
        "id": "1a9CTvzfsrGY"
      },
      "source": [
        "## INSIGHT 1 Series: Quantidade de issues lançadas por ano"
      ]
    },
    {
      "cell_type": "code",
      "execution_count": null,
      "metadata": {
        "colab": {
          "base_uri": "https://localhost:8080/",
          "height": 931
        },
        "id": "RXkq1abRFjF2",
        "outputId": "cac940b7-6167-48ee-ff76-b2daf42c877a"
      },
      "outputs": [],
      "source": [
        "series_by_year(data, show_plot=True)"
      ]
    },
    {
      "cell_type": "markdown",
      "metadata": {
        "id": "0wpxxznDZVoa"
      },
      "source": [
        "## INSIGHT 2 Series: Média da duração das series"
      ]
    },
    {
      "cell_type": "code",
      "execution_count": null,
      "metadata": {
        "colab": {
          "base_uri": "https://localhost:8080/",
          "height": 713
        },
        "id": "vD9JCAS1Fp12",
        "outputId": "40257587-ab46-4407-e667-69a3412de0c6"
      },
      "outputs": [],
      "source": [
        "series_average_duration(data, show_plot=True)"
      ]
    },
    {
      "cell_type": "markdown",
      "metadata": {
        "id": "5Xi1v6LFcAWx"
      },
      "source": [
        "## INSIGHT 3 Series: Distribuição classificatória de faixa etária"
      ]
    },
    {
      "cell_type": "code",
      "execution_count": null,
      "metadata": {
        "colab": {
          "base_uri": "https://localhost:8080/",
          "height": 1000
        },
        "id": "aHKAHukmFskr",
        "outputId": "4f326e5c-ce94-457d-d74b-5347b2caac18"
      },
      "outputs": [],
      "source": [
        "series_distribution_rating(data, show_plot=True)"
      ]
    },
    {
      "cell_type": "markdown",
      "metadata": {
        "id": "e4w3qK4Fcrvg"
      },
      "source": [
        "## INSIGHT 4 Series: Distribuição dos tipos de séries"
      ]
    },
    {
      "cell_type": "code",
      "execution_count": null,
      "metadata": {
        "colab": {
          "base_uri": "https://localhost:8080/",
          "height": 711
        },
        "id": "YIvHwqJ2Fu9M",
        "outputId": "90df3ee6-eb7b-4ad8-b821-896a63bc07a9"
      },
      "outputs": [],
      "source": [
        "series_distribuition_type(data, show_plot=True)"
      ]
    },
    {
      "cell_type": "markdown",
      "metadata": {
        "id": "KJcgJiuWlbzI"
      },
      "source": [
        "## INSIGHT 5 Series: Quantidade de personagens por ano"
      ]
    },
    {
      "cell_type": "code",
      "execution_count": null,
      "metadata": {
        "colab": {
          "base_uri": "https://localhost:8080/",
          "height": 899
        },
        "id": "CahwvyMzFzZm",
        "outputId": "eeacf70a-490b-4fc5-9758-11838c3758e9"
      },
      "outputs": [],
      "source": [
        "series_quantity_characters_year(data, show_plot=True)"
      ]
    },
    {
      "cell_type": "markdown",
      "metadata": {
        "id": "Mu7IKrGU5ZSV"
      },
      "source": [
        "## Dados errados da API em relação a duração"
      ]
    },
    {
      "cell_type": "code",
      "execution_count": null,
      "metadata": {
        "colab": {
          "base_uri": "https://localhost:8080/",
          "height": 707
        },
        "id": "Q_ubAhk3ywOO",
        "outputId": "28136db6-9ea3-473b-8bae-0a8991c2e730"
      },
      "outputs": [],
      "source": [
        "duration = data['duration'].value_counts().sort_index()\n",
        "data[(data['duration'] < 0) | (data['duration'] > 999)]"
      ]
    },
    {
      "cell_type": "markdown",
      "metadata": {
        "id": "UhrD7kPAtmWB"
      },
      "source": [
        "# Comics"
      ]
    },
    {
      "cell_type": "markdown",
      "metadata": {
        "id": "WtP3quFVyNL0"
      },
      "source": [
        "## Função para adicionar as comics no banco de dados"
      ]
    },
    {
      "cell_type": "code",
      "execution_count": 53,
      "metadata": {
        "id": "Dr9a2q4qZUqd"
      },
      "outputs": [],
      "source": [
        "def comics_add_db(array_json): ## Deve ser um array contendo o JSON de response, cada índice é um JSON, NÃO remover o header do response para passar pra função\n",
        "\n",
        "  def funcao_series(x):\n",
        "    return x.get('name', '') if isinstance(x, dict) else ''\n",
        "\n",
        "  def funcao_price(x):\n",
        "      if isinstance(x, list) and len(x) > 0 and isinstance(x[0], dict):\n",
        "          return x[0].get('price', '')\n",
        "      return ''\n",
        "\n",
        "  with sqlite3.connect('Marvel.db') as con:\n",
        "    for i in array_json:\n",
        "      df = pd.DataFrame(pd.DataFrame(i['data']['results']))\n",
        "      df['price'] = df['prices'].apply(funcao_price)\n",
        "      df['series_name'] = df['series'].apply(funcao_series)\n",
        "      df = df[['id', 'digitalId','title', 'issueNumber', 'description',\n",
        "              'format', 'pageCount', 'series_name', 'price']]\n",
        "      df.to_sql(\"comics\", con, if_exists=\"append\", index=False)\n",
        "\n"
      ]
    },
    {
      "cell_type": "markdown",
      "metadata": {
        "id": "VXJ1-GIHy6ns"
      },
      "source": [
        "## Função para contar a quatidade de cada formato"
      ]
    },
    {
      "cell_type": "code",
      "execution_count": 54,
      "metadata": {
        "id": "3ET8WOQ8v3DO"
      },
      "outputs": [],
      "source": [
        "def comics_count_format(dataFrame, show_plot=False): ## O DataFrame deve ser o DataFrame pós-adição no banco de dados, com os headers HTTP já removidos\n",
        "  format = dataFrame[dataFrame['format'] != '']['format'].value_counts()\n",
        "\n",
        "  if show_plot:\n",
        "\n",
        "    fig = px.bar(\n",
        "        format,\n",
        "        x=format.index,\n",
        "        y=format.values,\n",
        "        labels={'x': 'Formato', 'y': 'Quantidade de comics'},\n",
        "        title='Quantidade de cada tipo',\n",
        "        color_discrete_sequence=['purple']\n",
        "    )\n",
        "\n",
        "    fig.update_layout(\n",
        "        xaxis_title='Formato',\n",
        "        yaxis_title='Quantidade de comics',\n",
        "        xaxis_tickangle=-45\n",
        "    )\n",
        "\n",
        "    fig.show()\n",
        "\n",
        "  return format"
      ]
    },
    {
      "cell_type": "markdown",
      "metadata": {
        "id": "jWpabsxSzRhb"
      },
      "source": [
        "## Função para contar a média de preço das comics sobre o tempo"
      ]
    },
    {
      "cell_type": "code",
      "execution_count": 23,
      "metadata": {
        "id": "KG0W1-xJjf5w"
      },
      "outputs": [],
      "source": [
        "def comics_average_price_over_time(dataframe, show_plot=False): ## O DataFrame deve ser o DataFrame pós-adição no banco de dados, com os headers HTTP já removidos\n",
        "  def extract_number(text):\n",
        "    match = re.findall(r'\\d+', text)\n",
        "    return int(match[0]) if match else None\n",
        "\n",
        "  dataframe['year'] = dataframe['title'].apply(extract_number)\n",
        "  price_over_time = dataframe[['year', 'price']]\n",
        "  price_over_time = price_over_time[(price_over_time['year'] > 1900) & (price_over_time['year'] < 2050)]\n",
        "  price_filter = price_over_time.query('price > 0 and price < 20').copy()\n",
        "  price_filter = price_filter.dropna()\n",
        "  price_filter_average = price_filter.groupby('year').mean()\n",
        "\n",
        "  if show_plot:\n",
        "    plt.figure(figsize=(20, 6))\n",
        "    plt.plot(price_filter_average.index, price_filter_average['price'], color='purple', label='Preço Médio')\n",
        "    plt.scatter(price_filter['year'], price_filter['price'], color='grey', label='Preços individuais', alpha=0.4, s=10)\n",
        "\n",
        "  return price_filter_average"
      ]
    },
    {
      "cell_type": "markdown",
      "metadata": {
        "id": "TI66Dnm-znZ9"
      },
      "source": [
        "## Função para contar a média de páginas das comics sobre o tempo"
      ]
    },
    {
      "cell_type": "code",
      "execution_count": 38,
      "metadata": {
        "id": "sSQbeVZcpBvY"
      },
      "outputs": [],
      "source": [
        "def comics_average_pages_over_time(dataframe, show_plot=False): ## O DataFrame deve ser o DataFrame pós-adição no banco de dados, com os headers HTTP já removidos\n",
        "  def extract_number(text):\n",
        "    match = re.findall(r'\\d+', text)\n",
        "    return int(match[0]) if match else None\n",
        "\n",
        "  dataframe['year'] = dataframe['title'].apply(extract_number)\n",
        "  pages_over_time = dataframe[['year', 'pageCount']]\n",
        "  pages_over_time = pages_over_time[(pages_over_time['year'] > 1900) & (pages_over_time['year'] < 2050)]\n",
        "  pages_filter = pages_over_time.query('pageCount > 0 and pageCount < 200')\n",
        "  pages_filter = pages_filter.dropna()\n",
        "  pags_filter_average = pages_filter.groupby('year').mean()\n",
        "\n",
        "  if show_plot:\n",
        "    plot(dataframe=pags_filter_average, title='Média de páginas', x_label='Ano', y_label='Média de páginas', kind='line')\n",
        "\n",
        "  return pags_filter_average"
      ]
    },
    {
      "cell_type": "markdown",
      "metadata": {
        "id": "zw9Ph3M6HAmj"
      },
      "source": [
        "## Consumindo e armazenando os dados"
      ]
    },
    {
      "cell_type": "code",
      "execution_count": null,
      "metadata": {
        "id": "5qvJfMxqY3v4"
      },
      "outputs": [],
      "source": [
        "array = query_api(end2) ## Endereço de comics\n",
        "create_csv(array, 'Comics.csv')\n",
        "comics_add_db(array)"
      ]
    },
    {
      "cell_type": "markdown",
      "metadata": {
        "id": "f1SAiLIKGTz4"
      },
      "source": [
        "## Pegando os dados do banco de dados"
      ]
    },
    {
      "cell_type": "code",
      "execution_count": 16,
      "metadata": {
        "id": "AULxPx0XF8-U"
      },
      "outputs": [],
      "source": [
        "data = query_db('SELECT * FROM comics')"
      ]
    },
    {
      "cell_type": "markdown",
      "metadata": {
        "id": "CuNxH_bqwMHy"
      },
      "source": [
        "## INSIGHT 1 Comics: Média de preço sobre o tempo"
      ]
    },
    {
      "cell_type": "code",
      "execution_count": null,
      "metadata": {
        "colab": {
          "base_uri": "https://localhost:8080/",
          "height": 921
        },
        "id": "nb4wDpxDF60c",
        "outputId": "6feb1543-9a5f-4e5b-8d05-4caf0e76dbe8"
      },
      "outputs": [],
      "source": [
        "comics_average_price_over_time(data, show_plot=True)"
      ]
    },
    {
      "cell_type": "markdown",
      "metadata": {
        "id": "0Zi02ClhwVTu"
      },
      "source": [
        "## INSIGHT 2 Comics: Média de páginas sobre o tempo"
      ]
    },
    {
      "cell_type": "code",
      "execution_count": null,
      "metadata": {
        "colab": {
          "base_uri": "https://localhost:8080/",
          "height": 925
        },
        "id": "kbFj9AhAGFVW",
        "outputId": "a3bdc4fc-fd84-4215-c479-5336aba15ea7"
      },
      "outputs": [],
      "source": [
        "comics_average_pages_over_time(data, show_plot=True)"
      ]
    },
    {
      "cell_type": "markdown",
      "metadata": {
        "id": "7yeuJ_dC6Wie"
      },
      "source": [
        "## INSIGHT 3 Comics: Os formatos mais comuns"
      ]
    },
    {
      "cell_type": "code",
      "execution_count": null,
      "metadata": {
        "colab": {
          "base_uri": "https://localhost:8080/",
          "height": 1000
        },
        "id": "fB483YRvGHjK",
        "outputId": "576e93ec-e08f-4feb-b529-dc5321fe3af2"
      },
      "outputs": [],
      "source": [
        "comics_count_format(data, show_plot=True)"
      ]
    },
    {
      "cell_type": "markdown",
      "metadata": {
        "id": "EcRz1Ql0KIQf"
      },
      "source": [
        "# Stories"
      ]
    },
    {
      "cell_type": "markdown",
      "metadata": {
        "id": "M1PYRQyGKzUk"
      },
      "source": [
        "## Função para adicionar os stories ao BD"
      ]
    },
    {
      "cell_type": "code",
      "execution_count": 63,
      "metadata": {
        "id": "0T4u48TKkJQo"
      },
      "outputs": [],
      "source": [
        "def stories_add_db(array_json): ## Deve ser um array contendo o JSON de response, cada índice é um JSON, NÃO remover o header do response para passar pra função\n",
        "  with sqlite3.connect('Marvel.db') as con:\n",
        "    for i in array_json:\n",
        "      df4 = pd.DataFrame(pd.DataFrame(i['data']['results']))\n",
        "      df4 = df4[['id', 'title', 'description', 'type']]\n",
        "      df4.to_sql(\"stories\", con, if_exists=\"append\", index=False)\n"
      ]
    },
    {
      "cell_type": "markdown",
      "metadata": {
        "id": "QcNoeAouK4S3"
      },
      "source": [
        "## Função para calcular a quantidade de cada tipo de stories"
      ]
    },
    {
      "cell_type": "code",
      "execution_count": 64,
      "metadata": {
        "id": "8m6XNYYzl2IJ"
      },
      "outputs": [],
      "source": [
        "def stories_quantity_type(dataframe, show_plot=False): ## O DataFrame deve ser o DataFrame pós-adição no banco de dados, com os headers HTTP já removidos\n",
        "  types = dataframe[dataframe['type'] != '']['type'].value_counts()\n",
        "\n",
        "  if show_plot:\n",
        "\n",
        "    fig = px.bar(\n",
        "        types,\n",
        "        x=types.index,\n",
        "        y=types.values,\n",
        "        labels={'x': 'Tipo', 'y': 'Quantidade'},\n",
        "        title='Quantidade de cada tipo',\n",
        "        color_discrete_sequence=['purple']\n",
        "    )\n",
        "\n",
        "    fig.update_layout(\n",
        "        xaxis_title='Tipos',\n",
        "        yaxis_title='Quantidade',\n",
        "        xaxis_tickangle=-45\n",
        "    )\n",
        "\n",
        "    fig.show()\n",
        "\n",
        "  return types"
      ]
    },
    {
      "cell_type": "markdown",
      "metadata": {
        "id": "dmGi04m_G89i"
      },
      "source": [
        "## Consumindo e armazenando os dados"
      ]
    },
    {
      "cell_type": "code",
      "execution_count": null,
      "metadata": {
        "colab": {
          "base_uri": "https://localhost:8080/",
          "height": 321
        },
        "id": "LjzibPQYIR9C",
        "outputId": "f80591fc-da29-4041-b5b4-3424d1d1635f"
      },
      "outputs": [],
      "source": [
        "array = query_api(end7)\n",
        "create_csv(array, 'Stories.csv')\n",
        "stories_add_db(array)"
      ]
    },
    {
      "cell_type": "markdown",
      "metadata": {
        "id": "1gxLnYJ-HJjC"
      },
      "source": [
        "## Pegando os dados do banco de dados"
      ]
    },
    {
      "cell_type": "code",
      "execution_count": 66,
      "metadata": {
        "id": "OMXCgnwmGOeR"
      },
      "outputs": [],
      "source": [
        "dataframe = query_db('SELECT * FROM stories')"
      ]
    },
    {
      "cell_type": "markdown",
      "metadata": {
        "id": "SwvjnJtpKfz4"
      },
      "source": [
        "## INSIGHT 1 Stories: Quantidade de cada tipo\n",
        "\n",
        "\n"
      ]
    },
    {
      "cell_type": "code",
      "execution_count": null,
      "metadata": {
        "colab": {
          "base_uri": "https://localhost:8080/",
          "height": 542
        },
        "id": "9Mr3Wnlq-ilq",
        "outputId": "5edb4c1b-649e-4ee4-a463-0133a25ca221"
      },
      "outputs": [],
      "source": [
        "types = stories_quantity_type(dataframe, show_plot=True)\n"
      ]
    }
  ],
  "metadata": {
    "colab": {
      "provenance": []
    },
    "kernelspec": {
      "display_name": "Python 3",
      "name": "python3"
    },
    "language_info": {
      "name": "python"
    }
  },
  "nbformat": 4,
  "nbformat_minor": 0
}
