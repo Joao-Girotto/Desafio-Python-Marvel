{
  "nbformat": 4,
  "nbformat_minor": 0,
  "metadata": {
    "colab": {
      "provenance": [],
      "authorship_tag": "ABX9TyO8LmfXFtF4TAaiTtOSEUSy",
      "include_colab_link": true
    },
    "kernelspec": {
      "name": "python3",
      "display_name": "Python 3"
    },
    "language_info": {
      "name": "python"
    }
  },
  "cells": [
    {
      "cell_type": "markdown",
      "metadata": {
        "id": "view-in-github",
        "colab_type": "text"
      },
      "source": [
        "<a href=\"https://colab.research.google.com/github/Joao-Girotto/Desafio-Python-Marvel/blob/joao/Desafio.ipynb\" target=\"_parent\"><img src=\"https://colab.research.google.com/assets/colab-badge.svg\" alt=\"Open In Colab\"/></a>"
      ]
    },
    {
      "cell_type": "markdown",
      "source": [
        "## Instalações"
      ],
      "metadata": {
        "id": "zfZ-n2QCX375"
      }
    },
    {
      "cell_type": "code",
      "source": [
        "!pip install dotenv"
      ],
      "metadata": {
        "id": "KT13hN1jX764"
      },
      "execution_count": null,
      "outputs": []
    },
    {
      "cell_type": "markdown",
      "source": [
        "## Importações"
      ],
      "metadata": {
        "id": "TivNY55WXDW7"
      }
    },
    {
      "cell_type": "code",
      "source": [
        "import requests\n",
        "import hashlib\n",
        "import os\n",
        "import time\n",
        "import pandas as pd\n",
        "import sqlite3\n",
        "import json\n",
        "from dotenv import load_dotenv\n",
        "from google.colab import userdata\n",
        "import matplotlib.pyplot as plt\n",
        "import matplotlib.cm as cm\n",
        "import numpy as np"
      ],
      "metadata": {
        "id": "uJi_FpQ0XJje"
      },
      "execution_count": null,
      "outputs": []
    },
    {
      "cell_type": "markdown",
      "source": [
        "## Pegando as chaves"
      ],
      "metadata": {
        "id": "C9Z3SJZZXUqL"
      }
    },
    {
      "cell_type": "code",
      "source": [
        "# load_dotenv()\n",
        "# PUBLIC_KEY = os.getenv(\"Public_Key\")\n",
        "# PRIVATE_KEY = os.getenv(\"Private_Key\")\n",
        "\n",
        "PRIVATE_KEY = userdata.get(\"Private_Key\")\n",
        "PUBLIC_KEY = userdata.get(\"Public_Key\")\n"
      ],
      "metadata": {
        "id": "IF71H-aLXYnG"
      },
      "execution_count": null,
      "outputs": []
    },
    {
      "cell_type": "markdown",
      "source": [
        "## Endpoints e Parâmetros"
      ],
      "metadata": {
        "id": "uB07W7QkZ0N3"
      }
    },
    {
      "cell_type": "code",
      "source": [
        "ts = str(time.time())\n",
        "to_hash = ts + PRIVATE_KEY + PUBLIC_KEY\n",
        "hash_md5 = hashlib.md5(to_hash.encode()).hexdigest()\n",
        "\n",
        "endCharacters = \"https://gateway.marvel.com/v1/public/characters\"\n",
        "endComics = \"https://gateway.marvel.com/v1/public/comics\"\n",
        "endSeries = \"https://gateway.marvel.com/v1/public/series\"\n",
        "endEvents = \"https://gateway.marvel.com/v1/public/events\"\n",
        "endCreators = \"https://gateway.marvel.com/v1/public/creators\"\n",
        "\n",
        "\n",
        "params = {\n",
        "    \"apikey\": PUBLIC_KEY,\n",
        "    \"ts\": ts,\n",
        "    \"hash\": hash_md5,\n",
        "    \"limit\": 10\n",
        "}\n"
      ],
      "metadata": {
        "id": "31vG2b7TC4wm"
      },
      "execution_count": null,
      "outputs": []
    },
    {
      "cell_type": "markdown",
      "source": [
        "## Pegando o total de requisições"
      ],
      "metadata": {
        "id": "ChhuvLeKRIMU"
      }
    },
    {
      "cell_type": "code",
      "source": [
        "totalCharacters = requests.get(endCharacters, params=params)\n",
        "totalCharacters = totalCharacters.json()\n",
        "total = totalCharacters['data']['total']\n",
        "\n",
        "totalEvents = requests.get(endEvents, params=params)\n",
        "totalEvents = totalEvents.json()\n",
        "totalE = totalEvents['data']['total']\n",
        "\n",
        "totalCreators = requests.get(endCreators, params=params)\n",
        "totalCreators = totalCreators.json()\n",
        "totalC = totalCreators['data']['total']"
      ],
      "metadata": {
        "id": "59AfUDONRQDy"
      },
      "execution_count": null,
      "outputs": []
    },
    {
      "cell_type": "markdown",
      "source": [
        "## Função para realizar requisições"
      ],
      "metadata": {
        "id": "HomMsH_aZ37k"
      }
    },
    {
      "cell_type": "code",
      "source": [
        "\n",
        "def requisition(endpoint, total, step, filename, limit, params_base=None):\n",
        "    data_array = []\n",
        "    offset = 0\n",
        "\n",
        "    if params_base is None:\n",
        "        params_base = {}\n",
        "\n",
        "    while offset <= total:\n",
        "        params = params_base.copy()\n",
        "        params['offset'] = offset\n",
        "        params['limit'] = limit\n",
        "\n",
        "        response = requests.get(endpoint, params=params)\n",
        "\n",
        "        if response.status_code != 200:\n",
        "            print(f\"Erro no offset {offset}: status code {response.status_code}\")\n",
        "            offset += step\n",
        "            continue\n",
        "\n",
        "        try:\n",
        "            data = response.json()\n",
        "        except ValueError:\n",
        "            print(f\"Erro ao converter JSON no offset {offset}\")\n",
        "            offset += step\n",
        "            continue\n",
        "\n",
        "        if not data or 'data' not in data or 'results' not in data['data']:\n",
        "            print(f\"Resposta inesperada ou vazia no offset {offset}\")\n",
        "            offset += step\n",
        "            continue\n",
        "\n",
        "        data_array.extend(data['data']['results'])\n",
        "        print(f\"Offset: {offset} | Status: {response.status_code}\")\n",
        "        offset += step\n",
        "\n",
        "    df = pd.DataFrame(data_array)\n",
        "    df.to_csv(filename, index=False)\n",
        "    print(f\"Dados salvos em {filename}\")\n",
        "    return df"
      ],
      "metadata": {
        "id": "AosHEI0sZ6TM",
        "collapsed": true
      },
      "execution_count": null,
      "outputs": []
    },
    {
      "cell_type": "markdown",
      "source": [
        "## Chamando as requisições"
      ],
      "metadata": {
        "id": "sKhCLjWBwQ_A"
      }
    },
    {
      "cell_type": "code",
      "source": [
        "df_characters = requisition(endCharacters, total, step=100, filename='Characters.csv', limit=100, params_base=params)\n",
        "\n",
        "# Events\n",
        "df_events = requisition(endEvents, totalE, step=10, filename='Events.csv', limit=10, params_base=params)\n",
        "\n",
        "# Creators\n",
        "df_creators = requisition(endCreators, totalC, step=100, filename='Creators.csv', limit=100,  params_base=params)"
      ],
      "metadata": {
        "id": "OoB1sW8AwT4g"
      },
      "execution_count": null,
      "outputs": []
    },
    {
      "cell_type": "markdown",
      "source": [
        "## Realizando Converções"
      ],
      "metadata": {
        "id": "XYN3BSod7ad1"
      }
    },
    {
      "cell_type": "code",
      "source": [
        "df_characters = df_characters[['name', 'id', 'description', 'comics', 'thumbnail']]\n",
        "df_events = df_events[['title', 'id', 'description', 'characters', 'creators', 'comics', 'start', 'end', 'modified']]\n",
        "df_creators = df_creators[['id', 'firstName', 'middleName', 'lastName', 'fullName', 'suffix', 'thumbnail','comics', 'events', 'stories', 'series']]\n",
        "df_characters['comics_available'] = df_characters['comics'].apply(lambda x: x.get('available'))\n",
        "df_characters['comics_returned'] = df_characters['comics'].apply(lambda x: x.get('returned'))\n",
        "df_characters['thumbnail_path'] = df_characters['thumbnail'].apply(lambda x: x.get('path'))\n",
        "df_characters['comics'] = df_characters['comics'].apply(lambda x: json.dumps(x))\n",
        "df_characters['thumbnail'] = df_characters['thumbnail'].apply(lambda x: json.dumps(x))\n",
        "df_events['comics_available'] = df_events['comics'].apply(lambda x: x.get('available'))\n",
        "df_events['comics_returned'] = df_events['comics'].apply(lambda x: x.get('returned'))\n",
        "df_events['comics'] = df_events['comics'].apply(lambda x: json.dumps(x))\n",
        "df_events['creators_available'] = df_events['creators'].apply(lambda x: x.get('available'))\n",
        "df_events['creators'] = df_events['creators'].apply(lambda x: json.dumps(x))\n",
        "df_events['characters_available'] = df_events['characters'].apply(lambda x: x.get('available'))\n",
        "df_events['characters'] = df_events['characters'].apply(lambda x: json.dumps(x))\n",
        "df_creators['comics_available'] = df_creators['comics'].apply(lambda x: x.get('available'))\n",
        "df_creators['events_available'] = df_creators['events'].apply(lambda x: x.get('available'))\n",
        "df_creators['stories_available'] = df_creators['stories'].apply(lambda x: x.get('available'))\n",
        "df_creators['series_available'] = df_creators['series'].apply(lambda x: x.get('available'))\n",
        "df_creators['thumbnail_path'] = df_creators['thumbnail'].apply(lambda x: x.get('path'))\n",
        "df_creators['comics'] = df_creators['comics'].apply(lambda x: json.dumps(x))\n",
        "df_creators['events'] = df_creators['events'].apply(lambda x: json.dumps(x))\n",
        "df_creators['series'] = df_creators['series'].apply(lambda x: json.dumps(x))\n",
        "df_creators['stories'] = df_creators['stories'].apply(lambda x: json.dumps(x))\n",
        "df_creators['thumbnail'] = df_creators['thumbnail'].apply(lambda x: json.dumps(x))"
      ],
      "metadata": {
        "id": "e1-f8Gpq7fzs"
      },
      "execution_count": null,
      "outputs": []
    },
    {
      "cell_type": "markdown",
      "source": [
        "## Salvando no Banco de Dados"
      ],
      "metadata": {
        "id": "1vDxgSmIaRAK"
      }
    },
    {
      "cell_type": "code",
      "source": [
        "con = sqlite3.connect('Marvel.db')\n",
        "df_characters.to_sql(\"characters\", con, if_exists=\"replace\", index=False)\n",
        "df_events.to_sql(\"events\", con, if_exists=\"replace\", index=False)\n",
        "df_creators.to_sql(\"creators\", con, if_exists=\"replace\", index=False)\n",
        "con.close()"
      ],
      "metadata": {
        "id": "PvW6DorNgeK5",
        "collapsed": true
      },
      "execution_count": null,
      "outputs": []
    },
    {
      "cell_type": "markdown",
      "source": [
        "## Consultando o Banco de Dados"
      ],
      "metadata": {
        "id": "uAPlhTz0hOIR"
      }
    },
    {
      "cell_type": "code",
      "source": [
        "con2 = sqlite3.connect('Marvel.db')\n",
        "\n",
        "df2 = pd.read_sql_query(\"SELECT id, name, description, comics, comics_available, comics_returned FROM characters\", con2)\n",
        "\n",
        "query1 = \"\"\"\n",
        "SELECT SUBSTR(name, 1, 1) AS letra_inicial, COUNT(*) AS total_por_letra\n",
        "FROM characters\n",
        "GROUP BY letra_inicial\n",
        "ORDER BY letra_inicial;\n",
        "\"\"\"\n",
        "query2 = \"\"\"\n",
        "SELECT id, name, comics_available\n",
        "FROM characters\n",
        "ORDER BY comics_available DESC\n",
        "LIMIT 10;\n",
        "\"\"\"\n",
        "\n",
        "query3 = \"\"\"\n",
        "SELECT id, name, description, comics_available\n",
        "FROM characters\n",
        "WHERE description IS NOT NULL AND description != '';\n",
        "\"\"\"\n",
        "\n",
        "query3_1 = \"\"\"\n",
        "SELECT\n",
        "  COUNT (*) FILTER (WHERE description IS NOT NULL AND description != '') AS com_descricao,\n",
        "  COUNT (*) FILTER (WHERE description IS NULL OR description = '') AS sem_descricao\n",
        "FROM characters;\n",
        "\"\"\"\n",
        "\n",
        "query4 = \"\"\"\n",
        "SELECT title, comics_available\n",
        "FROM events\n",
        "ORDER BY comics_available DESC\n",
        "LIMIT 10;\n",
        "\"\"\"\n",
        "\n",
        "query5 = \"\"\"\n",
        "SELECT title,\n",
        "       strftime('%d/%m/%Y', start) AS start_formatted,\n",
        "       strftime('%d/%m/%Y', end) AS end_formatted,\n",
        "       CAST((julianday(end) - julianday(start)) / 365.25 AS INTEGER) AS duration_in_years,\n",
        "       comics_available\n",
        "FROM events\n",
        "WHERE julianday(start) <= julianday('2025-05-16') AND julianday(end) <= julianday('2025-05-16')\n",
        "ORDER BY julianday(end) - julianday(start) DESC;\n",
        "\"\"\"\n",
        "\n",
        "query6 = \"\"\"\n",
        "SELECT title,\n",
        "       strftime('%d/%m/%Y', SUBSTR(modified, 1, 10)) AS modified,\n",
        "       strftime('%d/%m/%Y', start) AS start,\n",
        "       strftime('%d/%m/%Y', end) AS end\n",
        "FROM events\n",
        "ORDER BY SUBSTR(modified, 1, 4) DESC;\n",
        "\"\"\"\n",
        "\n",
        "query7 = \"\"\"\n",
        "SELECT title, characters_available, comics_available\n",
        "FROM events\n",
        "ORDER BY characters_available DESC\n",
        "LIMIT 10;\n",
        "\"\"\"\n",
        "\n",
        "query8 = \"\"\"\n",
        "SELECT title, characters_available, creators_available, comics_available\n",
        "FROM events\n",
        "WHERE characters_available > 0 AND creators_available > 0 AND comics_available > 0;\n",
        "\"\"\"\n",
        "\n",
        "\n",
        "query9 = \"\"\"\n",
        "SELECT  firstName, middleName, lastName, fullName, comics_available, events_available\n",
        "FROM creators\n",
        "ORDER BY comics_available DESC\n",
        "LIMIT 15;\n",
        "\"\"\"\n",
        "\n",
        "query10 = \"\"\"\n",
        "SELECT\n",
        "  COUNT(*) FILTER (WHERE thumbnail_path NOT LIKE '%image_not_available') AS Criadores_Com_Imagem_Associada,\n",
        "  COUNT(*) FILTER (WHERE thumbnail_path LIKE '%image_not_available') AS Criadores_Sem_Imagem_Associada\n",
        "FROM creators;\n",
        "\"\"\"\n",
        "\n",
        "query11 = \"\"\"\n",
        "SELECT\n",
        "  COUNT(*) FILTER (WHERE thumbnail_path NOT LIKE '%image_not_available') AS Personagens_Com_Imagem_Associada,\n",
        "  COUNT(*) FILTER (WHERE thumbnail_path LIKE '%image_not_available') AS Personagens_Sem_Imagem_Associada\n",
        "FROM characters;\n",
        "\"\"\"\n",
        "\n",
        "count_letters = pd.read_sql_query(query1, con2)\n",
        "most_comics_charatcers = pd.read_sql_query(query2, con2)\n",
        "description_characters = pd.read_sql_query(query3, con2)\n",
        "most_events_comics = pd.read_sql_query(query4, con2)\n",
        "most_duration_events = pd.read_sql_query(query5, con2)\n",
        "events_modified = pd.read_sql_query(query6, con2)\n",
        "events_most_characters = pd.read_sql_query(query7, con2)\n",
        "count_description = pd.read_sql_query(query3_1, con2)\n",
        "comics_per_events = pd.read_sql_query(query9, con2)\n",
        "creators_images = pd.read_sql_query(query10, con2)\n",
        "characters_images = pd.read_sql_query(query11, con2)\n",
        "\n",
        "con2.close()"
      ],
      "metadata": {
        "id": "g6FrJnv1hTrf"
      },
      "execution_count": null,
      "outputs": []
    },
    {
      "cell_type": "markdown",
      "source": [
        "# Funções Auxiliares"
      ],
      "metadata": {
        "id": "739CsLVS5WGx"
      }
    },
    {
      "cell_type": "code",
      "source": [
        "def plot_pie_charts(df, colors=None, figsize=(10, 6)):\n",
        "    # Plotar os gráficos de pizza\n",
        "    df_transposed = df.transpose()\n",
        "\n",
        "    axes = df_transposed.plot.pie(\n",
        "        subplots=True,\n",
        "        autopct='%1.1f%%',\n",
        "        figsize=figsize,\n",
        "        legend=False,\n",
        "        startangle=90,\n",
        "        colors=colors\n",
        "    )\n",
        "\n",
        "    # Títulos e ajustes\n",
        "    for ax, col in zip(axes, df_transposed.columns):\n",
        "        ax.set_ylabel('')  # Remove rótulo do eixo Y\n",
        "        ax.set_title(col, fontsize=12, fontweight='bold')\n",
        "\n",
        "    plt.tight_layout()\n",
        "    plt.show()\n",
        "\n",
        "def verify_first_letters(nome_completo):\n",
        "  partes_nome = nome_completo.split()\n",
        "  if len(partes_nome) >= 2:\n",
        "    nome = partes_nome[0]\n",
        "    sobrenome = partes_nome[-1] # Pega a última parte como sobrenome\n",
        "    if nome and sobrenome: # Verifica se nome e sobrenome não são vazios\n",
        "      return nome[0].lower() == sobrenome[0].lower()\n",
        "  return False # Retorna False se não for possível verificar (nome curto ou vazio)\n",
        "\n",
        "def plot_side_by_side_pies(series1, series2, titles=None, colors=None, figsize=(12, 6)):\n",
        "    fig, axes = plt.subplots(1, 2, figsize=figsize)\n",
        "\n",
        "    series1.plot.pie(\n",
        "        ax=axes[0],\n",
        "        autopct='%1.1f%%',\n",
        "        startangle=90,\n",
        "        colors=colors,\n",
        "        legend=False\n",
        "    )\n",
        "\n",
        "    series2.plot.pie(\n",
        "        ax=axes[1],\n",
        "        autopct='%1.1f%%',\n",
        "        startangle=90,\n",
        "        colors=colors,\n",
        "        legend=False\n",
        "    )\n",
        "\n",
        "    if titles:\n",
        "        axes[0].set_title(titles[0], fontsize=12, fontweight='bold')\n",
        "        axes[1].set_title(titles[1], fontsize=12, fontweight='bold')\n",
        "\n",
        "    axes[0].set_ylabel('')\n",
        "    axes[1].set_ylabel('')\n",
        "\n",
        "    plt.tight_layout()\n",
        "    plt.show()"
      ],
      "metadata": {
        "id": "8wiC2xoB5ZLv"
      },
      "execution_count": null,
      "outputs": []
    },
    {
      "cell_type": "markdown",
      "source": [
        "# Characters"
      ],
      "metadata": {
        "id": "ACNR8XrpvIqs"
      }
    },
    {
      "cell_type": "markdown",
      "source": [
        "## INSIGHT 1 Characters - Criando função para selecionar entidades que tenham nome aliterativo"
      ],
      "metadata": {
        "id": "gTT52rvk2lMu"
      }
    },
    {
      "cell_type": "code",
      "source": [
        "# Aplica a função à coluna 'name' e cria uma nova coluna booleana\n",
        "df_characters['nome_sobrenome'] = df2['name'].apply(verify_first_letters)\n",
        "\n",
        "# Para ver os personagens que atendem à condição\n",
        "df_same_letter = df_characters[df_characters['nome_sobrenome']]\n",
        "df_same_letter[['name', 'nome_sobrenome']]"
      ],
      "metadata": {
        "id": "AV5BPYZmm_lC"
      },
      "execution_count": null,
      "outputs": []
    },
    {
      "cell_type": "markdown",
      "source": [
        "## INSIGHT 2 Characters - Número de entidades por letra"
      ],
      "metadata": {
        "id": "LDuXR3vVxJ7n"
      }
    },
    {
      "cell_type": "code",
      "source": [
        "count_letters"
      ],
      "metadata": {
        "id": "iwW3ug7byRKB"
      },
      "execution_count": null,
      "outputs": []
    },
    {
      "cell_type": "markdown",
      "source": [
        "## INSIGHT 2 Characters - Gráfico"
      ],
      "metadata": {
        "id": "YhxSTXt2ySdI"
      }
    },
    {
      "cell_type": "code",
      "source": [
        "count_letters.plot.bar(x='letra_inicial', y='total_por_letra', legend=False)"
      ],
      "metadata": {
        "id": "2_J3ndMAxMW7"
      },
      "execution_count": null,
      "outputs": []
    },
    {
      "cell_type": "markdown",
      "source": [
        "## INSIGHT 3 Characters - Demonstração dos 10 personagens que tem mais quadrinhos"
      ],
      "metadata": {
        "id": "MknJYtOc_Wuq"
      }
    },
    {
      "cell_type": "code",
      "source": [
        "most_comics_charatcers.plot.bar(x='name', y='comics_available')"
      ],
      "metadata": {
        "id": "ZEymkeyC_dLV"
      },
      "execution_count": null,
      "outputs": []
    },
    {
      "cell_type": "markdown",
      "source": [
        "## INSIGHT 4 Characters - Tabela e Gráfico comparativo de Personagens que tem descrição"
      ],
      "metadata": {
        "id": "ENVHBZAtqj9w"
      }
    },
    {
      "cell_type": "code",
      "source": [
        "description_characters"
      ],
      "metadata": {
        "id": "347Jr-7_qqwK"
      },
      "execution_count": null,
      "outputs": []
    },
    {
      "cell_type": "code",
      "source": [
        "plot_pie_charts(count_description)"
      ],
      "metadata": {
        "id": "ChyY9a8oMx-m"
      },
      "execution_count": null,
      "outputs": []
    },
    {
      "cell_type": "markdown",
      "source": [
        "## INSIGHT 5 Characters - Gráfico de personagens que tem imagens e uma comparação a quantidade de Persongagens que tem descrição"
      ],
      "metadata": {
        "id": "tpNmuAuj5uP0"
      }
    },
    {
      "cell_type": "code",
      "source": [
        "plot_pie_charts(characters_images)"
      ],
      "metadata": {
        "id": "gAWTQx4y51_g"
      },
      "execution_count": null,
      "outputs": []
    },
    {
      "cell_type": "code",
      "source": [
        "plot_side_by_side_pies(\n",
        "    count_description.iloc[0],\n",
        "    characters_images.iloc[0],\n",
        "    titles=[\"Distribuição de Descrição\", \"Distribuição de Imagem\"],\n",
        "    colors=['#66c2a5', '#fc8d62']\n",
        ")"
      ],
      "metadata": {
        "id": "zfSCHZooJRKe"
      },
      "execution_count": null,
      "outputs": []
    },
    {
      "cell_type": "markdown",
      "source": [
        "# Events"
      ],
      "metadata": {
        "id": "OiLJYiW8vOHf"
      }
    },
    {
      "cell_type": "markdown",
      "source": [
        "## INSIGHT 1 Events - Os 10 eventos com mais histórias em quadrinhos"
      ],
      "metadata": {
        "id": "EPo9gM3R1LPC"
      }
    },
    {
      "cell_type": "code",
      "source": [
        "most_events_comics.plot.bar(x='title', y='comics_available')"
      ],
      "metadata": {
        "id": "--Om7hIbviP8"
      },
      "execution_count": null,
      "outputs": []
    },
    {
      "cell_type": "markdown",
      "source": [
        "## INSIGHT 2 Events - Os eventos com maior duração"
      ],
      "metadata": {
        "id": "SBWcODwA1r00"
      }
    },
    {
      "cell_type": "code",
      "source": [
        "most_duration_events"
      ],
      "metadata": {
        "id": "1YbLF2YR1vvF"
      },
      "execution_count": null,
      "outputs": []
    },
    {
      "cell_type": "code",
      "source": [
        "#df9\n",
        "df_timeline = events_modified.copy()\n",
        "\n",
        "# Converter datas de string para datetime\n",
        "df_timeline['start'] = pd.to_datetime(df_timeline['start'], format='%d/%m/%Y', errors='coerce')\n",
        "df_timeline['end'] = pd.to_datetime(df_timeline['end'], format='%d/%m/%Y', errors='coerce')\n",
        "\n",
        "# Remover eventos com datas inválidas\n",
        "df_timeline = df_timeline.dropna(subset=['start', 'end'])\n",
        "\n",
        "# Ordenar por data de início\n",
        "df_timeline = df_timeline.sort_values(by='start')\n",
        "plt.figure(figsize=(12, len(df_timeline) * 0.14))  # ajusta altura dinamicamente\n",
        "plt.margins(y=0)\n",
        "\n",
        "# Índice para os nomes dos eventos\n",
        "y_positions = range(len(df_timeline))\n",
        "\n",
        "# Plotar as barras horizontais\n",
        "plt.barh(\n",
        "    y=y_positions,\n",
        "    width=(df_timeline['end'] - df_timeline['start']).dt.days,\n",
        "    left=df_timeline['start'],\n",
        "    color='skyblue'\n",
        ")\n",
        "\n",
        "# Nome dos eventos no eixo Y\n",
        "plt.yticks(ticks=y_positions, labels=df_timeline['title'])\n",
        "\n",
        "# Formatando o eixo X para mostrar ano\n",
        "plt.gca().xaxis_date()\n",
        "plt.xlabel('Ano')\n",
        "plt.title('Linha do Tempo dos Eventos Marvel')\n",
        "plt.grid(True, axis='x')\n",
        "plt.tight_layout()\n",
        "plt.show()"
      ],
      "metadata": {
        "id": "yPJJo8v4w1KQ"
      },
      "execution_count": null,
      "outputs": []
    },
    {
      "cell_type": "markdown",
      "source": [
        "## INSIGHT 3 Events - Eventos modificados mais recentemente"
      ],
      "metadata": {
        "id": "UH6Do1vvd_L7"
      }
    },
    {
      "cell_type": "code",
      "source": [
        "events_modified"
      ],
      "metadata": {
        "id": "bSNf_P1weJg7"
      },
      "execution_count": null,
      "outputs": []
    },
    {
      "cell_type": "markdown",
      "source": [
        "## INSIGHT 4 Events - Distribuição de Personagens por Duração do Evento dos 10 Eventos mais longos"
      ],
      "metadata": {
        "id": "ErFdG4NPcW8h"
      }
    },
    {
      "cell_type": "code",
      "source": [
        "plt.figure(figsize=(10, 6))  # ajusta altura dinamicamente\n",
        "scatter = plt.scatter(\n",
        "    x=events_most_characters['characters_available'],\n",
        "    y=events_most_characters['title'],\n",
        "    s=events_most_characters['comics_available'] * 2,  # tamanho da bolha (ajuste o fator)\n",
        "    c=events_most_characters['comics_available'],  # cor baseada em quadrinhos\n",
        "    cmap='viridis',\n",
        "    alpha=0.7,\n",
        "    edgecolors='black'\n",
        ")\n",
        "\n",
        "plt.xlabel('Personagens Disponíveis')\n",
        "plt.ylabel('Titulo do Evento')\n",
        "plt.title('Escala dos Eventos Marvel: Relação entre Personagens e Quadrinhos')\n",
        "plt.colorbar(scatter, label='Quadrinhos Disponíveis')\n",
        "plt.grid(True)\n",
        "plt.tight_layout()\n",
        "plt.show()"
      ],
      "metadata": {
        "id": "WDO3tzUWcYlu"
      },
      "execution_count": null,
      "outputs": []
    },
    {
      "cell_type": "markdown",
      "source": [
        "# Creators"
      ],
      "metadata": {
        "id": "tspKlyyuvRXq"
      }
    },
    {
      "cell_type": "markdown",
      "source": [
        "## INSIGHT 1 Creators - Distribuição entre quantos comics o autor escreveu e em quantos eventos estava"
      ],
      "metadata": {
        "id": "POb1lIJ8_f7A"
      }
    },
    {
      "cell_type": "code",
      "source": [
        "plt.figure(figsize=(10, 8))\n",
        "\n",
        "scatter = plt.scatter(\n",
        "    x=comics_per_events['events_available'],\n",
        "    y=comics_per_events['fullName'],\n",
        "    s=comics_per_events['comics_available'],  # tamanho da bolha\n",
        "    c=comics_per_events['comics_available'],      # cor baseada nos quadrinhos\n",
        "    cmap='plasma',\n",
        "    alpha=0.7,\n",
        "    edgecolors='black'\n",
        ")\n",
        "\n",
        "plt.xlabel('Eventos Disponíveis')\n",
        "plt.ylabel('Nome do Criador')\n",
        "plt.title('Criadores: Participação em Eventos vs Quadrinhos (Tamanho/Cor)')\n",
        "plt.colorbar(scatter, label='Quadrinhos Disponíveis')\n",
        "plt.grid(True)\n",
        "plt.tight_layout()\n",
        "plt.show()"
      ],
      "metadata": {
        "id": "laH2UdKX9VpY"
      },
      "execution_count": null,
      "outputs": []
    },
    {
      "cell_type": "markdown",
      "source": [
        "## INSIGHT 2 Creators - Comparação de Creators com imagens associadas e sem imagens associadas"
      ],
      "metadata": {
        "id": "xvY9w_FuIwdL"
      }
    },
    {
      "cell_type": "code",
      "source": [
        "plot_pie_charts(creators_images)"
      ],
      "metadata": {
        "id": "85M5WTIEaGfz"
      },
      "execution_count": null,
      "outputs": []
    }
  ]
}