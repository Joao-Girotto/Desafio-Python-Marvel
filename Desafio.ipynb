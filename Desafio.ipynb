{
  "nbformat": 4,
  "nbformat_minor": 0,
  "metadata": {
    "colab": {
      "provenance": [],
      "authorship_tag": "ABX9TyPW98oPB3uJ5bhcRbNHYDEJ",
      "include_colab_link": true
    },
    "kernelspec": {
      "name": "python3",
      "display_name": "Python 3"
    },
    "language_info": {
      "name": "python"
    }
  },
  "cells": [
    {
      "cell_type": "markdown",
      "metadata": {
        "id": "view-in-github",
        "colab_type": "text"
      },
      "source": [
        "<a href=\"https://colab.research.google.com/github/Joao-Girotto/Desafio-Python-Marvel/blob/main/Desafio.ipynb\" target=\"_parent\"><img src=\"https://colab.research.google.com/assets/colab-badge.svg\" alt=\"Open In Colab\"/></a>"
      ]
    },
    {
      "cell_type": "markdown",
      "source": [
        "## Instalações"
      ],
      "metadata": {
        "id": "zfZ-n2QCX375"
      }
    },
    {
      "cell_type": "code",
      "source": [
        "!pip install dotenv"
      ],
      "metadata": {
        "colab": {
          "base_uri": "https://localhost:8080/"
        },
        "id": "KT13hN1jX764",
        "outputId": "9722723e-2065-4650-8f76-de70790ca34f"
      },
      "execution_count": 12,
      "outputs": [
        {
          "output_type": "stream",
          "name": "stdout",
          "text": [
            "Collecting dotenv\n",
            "  Downloading dotenv-0.9.9-py2.py3-none-any.whl.metadata (279 bytes)\n",
            "Collecting python-dotenv (from dotenv)\n",
            "  Downloading python_dotenv-1.1.0-py3-none-any.whl.metadata (24 kB)\n",
            "Downloading dotenv-0.9.9-py2.py3-none-any.whl (1.9 kB)\n",
            "Downloading python_dotenv-1.1.0-py3-none-any.whl (20 kB)\n",
            "Installing collected packages: python-dotenv, dotenv\n",
            "Successfully installed dotenv-0.9.9 python-dotenv-1.1.0\n"
          ]
        }
      ]
    },
    {
      "cell_type": "markdown",
      "source": [
        "## Importações"
      ],
      "metadata": {
        "id": "TivNY55WXDW7"
      }
    },
    {
      "cell_type": "code",
      "source": [
        "import requests\n",
        "import hashlib\n",
        "import os\n",
        "import time\n",
        "import pandas as pd\n",
        "from dotenv import load_dotenv"
      ],
      "metadata": {
        "id": "uJi_FpQ0XJje"
      },
      "execution_count": 13,
      "outputs": []
    },
    {
      "cell_type": "markdown",
      "source": [
        "## Pegando as chaves"
      ],
      "metadata": {
        "id": "C9Z3SJZZXUqL"
      }
    },
    {
      "cell_type": "code",
      "source": [
        "load_dotenv()\n",
        "PUBLIC_KEY = os.getenv(\"Public_Key\")\n",
        "PRIVATE_KEY = os.getenv(\"Private_Key\")"
      ],
      "metadata": {
        "id": "IF71H-aLXYnG"
      },
      "execution_count": 22,
      "outputs": []
    },
    {
      "cell_type": "markdown",
      "source": [
        "## Endpoints e Parâmetros"
      ],
      "metadata": {
        "id": "uB07W7QkZ0N3"
      }
    },
    {
      "cell_type": "code",
      "source": [
        "ts = str(time.time())\n",
        "to_hash = ts + PRIVATE_KEY + PUBLIC_KEY\n",
        "hash_md5 = hashlib.md5(to_hash.encode()).hexdigest()\n",
        "\n",
        "end1 = \"https://gateway.marvel.com/v1/public/characters\"\n",
        "end2 = \"https://gateway.marvel.com/v1/public/comics\"\n",
        "end3 = \"https://gateway.marvel.com/v1/public/books\"\n",
        "\n",
        "\n",
        "params = {\n",
        "    \"apikey\": PUBLIC_KEY,\n",
        "    \"ts\": ts,\n",
        "    \"hash\": hash_md5,\n",
        "    \"limit\": 10\n",
        "}"
      ],
      "metadata": {
        "id": "31vG2b7TC4wm"
      },
      "execution_count": 25,
      "outputs": []
    },
    {
      "cell_type": "markdown",
      "source": [
        "## Requisição"
      ],
      "metadata": {
        "id": "HomMsH_aZ37k"
      }
    },
    {
      "cell_type": "code",
      "source": [
        "response = requests.get(end1, params=params)\n",
        "\n",
        "response\n",
        "data = response.json()\n",
        "\n",
        "df = pd.DataFrame(data)\n",
        "df_extraido = pd.json_normalize(df['data']['results'])"
      ],
      "metadata": {
        "id": "AosHEI0sZ6TM"
      },
      "execution_count": 23,
      "outputs": []
    },
    {
      "cell_type": "markdown",
      "source": [
        "## Exibição"
      ],
      "metadata": {
        "id": "1vDxgSmIaRAK"
      }
    },
    {
      "cell_type": "code",
      "source": [
        "dsa = df_extraido['name']"
      ],
      "metadata": {
        "id": "PvW6DorNgeK5",
        "collapsed": true
      },
      "execution_count": 27,
      "outputs": []
    },
    {
      "cell_type": "markdown",
      "source": [],
      "metadata": {
        "id": "Xdpfp3mEbV4D"
      }
    }
  ]
}